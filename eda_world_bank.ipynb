{
 "cells": [
  {
   "cell_type": "markdown",
   "metadata": {},
   "source": [
    "# Loading the libraries and looking at the data"
   ]
  },
  {
   "cell_type": "code",
   "execution_count": 90,
   "metadata": {},
   "outputs": [],
   "source": [
    "import numpy as np \n",
    "import pandas as pd \n",
    "import os\n",
    "import matplotlib.pyplot as plt\n",
    "import plotly.express as px\n",
    "import seaborn as sns\n",
    "\n",
    "data = pd.read_csv('world_bank_dataset.csv')"
   ]
  },
  {
   "cell_type": "code",
   "execution_count": 91,
   "metadata": {},
   "outputs": [
    {
     "data": {
      "text/html": [
       "<div>\n",
       "<style scoped>\n",
       "    .dataframe tbody tr th:only-of-type {\n",
       "        vertical-align: middle;\n",
       "    }\n",
       "\n",
       "    .dataframe tbody tr th {\n",
       "        vertical-align: top;\n",
       "    }\n",
       "\n",
       "    .dataframe thead th {\n",
       "        text-align: right;\n",
       "    }\n",
       "</style>\n",
       "<table border=\"1\" class=\"dataframe\">\n",
       "  <thead>\n",
       "    <tr style=\"text-align: right;\">\n",
       "      <th></th>\n",
       "      <th>Country</th>\n",
       "      <th>Year</th>\n",
       "      <th>GDP (USD)</th>\n",
       "      <th>Population</th>\n",
       "      <th>Life Expectancy</th>\n",
       "      <th>Unemployment Rate (%)</th>\n",
       "      <th>CO2 Emissions (metric tons per capita)</th>\n",
       "      <th>Access to Electricity (%)</th>\n",
       "    </tr>\n",
       "  </thead>\n",
       "  <tbody>\n",
       "    <tr>\n",
       "      <th>0</th>\n",
       "      <td>Brazil</td>\n",
       "      <td>2010</td>\n",
       "      <td>1.493220e+12</td>\n",
       "      <td>829020000.0</td>\n",
       "      <td>66.7</td>\n",
       "      <td>3.81</td>\n",
       "      <td>10.79</td>\n",
       "      <td>76.76</td>\n",
       "    </tr>\n",
       "    <tr>\n",
       "      <th>1</th>\n",
       "      <td>Japan</td>\n",
       "      <td>2011</td>\n",
       "      <td>1.756270e+13</td>\n",
       "      <td>897010000.0</td>\n",
       "      <td>61.4</td>\n",
       "      <td>17.98</td>\n",
       "      <td>15.67</td>\n",
       "      <td>67.86</td>\n",
       "    </tr>\n",
       "    <tr>\n",
       "      <th>2</th>\n",
       "      <td>India</td>\n",
       "      <td>2012</td>\n",
       "      <td>1.642688e+13</td>\n",
       "      <td>669850000.0</td>\n",
       "      <td>69.1</td>\n",
       "      <td>16.02</td>\n",
       "      <td>2.08</td>\n",
       "      <td>81.08</td>\n",
       "    </tr>\n",
       "    <tr>\n",
       "      <th>3</th>\n",
       "      <td>Mexico</td>\n",
       "      <td>2013</td>\n",
       "      <td>1.189001e+13</td>\n",
       "      <td>113800000.0</td>\n",
       "      <td>80.1</td>\n",
       "      <td>6.26</td>\n",
       "      <td>19.13</td>\n",
       "      <td>53.46</td>\n",
       "    </tr>\n",
       "    <tr>\n",
       "      <th>4</th>\n",
       "      <td>India</td>\n",
       "      <td>2014</td>\n",
       "      <td>2.673020e+12</td>\n",
       "      <td>29710000.0</td>\n",
       "      <td>62.7</td>\n",
       "      <td>3.10</td>\n",
       "      <td>15.66</td>\n",
       "      <td>82.17</td>\n",
       "    </tr>\n",
       "  </tbody>\n",
       "</table>\n",
       "</div>"
      ],
      "text/plain": [
       "  Country  Year     GDP (USD)   Population  Life Expectancy  \\\n",
       "0  Brazil  2010  1.493220e+12  829020000.0             66.7   \n",
       "1   Japan  2011  1.756270e+13  897010000.0             61.4   \n",
       "2   India  2012  1.642688e+13  669850000.0             69.1   \n",
       "3  Mexico  2013  1.189001e+13  113800000.0             80.1   \n",
       "4   India  2014  2.673020e+12   29710000.0             62.7   \n",
       "\n",
       "   Unemployment Rate (%)  CO2 Emissions (metric tons per capita)  \\\n",
       "0                   3.81                                   10.79   \n",
       "1                  17.98                                   15.67   \n",
       "2                  16.02                                    2.08   \n",
       "3                   6.26                                   19.13   \n",
       "4                   3.10                                   15.66   \n",
       "\n",
       "   Access to Electricity (%)  \n",
       "0                      76.76  \n",
       "1                      67.86  \n",
       "2                      81.08  \n",
       "3                      53.46  \n",
       "4                      82.17  "
      ]
     },
     "execution_count": 91,
     "metadata": {},
     "output_type": "execute_result"
    }
   ],
   "source": [
    "data.head()"
   ]
  },
  {
   "cell_type": "code",
   "execution_count": 92,
   "metadata": {},
   "outputs": [
    {
     "data": {
      "text/plain": [
       "Country                                   0\n",
       "Year                                      0\n",
       "GDP (USD)                                 0\n",
       "Population                                0\n",
       "Life Expectancy                           0\n",
       "Unemployment Rate (%)                     0\n",
       "CO2 Emissions (metric tons per capita)    0\n",
       "Access to Electricity (%)                 0\n",
       "dtype: int64"
      ]
     },
     "execution_count": 92,
     "metadata": {},
     "output_type": "execute_result"
    }
   ],
   "source": [
    "data.isnull().sum()"
   ]
  },
  {
   "cell_type": "code",
   "execution_count": 93,
   "metadata": {},
   "outputs": [
    {
     "data": {
      "text/html": [
       "<div>\n",
       "<style scoped>\n",
       "    .dataframe tbody tr th:only-of-type {\n",
       "        vertical-align: middle;\n",
       "    }\n",
       "\n",
       "    .dataframe tbody tr th {\n",
       "        vertical-align: top;\n",
       "    }\n",
       "\n",
       "    .dataframe thead th {\n",
       "        text-align: right;\n",
       "    }\n",
       "</style>\n",
       "<table border=\"1\" class=\"dataframe\">\n",
       "  <thead>\n",
       "    <tr style=\"text-align: right;\">\n",
       "      <th></th>\n",
       "      <th>Year</th>\n",
       "      <th>GDP (USD)</th>\n",
       "      <th>Population</th>\n",
       "      <th>Life Expectancy</th>\n",
       "      <th>Unemployment Rate (%)</th>\n",
       "      <th>CO2 Emissions (metric tons per capita)</th>\n",
       "      <th>Access to Electricity (%)</th>\n",
       "    </tr>\n",
       "  </thead>\n",
       "  <tbody>\n",
       "    <tr>\n",
       "      <th>count</th>\n",
       "      <td>200.000000</td>\n",
       "      <td>2.000000e+02</td>\n",
       "      <td>2.000000e+02</td>\n",
       "      <td>200.000000</td>\n",
       "      <td>200.000000</td>\n",
       "      <td>200.000000</td>\n",
       "      <td>200.000000</td>\n",
       "    </tr>\n",
       "    <tr>\n",
       "      <th>mean</th>\n",
       "      <td>2014.500000</td>\n",
       "      <td>1.056867e+13</td>\n",
       "      <td>7.387908e+08</td>\n",
       "      <td>66.324500</td>\n",
       "      <td>13.271650</td>\n",
       "      <td>10.058200</td>\n",
       "      <td>72.876750</td>\n",
       "    </tr>\n",
       "    <tr>\n",
       "      <th>std</th>\n",
       "      <td>2.879489</td>\n",
       "      <td>5.547703e+12</td>\n",
       "      <td>4.389956e+08</td>\n",
       "      <td>9.818859</td>\n",
       "      <td>6.804166</td>\n",
       "      <td>5.712125</td>\n",
       "      <td>14.791291</td>\n",
       "    </tr>\n",
       "    <tr>\n",
       "      <th>min</th>\n",
       "      <td>2010.000000</td>\n",
       "      <td>1.011720e+12</td>\n",
       "      <td>9.970000e+06</td>\n",
       "      <td>50.500000</td>\n",
       "      <td>2.270000</td>\n",
       "      <td>0.810000</td>\n",
       "      <td>50.120000</td>\n",
       "    </tr>\n",
       "    <tr>\n",
       "      <th>25%</th>\n",
       "      <td>2012.000000</td>\n",
       "      <td>5.774120e+12</td>\n",
       "      <td>3.533775e+08</td>\n",
       "      <td>57.775000</td>\n",
       "      <td>6.810000</td>\n",
       "      <td>4.882500</td>\n",
       "      <td>60.315000</td>\n",
       "    </tr>\n",
       "    <tr>\n",
       "      <th>50%</th>\n",
       "      <td>2014.500000</td>\n",
       "      <td>1.050615e+13</td>\n",
       "      <td>7.216700e+08</td>\n",
       "      <td>64.900000</td>\n",
       "      <td>13.470000</td>\n",
       "      <td>9.745000</td>\n",
       "      <td>70.280000</td>\n",
       "    </tr>\n",
       "    <tr>\n",
       "      <th>75%</th>\n",
       "      <td>2017.000000</td>\n",
       "      <td>1.503451e+13</td>\n",
       "      <td>1.090860e+09</td>\n",
       "      <td>74.500000</td>\n",
       "      <td>18.542500</td>\n",
       "      <td>15.622500</td>\n",
       "      <td>86.297500</td>\n",
       "    </tr>\n",
       "    <tr>\n",
       "      <th>max</th>\n",
       "      <td>2019.000000</td>\n",
       "      <td>1.998377e+13</td>\n",
       "      <td>1.498060e+09</td>\n",
       "      <td>84.900000</td>\n",
       "      <td>24.790000</td>\n",
       "      <td>19.840000</td>\n",
       "      <td>99.760000</td>\n",
       "    </tr>\n",
       "  </tbody>\n",
       "</table>\n",
       "</div>"
      ],
      "text/plain": [
       "              Year     GDP (USD)    Population  Life Expectancy  \\\n",
       "count   200.000000  2.000000e+02  2.000000e+02       200.000000   \n",
       "mean   2014.500000  1.056867e+13  7.387908e+08        66.324500   \n",
       "std       2.879489  5.547703e+12  4.389956e+08         9.818859   \n",
       "min    2010.000000  1.011720e+12  9.970000e+06        50.500000   \n",
       "25%    2012.000000  5.774120e+12  3.533775e+08        57.775000   \n",
       "50%    2014.500000  1.050615e+13  7.216700e+08        64.900000   \n",
       "75%    2017.000000  1.503451e+13  1.090860e+09        74.500000   \n",
       "max    2019.000000  1.998377e+13  1.498060e+09        84.900000   \n",
       "\n",
       "       Unemployment Rate (%)  CO2 Emissions (metric tons per capita)  \\\n",
       "count             200.000000                              200.000000   \n",
       "mean               13.271650                               10.058200   \n",
       "std                 6.804166                                5.712125   \n",
       "min                 2.270000                                0.810000   \n",
       "25%                 6.810000                                4.882500   \n",
       "50%                13.470000                                9.745000   \n",
       "75%                18.542500                               15.622500   \n",
       "max                24.790000                               19.840000   \n",
       "\n",
       "       Access to Electricity (%)  \n",
       "count                 200.000000  \n",
       "mean                   72.876750  \n",
       "std                    14.791291  \n",
       "min                    50.120000  \n",
       "25%                    60.315000  \n",
       "50%                    70.280000  \n",
       "75%                    86.297500  \n",
       "max                    99.760000  "
      ]
     },
     "execution_count": 93,
     "metadata": {},
     "output_type": "execute_result"
    }
   ],
   "source": [
    "data.describe()"
   ]
  },
  {
   "cell_type": "code",
   "execution_count": 94,
   "metadata": {},
   "outputs": [
    {
     "name": "stdout",
     "output_type": "stream",
     "text": [
      "<class 'pandas.core.frame.DataFrame'>\n",
      "RangeIndex: 200 entries, 0 to 199\n",
      "Data columns (total 8 columns):\n",
      " #   Column                                  Non-Null Count  Dtype  \n",
      "---  ------                                  --------------  -----  \n",
      " 0   Country                                 200 non-null    object \n",
      " 1   Year                                    200 non-null    int64  \n",
      " 2   GDP (USD)                               200 non-null    float64\n",
      " 3   Population                              200 non-null    float64\n",
      " 4   Life Expectancy                         200 non-null    float64\n",
      " 5   Unemployment Rate (%)                   200 non-null    float64\n",
      " 6   CO2 Emissions (metric tons per capita)  200 non-null    float64\n",
      " 7   Access to Electricity (%)               200 non-null    float64\n",
      "dtypes: float64(6), int64(1), object(1)\n",
      "memory usage: 12.6+ KB\n"
     ]
    }
   ],
   "source": [
    "data.info()"
   ]
  },
  {
   "cell_type": "code",
   "execution_count": 95,
   "metadata": {},
   "outputs": [
    {
     "name": "stdout",
     "output_type": "stream",
     "text": [
      "<class 'pandas.core.frame.DataFrame'>\n",
      "Index: 129 entries, 0 to 198\n",
      "Data columns (total 8 columns):\n",
      " #   Column                                  Non-Null Count  Dtype  \n",
      "---  ------                                  --------------  -----  \n",
      " 0   Country                                 129 non-null    object \n",
      " 1   Year                                    129 non-null    int64  \n",
      " 2   GDP (USD)                               129 non-null    float64\n",
      " 3   Population                              129 non-null    float64\n",
      " 4   Life Expectancy                         129 non-null    float64\n",
      " 5   Unemployment Rate (%)                   129 non-null    float64\n",
      " 6   CO2 Emissions (metric tons per capita)  129 non-null    float64\n",
      " 7   Access to Electricity (%)               129 non-null    float64\n",
      "dtypes: float64(6), int64(1), object(1)\n",
      "memory usage: 9.1+ KB\n"
     ]
    }
   ],
   "source": [
    "#if country is in the list more than once, drop the duplicates\n",
    "data = data.drop_duplicates(subset=['Country','Year'])\n",
    "data.info()"
   ]
  },
  {
   "cell_type": "code",
   "execution_count": 96,
   "metadata": {},
   "outputs": [
    {
     "name": "stdout",
     "output_type": "stream",
     "text": [
      "<class 'pandas.core.frame.DataFrame'>\n",
      "Index: 129 entries, 0 to 198\n",
      "Data columns (total 8 columns):\n",
      " #   Column                                  Non-Null Count  Dtype  \n",
      "---  ------                                  --------------  -----  \n",
      " 0   Country                                 129 non-null    object \n",
      " 1   Year                                    129 non-null    int64  \n",
      " 2   GDP (USD)                               129 non-null    float64\n",
      " 3   Population                              129 non-null    float64\n",
      " 4   Life Expectancy                         129 non-null    float64\n",
      " 5   Unemployment Rate (%)                   129 non-null    float64\n",
      " 6   CO2 Emissions (metric tons per capita)  129 non-null    float64\n",
      " 7   Access to Electricity (%)               129 non-null    float64\n",
      "dtypes: float64(6), int64(1), object(1)\n",
      "memory usage: 9.1+ KB\n"
     ]
    }
   ],
   "source": [
    "data.info()\n"
   ]
  },
  {
   "cell_type": "markdown",
   "metadata": {},
   "source": [
    "## Plotting the data on the world map"
   ]
  },
  {
   "cell_type": "code",
   "execution_count": 97,
   "metadata": {},
   "outputs": [
    {
     "data": {
      "application/vnd.plotly.v1+json": {
       "config": {
        "plotlyServerURL": "https://plot.ly"
       },
       "data": [
        {
         "geo": "geo",
         "hovertemplate": "Year=2010<br>GDP (USD)=%{marker.color}<br>Country=%{location}<extra></extra>",
         "legendgroup": "",
         "locationmode": "country names",
         "locations": [
          "Brazil",
          "Canada",
          "Saudi Arabia",
          "United States",
          "China",
          "Italy",
          "Australia",
          "South Africa",
          "Argentina",
          "Japan",
          "Germany",
          "India"
         ],
         "marker": {
          "color": [
           1493220000000,
           13802700000000,
           11649850000000,
           19635370000000,
           11051540000000,
           5037070000000,
           5407850000000,
           7485750000000,
           17956630000000,
           8351719999999.999,
           19572400000000,
           4299150000000
          ],
          "coloraxis": "coloraxis",
          "size": [
           1493220000000,
           13802700000000,
           11649850000000,
           19635370000000,
           11051540000000,
           5037070000000,
           5407850000000,
           7485750000000,
           17956630000000,
           8351719999999.999,
           19572400000000,
           4299150000000
          ],
          "sizemode": "area",
          "sizeref": 49925725000,
          "symbol": "circle"
         },
         "mode": "markers",
         "name": "",
         "showlegend": false,
         "type": "scattergeo"
        }
       ],
       "frames": [
        {
         "data": [
          {
           "geo": "geo",
           "hovertemplate": "Year=2010<br>GDP (USD)=%{marker.color}<br>Country=%{location}<extra></extra>",
           "legendgroup": "",
           "locationmode": "country names",
           "locations": [
            "Brazil",
            "Canada",
            "Saudi Arabia",
            "United States",
            "China",
            "Italy",
            "Australia",
            "South Africa",
            "Argentina",
            "Japan",
            "Germany",
            "India"
           ],
           "marker": {
            "color": [
             1493220000000,
             13802700000000,
             11649850000000,
             19635370000000,
             11051540000000,
             5037070000000,
             5407850000000,
             7485750000000,
             17956630000000,
             8351719999999.999,
             19572400000000,
             4299150000000
            ],
            "coloraxis": "coloraxis",
            "size": [
             1493220000000,
             13802700000000,
             11649850000000,
             19635370000000,
             11051540000000,
             5037070000000,
             5407850000000,
             7485750000000,
             17956630000000,
             8351719999999.999,
             19572400000000,
             4299150000000
            ],
            "sizemode": "area",
            "sizeref": 49925725000,
            "symbol": "circle"
           },
           "mode": "markers",
           "name": "",
           "showlegend": false,
           "type": "scattergeo"
          }
         ],
         "name": "2010"
        },
        {
         "data": [
          {
           "geo": "geo",
           "hovertemplate": "Year=2011<br>GDP (USD)=%{marker.color}<br>Country=%{location}<extra></extra>",
           "legendgroup": "",
           "locationmode": "country names",
           "locations": [
            "Japan",
            "Argentina",
            "Russia",
            "United Kingdom",
            "Indonesia",
            "Canada",
            "India",
            "China",
            "Saudi Arabia",
            "Australia",
            "Nigeria",
            "Italy",
            "Mexico",
            "Germany",
            "Turkey"
           ],
           "marker": {
            "color": [
             17562700000000,
             19337350000000,
             6110630000000,
             13235260000000,
             2860590000000,
             6456990000000,
             12017460000000,
             19655420000000,
             2948880000000,
             5695130000000,
             12892520000000,
             19164340000000,
             15695540000000,
             10278320000000,
             18441030000000
            ],
            "coloraxis": "coloraxis",
            "size": [
             17562700000000,
             19337350000000,
             6110630000000,
             13235260000000,
             2860590000000,
             6456990000000,
             12017460000000,
             19655420000000,
             2948880000000,
             5695130000000,
             12892520000000,
             19164340000000,
             15695540000000,
             10278320000000,
             18441030000000
            ],
            "sizemode": "area",
            "sizeref": 49925725000,
            "symbol": "circle"
           },
           "mode": "markers",
           "name": "",
           "showlegend": false,
           "type": "scattergeo"
          }
         ],
         "name": "2011"
        },
        {
         "data": [
          {
           "geo": "geo",
           "hovertemplate": "Year=2012<br>GDP (USD)=%{marker.color}<br>Country=%{location}<extra></extra>",
           "legendgroup": "",
           "locationmode": "country names",
           "locations": [
            "India",
            "France",
            "Nigeria",
            "United States",
            "United Kingdom",
            "South Africa",
            "Russia",
            "Argentina",
            "Turkey",
            "Indonesia"
           ],
           "marker": {
            "color": [
             16426880000000.002,
             8354820000000,
             3299410000000,
             17950000000000,
             16433610000000,
             3261270000000,
             18586900000000,
             12523950000000,
             13647160000000,
             7460330000000
            ],
            "coloraxis": "coloraxis",
            "size": [
             16426880000000.002,
             8354820000000,
             3299410000000,
             17950000000000,
             16433610000000,
             3261270000000,
             18586900000000,
             12523950000000,
             13647160000000,
             7460330000000
            ],
            "sizemode": "area",
            "sizeref": 49925725000,
            "symbol": "circle"
           },
           "mode": "markers",
           "name": "",
           "showlegend": false,
           "type": "scattergeo"
          }
         ],
         "name": "2012"
        },
        {
         "data": [
          {
           "geo": "geo",
           "hovertemplate": "Year=2013<br>GDP (USD)=%{marker.color}<br>Country=%{location}<extra></extra>",
           "legendgroup": "",
           "locationmode": "country names",
           "locations": [
            "Mexico",
            "Nigeria",
            "China",
            "Brazil",
            "Italy",
            "Russia",
            "United Kingdom",
            "United States",
            "South Korea",
            "Germany",
            "Turkey",
            "Canada",
            "Indonesia",
            "France"
           ],
           "marker": {
            "color": [
             11890010000000,
             6052290000000,
             17735350000000,
             3323420000000,
             8101070000000,
             15796990000000,
             5435660000000,
             13252320000000,
             14746130000000,
             2464050000000,
             15421280000000,
             18790030000000,
             2375280000000,
             18185700000000
            ],
            "coloraxis": "coloraxis",
            "size": [
             11890010000000,
             6052290000000,
             17735350000000,
             3323420000000,
             8101070000000,
             15796990000000,
             5435660000000,
             13252320000000,
             14746130000000,
             2464050000000,
             15421280000000,
             18790030000000,
             2375280000000,
             18185700000000
            ],
            "sizemode": "area",
            "sizeref": 49925725000,
            "symbol": "circle"
           },
           "mode": "markers",
           "name": "",
           "showlegend": false,
           "type": "scattergeo"
          }
         ],
         "name": "2013"
        },
        {
         "data": [
          {
           "geo": "geo",
           "hovertemplate": "Year=2014<br>GDP (USD)=%{marker.color}<br>Country=%{location}<extra></extra>",
           "legendgroup": "",
           "locationmode": "country names",
           "locations": [
            "India",
            "Italy",
            "United States",
            "Nigeria",
            "Brazil",
            "Indonesia",
            "South Africa",
            "France",
            "Canada",
            "Mexico",
            "Russia",
            "Germany"
           ],
           "marker": {
            "color": [
             2673020000000,
             5800450000000,
             13183730000000,
             4359940000000,
             11803690000000,
             9182600000000,
             7818680000000,
             10668930000000,
             14397790000000,
             9244960000000,
             18979150000000,
             5277580000000
            ],
            "coloraxis": "coloraxis",
            "size": [
             2673020000000,
             5800450000000,
             13183730000000,
             4359940000000,
             11803690000000,
             9182600000000,
             7818680000000,
             10668930000000,
             14397790000000,
             9244960000000,
             18979150000000,
             5277580000000
            ],
            "sizemode": "area",
            "sizeref": 49925725000,
            "symbol": "circle"
           },
           "mode": "markers",
           "name": "",
           "showlegend": false,
           "type": "scattergeo"
          }
         ],
         "name": "2014"
        },
        {
         "data": [
          {
           "geo": "geo",
           "hovertemplate": "Year=2015<br>GDP (USD)=%{marker.color}<br>Country=%{location}<extra></extra>",
           "legendgroup": "",
           "locationmode": "country names",
           "locations": [
            "United Kingdom",
            "Indonesia",
            "Argentina",
            "Italy",
            "China",
            "India",
            "Nigeria",
            "Germany",
            "Russia",
            "Japan",
            "South Africa",
            "Canada",
            "Brazil"
           ],
           "marker": {
            "color": [
             10711800000000,
             10058870000000,
             1549940000000,
             19306190000000,
             6739310000000,
             9980710000000,
             15033350000000,
             1157770000000,
             7999460000000,
             8922760000000,
             1575330000000,
             8795260000000,
             7406730000000
            ],
            "coloraxis": "coloraxis",
            "size": [
             10711800000000,
             10058870000000,
             1549940000000,
             19306190000000,
             6739310000000,
             9980710000000,
             15033350000000,
             1157770000000,
             7999460000000,
             8922760000000,
             1575330000000,
             8795260000000,
             7406730000000
            ],
            "sizemode": "area",
            "sizeref": 49925725000,
            "symbol": "circle"
           },
           "mode": "markers",
           "name": "",
           "showlegend": false,
           "type": "scattergeo"
          }
         ],
         "name": "2015"
        },
        {
         "data": [
          {
           "geo": "geo",
           "hovertemplate": "Year=2016<br>GDP (USD)=%{marker.color}<br>Country=%{location}<extra></extra>",
           "legendgroup": "",
           "locationmode": "country names",
           "locations": [
            "China",
            "Turkey",
            "Germany",
            "Saudi Arabia",
            "India",
            "Canada",
            "South Korea",
            "Australia",
            "United Kingdom",
            "Argentina",
            "Russia",
            "Indonesia",
            "South Africa"
           ],
           "marker": {
            "color": [
             6791480000000,
             6110370000000,
             7563440000000,
             8399040000000.001,
             18649290000000,
             15408270000000,
             4023090000000,
             3604370000000,
             2422510000000,
             4524260000000,
             5874760000000,
             11434540000000,
             13649640000000
            ],
            "coloraxis": "coloraxis",
            "size": [
             6791480000000,
             6110370000000,
             7563440000000,
             8399040000000.001,
             18649290000000,
             15408270000000,
             4023090000000,
             3604370000000,
             2422510000000,
             4524260000000,
             5874760000000,
             11434540000000,
             13649640000000
            ],
            "sizemode": "area",
            "sizeref": 49925725000,
            "symbol": "circle"
           },
           "mode": "markers",
           "name": "",
           "showlegend": false,
           "type": "scattergeo"
          }
         ],
         "name": "2016"
        },
        {
         "data": [
          {
           "geo": "geo",
           "hovertemplate": "Year=2017<br>GDP (USD)=%{marker.color}<br>Country=%{location}<extra></extra>",
           "legendgroup": "",
           "locationmode": "country names",
           "locations": [
            "Indonesia",
            "Saudi Arabia",
            "Italy",
            "South Korea",
            "United States",
            "Nigeria",
            "Mexico",
            "Canada",
            "Japan",
            "Germany",
            "South Africa",
            "Turkey",
            "France",
            "Argentina"
           ],
           "marker": {
            "color": [
             9467220000000,
             15038000000000,
             18064210000000,
             13078630000000,
             11620000000000,
             19332690000000,
             5279010000000,
             18024380000000,
             8064770000000,
             4660800000000,
             5192490000000,
             18275540000000,
             7644660000000,
             6053130000000
            ],
            "coloraxis": "coloraxis",
            "size": [
             9467220000000,
             15038000000000,
             18064210000000,
             13078630000000,
             11620000000000,
             19332690000000,
             5279010000000,
             18024380000000,
             8064770000000,
             4660800000000,
             5192490000000,
             18275540000000,
             7644660000000,
             6053130000000
            ],
            "sizemode": "area",
            "sizeref": 49925725000,
            "symbol": "circle"
           },
           "mode": "markers",
           "name": "",
           "showlegend": false,
           "type": "scattergeo"
          }
         ],
         "name": "2017"
        },
        {
         "data": [
          {
           "geo": "geo",
           "hovertemplate": "Year=2018<br>GDP (USD)=%{marker.color}<br>Country=%{location}<extra></extra>",
           "legendgroup": "",
           "locationmode": "country names",
           "locations": [
            "United Kingdom",
            "Nigeria",
            "Mexico",
            "Australia",
            "China",
            "France",
            "Japan",
            "India",
            "Saudi Arabia",
            "South Africa",
            "South Korea",
            "Argentina",
            "Canada"
           ],
           "marker": {
            "color": [
             13514030000000,
             11718130000000,
             18120300000000,
             4447080000000,
             16172620000000,
             8648459999999.999,
             1195940000000,
             16681060000000.002,
             17792730000000,
             9247190000000,
             14872270000000,
             4076110000000,
             10886960000000
            ],
            "coloraxis": "coloraxis",
            "size": [
             13514030000000,
             11718130000000,
             18120300000000,
             4447080000000,
             16172620000000,
             8648459999999.999,
             1195940000000,
             16681060000000.002,
             17792730000000,
             9247190000000,
             14872270000000,
             4076110000000,
             10886960000000
            ],
            "sizemode": "area",
            "sizeref": 49925725000,
            "symbol": "circle"
           },
           "mode": "markers",
           "name": "",
           "showlegend": false,
           "type": "scattergeo"
          }
         ],
         "name": "2018"
        },
        {
         "data": [
          {
           "geo": "geo",
           "hovertemplate": "Year=2019<br>GDP (USD)=%{marker.color}<br>Country=%{location}<extra></extra>",
           "legendgroup": "",
           "locationmode": "country names",
           "locations": [
            "India",
            "Saudi Arabia",
            "United Kingdom",
            "Brazil",
            "France",
            "United States",
            "Nigeria",
            "Indonesia",
            "Italy",
            "Turkey",
            "Japan",
            "Canada",
            "Argentina"
           ],
           "marker": {
            "color": [
             14257200000000,
             12988290000000,
             7731710000000,
             9209270000000,
             15291730000000,
             19970290000000,
             16589390000000,
             8402549999999.999,
             14665360000000,
             17515090000000,
             11529620000000,
             6242390000000,
             7838600000000
            ],
            "coloraxis": "coloraxis",
            "size": [
             14257200000000,
             12988290000000,
             7731710000000,
             9209270000000,
             15291730000000,
             19970290000000,
             16589390000000,
             8402549999999.999,
             14665360000000,
             17515090000000,
             11529620000000,
             6242390000000,
             7838600000000
            ],
            "sizemode": "area",
            "sizeref": 49925725000,
            "symbol": "circle"
           },
           "mode": "markers",
           "name": "",
           "showlegend": false,
           "type": "scattergeo"
          }
         ],
         "name": "2019"
        }
       ],
       "layout": {
        "coloraxis": {
         "colorbar": {
          "title": {
           "text": "GDP (USD)"
          }
         },
         "colorscale": [
          [
           0,
           "#0d0887"
          ],
          [
           0.1111111111111111,
           "#46039f"
          ],
          [
           0.2222222222222222,
           "#7201a8"
          ],
          [
           0.3333333333333333,
           "#9c179e"
          ],
          [
           0.4444444444444444,
           "#bd3786"
          ],
          [
           0.5555555555555556,
           "#d8576b"
          ],
          [
           0.6666666666666666,
           "#ed7953"
          ],
          [
           0.7777777777777778,
           "#fb9f3a"
          ],
          [
           0.8888888888888888,
           "#fdca26"
          ],
          [
           1,
           "#f0f921"
          ]
         ]
        },
        "geo": {
         "center": {},
         "domain": {
          "x": [
           0,
           1
          ],
          "y": [
           0,
           1
          ]
         }
        },
        "legend": {
         "itemsizing": "constant",
         "tracegroupgap": 0
        },
        "sliders": [
         {
          "active": 0,
          "currentvalue": {
           "prefix": "Year="
          },
          "len": 0.9,
          "pad": {
           "b": 10,
           "t": 60
          },
          "steps": [
           {
            "args": [
             [
              "2010"
             ],
             {
              "frame": {
               "duration": 0,
               "redraw": true
              },
              "fromcurrent": true,
              "mode": "immediate",
              "transition": {
               "duration": 0,
               "easing": "linear"
              }
             }
            ],
            "label": "2010",
            "method": "animate"
           },
           {
            "args": [
             [
              "2011"
             ],
             {
              "frame": {
               "duration": 0,
               "redraw": true
              },
              "fromcurrent": true,
              "mode": "immediate",
              "transition": {
               "duration": 0,
               "easing": "linear"
              }
             }
            ],
            "label": "2011",
            "method": "animate"
           },
           {
            "args": [
             [
              "2012"
             ],
             {
              "frame": {
               "duration": 0,
               "redraw": true
              },
              "fromcurrent": true,
              "mode": "immediate",
              "transition": {
               "duration": 0,
               "easing": "linear"
              }
             }
            ],
            "label": "2012",
            "method": "animate"
           },
           {
            "args": [
             [
              "2013"
             ],
             {
              "frame": {
               "duration": 0,
               "redraw": true
              },
              "fromcurrent": true,
              "mode": "immediate",
              "transition": {
               "duration": 0,
               "easing": "linear"
              }
             }
            ],
            "label": "2013",
            "method": "animate"
           },
           {
            "args": [
             [
              "2014"
             ],
             {
              "frame": {
               "duration": 0,
               "redraw": true
              },
              "fromcurrent": true,
              "mode": "immediate",
              "transition": {
               "duration": 0,
               "easing": "linear"
              }
             }
            ],
            "label": "2014",
            "method": "animate"
           },
           {
            "args": [
             [
              "2015"
             ],
             {
              "frame": {
               "duration": 0,
               "redraw": true
              },
              "fromcurrent": true,
              "mode": "immediate",
              "transition": {
               "duration": 0,
               "easing": "linear"
              }
             }
            ],
            "label": "2015",
            "method": "animate"
           },
           {
            "args": [
             [
              "2016"
             ],
             {
              "frame": {
               "duration": 0,
               "redraw": true
              },
              "fromcurrent": true,
              "mode": "immediate",
              "transition": {
               "duration": 0,
               "easing": "linear"
              }
             }
            ],
            "label": "2016",
            "method": "animate"
           },
           {
            "args": [
             [
              "2017"
             ],
             {
              "frame": {
               "duration": 0,
               "redraw": true
              },
              "fromcurrent": true,
              "mode": "immediate",
              "transition": {
               "duration": 0,
               "easing": "linear"
              }
             }
            ],
            "label": "2017",
            "method": "animate"
           },
           {
            "args": [
             [
              "2018"
             ],
             {
              "frame": {
               "duration": 0,
               "redraw": true
              },
              "fromcurrent": true,
              "mode": "immediate",
              "transition": {
               "duration": 0,
               "easing": "linear"
              }
             }
            ],
            "label": "2018",
            "method": "animate"
           },
           {
            "args": [
             [
              "2019"
             ],
             {
              "frame": {
               "duration": 0,
               "redraw": true
              },
              "fromcurrent": true,
              "mode": "immediate",
              "transition": {
               "duration": 0,
               "easing": "linear"
              }
             }
            ],
            "label": "2019",
            "method": "animate"
           }
          ],
          "x": 0.1,
          "xanchor": "left",
          "y": 0,
          "yanchor": "top"
         }
        ],
        "template": {
         "data": {
          "bar": [
           {
            "error_x": {
             "color": "#2a3f5f"
            },
            "error_y": {
             "color": "#2a3f5f"
            },
            "marker": {
             "line": {
              "color": "#E5ECF6",
              "width": 0.5
             },
             "pattern": {
              "fillmode": "overlay",
              "size": 10,
              "solidity": 0.2
             }
            },
            "type": "bar"
           }
          ],
          "barpolar": [
           {
            "marker": {
             "line": {
              "color": "#E5ECF6",
              "width": 0.5
             },
             "pattern": {
              "fillmode": "overlay",
              "size": 10,
              "solidity": 0.2
             }
            },
            "type": "barpolar"
           }
          ],
          "carpet": [
           {
            "aaxis": {
             "endlinecolor": "#2a3f5f",
             "gridcolor": "white",
             "linecolor": "white",
             "minorgridcolor": "white",
             "startlinecolor": "#2a3f5f"
            },
            "baxis": {
             "endlinecolor": "#2a3f5f",
             "gridcolor": "white",
             "linecolor": "white",
             "minorgridcolor": "white",
             "startlinecolor": "#2a3f5f"
            },
            "type": "carpet"
           }
          ],
          "choropleth": [
           {
            "colorbar": {
             "outlinewidth": 0,
             "ticks": ""
            },
            "type": "choropleth"
           }
          ],
          "contour": [
           {
            "colorbar": {
             "outlinewidth": 0,
             "ticks": ""
            },
            "colorscale": [
             [
              0,
              "#0d0887"
             ],
             [
              0.1111111111111111,
              "#46039f"
             ],
             [
              0.2222222222222222,
              "#7201a8"
             ],
             [
              0.3333333333333333,
              "#9c179e"
             ],
             [
              0.4444444444444444,
              "#bd3786"
             ],
             [
              0.5555555555555556,
              "#d8576b"
             ],
             [
              0.6666666666666666,
              "#ed7953"
             ],
             [
              0.7777777777777778,
              "#fb9f3a"
             ],
             [
              0.8888888888888888,
              "#fdca26"
             ],
             [
              1,
              "#f0f921"
             ]
            ],
            "type": "contour"
           }
          ],
          "contourcarpet": [
           {
            "colorbar": {
             "outlinewidth": 0,
             "ticks": ""
            },
            "type": "contourcarpet"
           }
          ],
          "heatmap": [
           {
            "colorbar": {
             "outlinewidth": 0,
             "ticks": ""
            },
            "colorscale": [
             [
              0,
              "#0d0887"
             ],
             [
              0.1111111111111111,
              "#46039f"
             ],
             [
              0.2222222222222222,
              "#7201a8"
             ],
             [
              0.3333333333333333,
              "#9c179e"
             ],
             [
              0.4444444444444444,
              "#bd3786"
             ],
             [
              0.5555555555555556,
              "#d8576b"
             ],
             [
              0.6666666666666666,
              "#ed7953"
             ],
             [
              0.7777777777777778,
              "#fb9f3a"
             ],
             [
              0.8888888888888888,
              "#fdca26"
             ],
             [
              1,
              "#f0f921"
             ]
            ],
            "type": "heatmap"
           }
          ],
          "heatmapgl": [
           {
            "colorbar": {
             "outlinewidth": 0,
             "ticks": ""
            },
            "colorscale": [
             [
              0,
              "#0d0887"
             ],
             [
              0.1111111111111111,
              "#46039f"
             ],
             [
              0.2222222222222222,
              "#7201a8"
             ],
             [
              0.3333333333333333,
              "#9c179e"
             ],
             [
              0.4444444444444444,
              "#bd3786"
             ],
             [
              0.5555555555555556,
              "#d8576b"
             ],
             [
              0.6666666666666666,
              "#ed7953"
             ],
             [
              0.7777777777777778,
              "#fb9f3a"
             ],
             [
              0.8888888888888888,
              "#fdca26"
             ],
             [
              1,
              "#f0f921"
             ]
            ],
            "type": "heatmapgl"
           }
          ],
          "histogram": [
           {
            "marker": {
             "pattern": {
              "fillmode": "overlay",
              "size": 10,
              "solidity": 0.2
             }
            },
            "type": "histogram"
           }
          ],
          "histogram2d": [
           {
            "colorbar": {
             "outlinewidth": 0,
             "ticks": ""
            },
            "colorscale": [
             [
              0,
              "#0d0887"
             ],
             [
              0.1111111111111111,
              "#46039f"
             ],
             [
              0.2222222222222222,
              "#7201a8"
             ],
             [
              0.3333333333333333,
              "#9c179e"
             ],
             [
              0.4444444444444444,
              "#bd3786"
             ],
             [
              0.5555555555555556,
              "#d8576b"
             ],
             [
              0.6666666666666666,
              "#ed7953"
             ],
             [
              0.7777777777777778,
              "#fb9f3a"
             ],
             [
              0.8888888888888888,
              "#fdca26"
             ],
             [
              1,
              "#f0f921"
             ]
            ],
            "type": "histogram2d"
           }
          ],
          "histogram2dcontour": [
           {
            "colorbar": {
             "outlinewidth": 0,
             "ticks": ""
            },
            "colorscale": [
             [
              0,
              "#0d0887"
             ],
             [
              0.1111111111111111,
              "#46039f"
             ],
             [
              0.2222222222222222,
              "#7201a8"
             ],
             [
              0.3333333333333333,
              "#9c179e"
             ],
             [
              0.4444444444444444,
              "#bd3786"
             ],
             [
              0.5555555555555556,
              "#d8576b"
             ],
             [
              0.6666666666666666,
              "#ed7953"
             ],
             [
              0.7777777777777778,
              "#fb9f3a"
             ],
             [
              0.8888888888888888,
              "#fdca26"
             ],
             [
              1,
              "#f0f921"
             ]
            ],
            "type": "histogram2dcontour"
           }
          ],
          "mesh3d": [
           {
            "colorbar": {
             "outlinewidth": 0,
             "ticks": ""
            },
            "type": "mesh3d"
           }
          ],
          "parcoords": [
           {
            "line": {
             "colorbar": {
              "outlinewidth": 0,
              "ticks": ""
             }
            },
            "type": "parcoords"
           }
          ],
          "pie": [
           {
            "automargin": true,
            "type": "pie"
           }
          ],
          "scatter": [
           {
            "fillpattern": {
             "fillmode": "overlay",
             "size": 10,
             "solidity": 0.2
            },
            "type": "scatter"
           }
          ],
          "scatter3d": [
           {
            "line": {
             "colorbar": {
              "outlinewidth": 0,
              "ticks": ""
             }
            },
            "marker": {
             "colorbar": {
              "outlinewidth": 0,
              "ticks": ""
             }
            },
            "type": "scatter3d"
           }
          ],
          "scattercarpet": [
           {
            "marker": {
             "colorbar": {
              "outlinewidth": 0,
              "ticks": ""
             }
            },
            "type": "scattercarpet"
           }
          ],
          "scattergeo": [
           {
            "marker": {
             "colorbar": {
              "outlinewidth": 0,
              "ticks": ""
             }
            },
            "type": "scattergeo"
           }
          ],
          "scattergl": [
           {
            "marker": {
             "colorbar": {
              "outlinewidth": 0,
              "ticks": ""
             }
            },
            "type": "scattergl"
           }
          ],
          "scattermapbox": [
           {
            "marker": {
             "colorbar": {
              "outlinewidth": 0,
              "ticks": ""
             }
            },
            "type": "scattermapbox"
           }
          ],
          "scatterpolar": [
           {
            "marker": {
             "colorbar": {
              "outlinewidth": 0,
              "ticks": ""
             }
            },
            "type": "scatterpolar"
           }
          ],
          "scatterpolargl": [
           {
            "marker": {
             "colorbar": {
              "outlinewidth": 0,
              "ticks": ""
             }
            },
            "type": "scatterpolargl"
           }
          ],
          "scatterternary": [
           {
            "marker": {
             "colorbar": {
              "outlinewidth": 0,
              "ticks": ""
             }
            },
            "type": "scatterternary"
           }
          ],
          "surface": [
           {
            "colorbar": {
             "outlinewidth": 0,
             "ticks": ""
            },
            "colorscale": [
             [
              0,
              "#0d0887"
             ],
             [
              0.1111111111111111,
              "#46039f"
             ],
             [
              0.2222222222222222,
              "#7201a8"
             ],
             [
              0.3333333333333333,
              "#9c179e"
             ],
             [
              0.4444444444444444,
              "#bd3786"
             ],
             [
              0.5555555555555556,
              "#d8576b"
             ],
             [
              0.6666666666666666,
              "#ed7953"
             ],
             [
              0.7777777777777778,
              "#fb9f3a"
             ],
             [
              0.8888888888888888,
              "#fdca26"
             ],
             [
              1,
              "#f0f921"
             ]
            ],
            "type": "surface"
           }
          ],
          "table": [
           {
            "cells": {
             "fill": {
              "color": "#EBF0F8"
             },
             "line": {
              "color": "white"
             }
            },
            "header": {
             "fill": {
              "color": "#C8D4E3"
             },
             "line": {
              "color": "white"
             }
            },
            "type": "table"
           }
          ]
         },
         "layout": {
          "annotationdefaults": {
           "arrowcolor": "#2a3f5f",
           "arrowhead": 0,
           "arrowwidth": 1
          },
          "autotypenumbers": "strict",
          "coloraxis": {
           "colorbar": {
            "outlinewidth": 0,
            "ticks": ""
           }
          },
          "colorscale": {
           "diverging": [
            [
             0,
             "#8e0152"
            ],
            [
             0.1,
             "#c51b7d"
            ],
            [
             0.2,
             "#de77ae"
            ],
            [
             0.3,
             "#f1b6da"
            ],
            [
             0.4,
             "#fde0ef"
            ],
            [
             0.5,
             "#f7f7f7"
            ],
            [
             0.6,
             "#e6f5d0"
            ],
            [
             0.7,
             "#b8e186"
            ],
            [
             0.8,
             "#7fbc41"
            ],
            [
             0.9,
             "#4d9221"
            ],
            [
             1,
             "#276419"
            ]
           ],
           "sequential": [
            [
             0,
             "#0d0887"
            ],
            [
             0.1111111111111111,
             "#46039f"
            ],
            [
             0.2222222222222222,
             "#7201a8"
            ],
            [
             0.3333333333333333,
             "#9c179e"
            ],
            [
             0.4444444444444444,
             "#bd3786"
            ],
            [
             0.5555555555555556,
             "#d8576b"
            ],
            [
             0.6666666666666666,
             "#ed7953"
            ],
            [
             0.7777777777777778,
             "#fb9f3a"
            ],
            [
             0.8888888888888888,
             "#fdca26"
            ],
            [
             1,
             "#f0f921"
            ]
           ],
           "sequentialminus": [
            [
             0,
             "#0d0887"
            ],
            [
             0.1111111111111111,
             "#46039f"
            ],
            [
             0.2222222222222222,
             "#7201a8"
            ],
            [
             0.3333333333333333,
             "#9c179e"
            ],
            [
             0.4444444444444444,
             "#bd3786"
            ],
            [
             0.5555555555555556,
             "#d8576b"
            ],
            [
             0.6666666666666666,
             "#ed7953"
            ],
            [
             0.7777777777777778,
             "#fb9f3a"
            ],
            [
             0.8888888888888888,
             "#fdca26"
            ],
            [
             1,
             "#f0f921"
            ]
           ]
          },
          "colorway": [
           "#636efa",
           "#EF553B",
           "#00cc96",
           "#ab63fa",
           "#FFA15A",
           "#19d3f3",
           "#FF6692",
           "#B6E880",
           "#FF97FF",
           "#FECB52"
          ],
          "font": {
           "color": "#2a3f5f"
          },
          "geo": {
           "bgcolor": "white",
           "lakecolor": "white",
           "landcolor": "#E5ECF6",
           "showlakes": true,
           "showland": true,
           "subunitcolor": "white"
          },
          "hoverlabel": {
           "align": "left"
          },
          "hovermode": "closest",
          "mapbox": {
           "style": "light"
          },
          "paper_bgcolor": "white",
          "plot_bgcolor": "#E5ECF6",
          "polar": {
           "angularaxis": {
            "gridcolor": "white",
            "linecolor": "white",
            "ticks": ""
           },
           "bgcolor": "#E5ECF6",
           "radialaxis": {
            "gridcolor": "white",
            "linecolor": "white",
            "ticks": ""
           }
          },
          "scene": {
           "xaxis": {
            "backgroundcolor": "#E5ECF6",
            "gridcolor": "white",
            "gridwidth": 2,
            "linecolor": "white",
            "showbackground": true,
            "ticks": "",
            "zerolinecolor": "white"
           },
           "yaxis": {
            "backgroundcolor": "#E5ECF6",
            "gridcolor": "white",
            "gridwidth": 2,
            "linecolor": "white",
            "showbackground": true,
            "ticks": "",
            "zerolinecolor": "white"
           },
           "zaxis": {
            "backgroundcolor": "#E5ECF6",
            "gridcolor": "white",
            "gridwidth": 2,
            "linecolor": "white",
            "showbackground": true,
            "ticks": "",
            "zerolinecolor": "white"
           }
          },
          "shapedefaults": {
           "line": {
            "color": "#2a3f5f"
           }
          },
          "ternary": {
           "aaxis": {
            "gridcolor": "white",
            "linecolor": "white",
            "ticks": ""
           },
           "baxis": {
            "gridcolor": "white",
            "linecolor": "white",
            "ticks": ""
           },
           "bgcolor": "#E5ECF6",
           "caxis": {
            "gridcolor": "white",
            "linecolor": "white",
            "ticks": ""
           }
          },
          "title": {
           "x": 0.05
          },
          "xaxis": {
           "automargin": true,
           "gridcolor": "white",
           "linecolor": "white",
           "ticks": "",
           "title": {
            "standoff": 15
           },
           "zerolinecolor": "white",
           "zerolinewidth": 2
          },
          "yaxis": {
           "automargin": true,
           "gridcolor": "white",
           "linecolor": "white",
           "ticks": "",
           "title": {
            "standoff": 15
           },
           "zerolinecolor": "white",
           "zerolinewidth": 2
          }
         }
        },
        "title": {
         "text": "GDP by Country"
        },
        "updatemenus": [
         {
          "buttons": [
           {
            "args": [
             null,
             {
              "frame": {
               "duration": 500,
               "redraw": true
              },
              "fromcurrent": true,
              "mode": "immediate",
              "transition": {
               "duration": 500,
               "easing": "linear"
              }
             }
            ],
            "label": "&#9654;",
            "method": "animate"
           },
           {
            "args": [
             [
              null
             ],
             {
              "frame": {
               "duration": 0,
               "redraw": true
              },
              "fromcurrent": true,
              "mode": "immediate",
              "transition": {
               "duration": 0,
               "easing": "linear"
              }
             }
            ],
            "label": "&#9724;",
            "method": "animate"
           }
          ],
          "direction": "left",
          "pad": {
           "r": 10,
           "t": 70
          },
          "showactive": false,
          "type": "buttons",
          "x": 0.1,
          "xanchor": "right",
          "y": 0,
          "yanchor": "top"
         }
        ]
       }
      }
     },
     "metadata": {},
     "output_type": "display_data"
    }
   ],
   "source": [
    "#plot gdp on px.scatter_geo\n",
    "px.scatter_geo(data,locations='Country', locationmode='country names',size='GDP (USD)',color='GDP (USD)',animation_frame='Year',title='GDP by Country')\n",
    "\n"
   ]
  },
  {
   "cell_type": "code",
   "execution_count": 98,
   "metadata": {},
   "outputs": [
    {
     "data": {
      "application/vnd.plotly.v1+json": {
       "config": {
        "plotlyServerURL": "https://plot.ly"
       },
       "data": [
        {
         "geo": "geo",
         "hovertemplate": "Year=2010<br>Population=%{marker.color}<br>Country=%{location}<extra></extra>",
         "legendgroup": "",
         "locationmode": "country names",
         "locations": [
          "Brazil",
          "Canada",
          "Saudi Arabia",
          "United States",
          "China",
          "Italy",
          "Australia",
          "South Africa",
          "Argentina",
          "Japan",
          "Germany",
          "India"
         ],
         "marker": {
          "color": [
           829020000,
           909050000,
           1041990000,
           705930000,
           149740000,
           1485050000,
           151690000,
           552640000,
           77350000,
           975960000,
           820240000,
           93430000
          ],
          "coloraxis": "coloraxis",
          "size": [
           829020000,
           909050000,
           1041990000,
           705930000,
           149740000,
           1485050000,
           151690000,
           552640000,
           77350000,
           975960000,
           820240000,
           93430000
          ],
          "sizemode": "area",
          "sizeref": 3732025,
          "symbol": "circle"
         },
         "mode": "markers",
         "name": "",
         "showlegend": false,
         "type": "scattergeo"
        }
       ],
       "frames": [
        {
         "data": [
          {
           "geo": "geo",
           "hovertemplate": "Year=2010<br>Population=%{marker.color}<br>Country=%{location}<extra></extra>",
           "legendgroup": "",
           "locationmode": "country names",
           "locations": [
            "Brazil",
            "Canada",
            "Saudi Arabia",
            "United States",
            "China",
            "Italy",
            "Australia",
            "South Africa",
            "Argentina",
            "Japan",
            "Germany",
            "India"
           ],
           "marker": {
            "color": [
             829020000,
             909050000,
             1041990000,
             705930000,
             149740000,
             1485050000,
             151690000,
             552640000,
             77350000,
             975960000,
             820240000,
             93430000
            ],
            "coloraxis": "coloraxis",
            "size": [
             829020000,
             909050000,
             1041990000,
             705930000,
             149740000,
             1485050000,
             151690000,
             552640000,
             77350000,
             975960000,
             820240000,
             93430000
            ],
            "sizemode": "area",
            "sizeref": 3732025,
            "symbol": "circle"
           },
           "mode": "markers",
           "name": "",
           "showlegend": false,
           "type": "scattergeo"
          }
         ],
         "name": "2010"
        },
        {
         "data": [
          {
           "geo": "geo",
           "hovertemplate": "Year=2011<br>Population=%{marker.color}<br>Country=%{location}<extra></extra>",
           "legendgroup": "",
           "locationmode": "country names",
           "locations": [
            "Japan",
            "Argentina",
            "Russia",
            "United Kingdom",
            "Indonesia",
            "Canada",
            "India",
            "China",
            "Saudi Arabia",
            "Australia",
            "Nigeria",
            "Italy",
            "Mexico",
            "Germany",
            "Turkey"
           ],
           "marker": {
            "color": [
             897010000,
             1084140000,
             932420000,
             849830000,
             254580000,
             405930000,
             890250000,
             67570000,
             934960000,
             360220000,
             1179260000,
             159020000,
             1417300000,
             673660000,
             1374010000
            ],
            "coloraxis": "coloraxis",
            "size": [
             897010000,
             1084140000,
             932420000,
             849830000,
             254580000,
             405930000,
             890250000,
             67570000,
             934960000,
             360220000,
             1179260000,
             159020000,
             1417300000,
             673660000,
             1374010000
            ],
            "sizemode": "area",
            "sizeref": 3732025,
            "symbol": "circle"
           },
           "mode": "markers",
           "name": "",
           "showlegend": false,
           "type": "scattergeo"
          }
         ],
         "name": "2011"
        },
        {
         "data": [
          {
           "geo": "geo",
           "hovertemplate": "Year=2012<br>Population=%{marker.color}<br>Country=%{location}<extra></extra>",
           "legendgroup": "",
           "locationmode": "country names",
           "locations": [
            "India",
            "France",
            "Nigeria",
            "United States",
            "United Kingdom",
            "South Africa",
            "Russia",
            "Argentina",
            "Turkey",
            "Indonesia"
           ],
           "marker": {
            "color": [
             669850000,
             227020000,
             313530000,
             566290000,
             1394680000,
             862690000,
             992500000,
             691470000,
             958910000,
             576540000
            ],
            "coloraxis": "coloraxis",
            "size": [
             669850000,
             227020000,
             313530000,
             566290000,
             1394680000,
             862690000,
             992500000,
             691470000,
             958910000,
             576540000
            ],
            "sizemode": "area",
            "sizeref": 3732025,
            "symbol": "circle"
           },
           "mode": "markers",
           "name": "",
           "showlegend": false,
           "type": "scattergeo"
          }
         ],
         "name": "2012"
        },
        {
         "data": [
          {
           "geo": "geo",
           "hovertemplate": "Year=2013<br>Population=%{marker.color}<br>Country=%{location}<extra></extra>",
           "legendgroup": "",
           "locationmode": "country names",
           "locations": [
            "Mexico",
            "Nigeria",
            "China",
            "Brazil",
            "Italy",
            "Russia",
            "United Kingdom",
            "United States",
            "South Korea",
            "Germany",
            "Turkey",
            "Canada",
            "Indonesia",
            "France"
           ],
           "marker": {
            "color": [
             113800000,
             447700000,
             578590000,
             1207240000,
             314660000,
             541370000,
             719240000,
             1285540000,
             779960000,
             169820000,
             117270000,
             1383380000,
             549950000,
             317040000
            ],
            "coloraxis": "coloraxis",
            "size": [
             113800000,
             447700000,
             578590000,
             1207240000,
             314660000,
             541370000,
             719240000,
             1285540000,
             779960000,
             169820000,
             117270000,
             1383380000,
             549950000,
             317040000
            ],
            "sizemode": "area",
            "sizeref": 3732025,
            "symbol": "circle"
           },
           "mode": "markers",
           "name": "",
           "showlegend": false,
           "type": "scattergeo"
          }
         ],
         "name": "2013"
        },
        {
         "data": [
          {
           "geo": "geo",
           "hovertemplate": "Year=2014<br>Population=%{marker.color}<br>Country=%{location}<extra></extra>",
           "legendgroup": "",
           "locationmode": "country names",
           "locations": [
            "India",
            "Italy",
            "United States",
            "Nigeria",
            "Brazil",
            "Indonesia",
            "South Africa",
            "France",
            "Canada",
            "Mexico",
            "Russia",
            "Germany"
           ],
           "marker": {
            "color": [
             29710000,
             238740000,
             1279810000,
             1428660000,
             255730000,
             444620000,
             1492770000,
             9970000,
             414680000,
             971670000,
             661490000,
             649390000
            ],
            "coloraxis": "coloraxis",
            "size": [
             29710000,
             238740000,
             1279810000,
             1428660000,
             255730000,
             444620000,
             1492770000,
             9970000,
             414680000,
             971670000,
             661490000,
             649390000
            ],
            "sizemode": "area",
            "sizeref": 3732025,
            "symbol": "circle"
           },
           "mode": "markers",
           "name": "",
           "showlegend": false,
           "type": "scattergeo"
          }
         ],
         "name": "2014"
        },
        {
         "data": [
          {
           "geo": "geo",
           "hovertemplate": "Year=2015<br>Population=%{marker.color}<br>Country=%{location}<extra></extra>",
           "legendgroup": "",
           "locationmode": "country names",
           "locations": [
            "United Kingdom",
            "Indonesia",
            "Argentina",
            "Italy",
            "China",
            "India",
            "Nigeria",
            "Germany",
            "Russia",
            "Japan",
            "South Africa",
            "Canada",
            "Brazil"
           ],
           "marker": {
            "color": [
             722560000,
             348990000,
             1304040000,
             104310000,
             603690000,
             208150000,
             1088040000,
             1235080000,
             544360000,
             1192430000,
             749390000,
             1109080000,
             359010000
            ],
            "coloraxis": "coloraxis",
            "size": [
             722560000,
             348990000,
             1304040000,
             104310000,
             603690000,
             208150000,
             1088040000,
             1235080000,
             544360000,
             1192430000,
             749390000,
             1109080000,
             359010000
            ],
            "sizemode": "area",
            "sizeref": 3732025,
            "symbol": "circle"
           },
           "mode": "markers",
           "name": "",
           "showlegend": false,
           "type": "scattergeo"
          }
         ],
         "name": "2015"
        },
        {
         "data": [
          {
           "geo": "geo",
           "hovertemplate": "Year=2016<br>Population=%{marker.color}<br>Country=%{location}<extra></extra>",
           "legendgroup": "",
           "locationmode": "country names",
           "locations": [
            "China",
            "Turkey",
            "Germany",
            "Saudi Arabia",
            "India",
            "Canada",
            "South Korea",
            "Australia",
            "United Kingdom",
            "Argentina",
            "Russia",
            "Indonesia",
            "South Africa"
           ],
           "marker": {
            "color": [
             1492810000,
             257480000.00000003,
             1344860000,
             756200000,
             1011750000,
             273750000,
             1349290000,
             574500000,
             1158500000,
             1481130000,
             865490000,
             1453920000,
             1083480000
            ],
            "coloraxis": "coloraxis",
            "size": [
             1492810000,
             257480000.00000003,
             1344860000,
             756200000,
             1011750000,
             273750000,
             1349290000,
             574500000,
             1158500000,
             1481130000,
             865490000,
             1453920000,
             1083480000
            ],
            "sizemode": "area",
            "sizeref": 3732025,
            "symbol": "circle"
           },
           "mode": "markers",
           "name": "",
           "showlegend": false,
           "type": "scattergeo"
          }
         ],
         "name": "2016"
        },
        {
         "data": [
          {
           "geo": "geo",
           "hovertemplate": "Year=2017<br>Population=%{marker.color}<br>Country=%{location}<extra></extra>",
           "legendgroup": "",
           "locationmode": "country names",
           "locations": [
            "Indonesia",
            "Saudi Arabia",
            "Italy",
            "South Korea",
            "United States",
            "Nigeria",
            "Mexico",
            "Canada",
            "Japan",
            "Germany",
            "South Africa",
            "Turkey",
            "France",
            "Argentina"
           ],
           "marker": {
            "color": [
             118240000,
             1285920000,
             931890000,
             1219400000,
             656050000,
             51740000,
             815030000,
             721250000,
             72280000,
             1071120000,
             1033360000,
             965840000,
             1441290000,
             574860000
            ],
            "coloraxis": "coloraxis",
            "size": [
             118240000,
             1285920000,
             931890000,
             1219400000,
             656050000,
             51740000,
             815030000,
             721250000,
             72280000,
             1071120000,
             1033360000,
             965840000,
             1441290000,
             574860000
            ],
            "sizemode": "area",
            "sizeref": 3732025,
            "symbol": "circle"
           },
           "mode": "markers",
           "name": "",
           "showlegend": false,
           "type": "scattergeo"
          }
         ],
         "name": "2017"
        },
        {
         "data": [
          {
           "geo": "geo",
           "hovertemplate": "Year=2018<br>Population=%{marker.color}<br>Country=%{location}<extra></extra>",
           "legendgroup": "",
           "locationmode": "country names",
           "locations": [
            "United Kingdom",
            "Nigeria",
            "Mexico",
            "Australia",
            "China",
            "France",
            "Japan",
            "India",
            "Saudi Arabia",
            "South Africa",
            "South Korea",
            "Argentina",
            "Canada"
           ],
           "marker": {
            "color": [
             1461580000,
             158310000,
             1013430000,
             1090030000,
             101390000,
             59660000,
             110470000,
             243570000,
             1065010000,
             768390000,
             1345230000,
             1268650000,
             262590000
            ],
            "coloraxis": "coloraxis",
            "size": [
             1461580000,
             158310000,
             1013430000,
             1090030000,
             101390000,
             59660000,
             110470000,
             243570000,
             1065010000,
             768390000,
             1345230000,
             1268650000,
             262590000
            ],
            "sizemode": "area",
            "sizeref": 3732025,
            "symbol": "circle"
           },
           "mode": "markers",
           "name": "",
           "showlegend": false,
           "type": "scattergeo"
          }
         ],
         "name": "2018"
        },
        {
         "data": [
          {
           "geo": "geo",
           "hovertemplate": "Year=2019<br>Population=%{marker.color}<br>Country=%{location}<extra></extra>",
           "legendgroup": "",
           "locationmode": "country names",
           "locations": [
            "India",
            "Saudi Arabia",
            "United Kingdom",
            "Brazil",
            "France",
            "United States",
            "Nigeria",
            "Indonesia",
            "Italy",
            "Turkey",
            "Japan",
            "Canada",
            "Argentina"
           ],
           "marker": {
            "color": [
             802050000,
             766880000,
             354840000,
             815700000,
             1093350000,
             1184630000,
             1312990000,
             1086020000,
             605040000,
             263690000,
             398840000,
             492280000,
             387520000
            ],
            "coloraxis": "coloraxis",
            "size": [
             802050000,
             766880000,
             354840000,
             815700000,
             1093350000,
             1184630000,
             1312990000,
             1086020000,
             605040000,
             263690000,
             398840000,
             492280000,
             387520000
            ],
            "sizemode": "area",
            "sizeref": 3732025,
            "symbol": "circle"
           },
           "mode": "markers",
           "name": "",
           "showlegend": false,
           "type": "scattergeo"
          }
         ],
         "name": "2019"
        }
       ],
       "layout": {
        "coloraxis": {
         "colorbar": {
          "title": {
           "text": "Population"
          }
         },
         "colorscale": [
          [
           0,
           "#0d0887"
          ],
          [
           0.1111111111111111,
           "#46039f"
          ],
          [
           0.2222222222222222,
           "#7201a8"
          ],
          [
           0.3333333333333333,
           "#9c179e"
          ],
          [
           0.4444444444444444,
           "#bd3786"
          ],
          [
           0.5555555555555556,
           "#d8576b"
          ],
          [
           0.6666666666666666,
           "#ed7953"
          ],
          [
           0.7777777777777778,
           "#fb9f3a"
          ],
          [
           0.8888888888888888,
           "#fdca26"
          ],
          [
           1,
           "#f0f921"
          ]
         ]
        },
        "geo": {
         "center": {},
         "domain": {
          "x": [
           0,
           1
          ],
          "y": [
           0,
           1
          ]
         }
        },
        "legend": {
         "itemsizing": "constant",
         "tracegroupgap": 0
        },
        "sliders": [
         {
          "active": 0,
          "currentvalue": {
           "prefix": "Year="
          },
          "len": 0.9,
          "pad": {
           "b": 10,
           "t": 60
          },
          "steps": [
           {
            "args": [
             [
              "2010"
             ],
             {
              "frame": {
               "duration": 0,
               "redraw": true
              },
              "fromcurrent": true,
              "mode": "immediate",
              "transition": {
               "duration": 0,
               "easing": "linear"
              }
             }
            ],
            "label": "2010",
            "method": "animate"
           },
           {
            "args": [
             [
              "2011"
             ],
             {
              "frame": {
               "duration": 0,
               "redraw": true
              },
              "fromcurrent": true,
              "mode": "immediate",
              "transition": {
               "duration": 0,
               "easing": "linear"
              }
             }
            ],
            "label": "2011",
            "method": "animate"
           },
           {
            "args": [
             [
              "2012"
             ],
             {
              "frame": {
               "duration": 0,
               "redraw": true
              },
              "fromcurrent": true,
              "mode": "immediate",
              "transition": {
               "duration": 0,
               "easing": "linear"
              }
             }
            ],
            "label": "2012",
            "method": "animate"
           },
           {
            "args": [
             [
              "2013"
             ],
             {
              "frame": {
               "duration": 0,
               "redraw": true
              },
              "fromcurrent": true,
              "mode": "immediate",
              "transition": {
               "duration": 0,
               "easing": "linear"
              }
             }
            ],
            "label": "2013",
            "method": "animate"
           },
           {
            "args": [
             [
              "2014"
             ],
             {
              "frame": {
               "duration": 0,
               "redraw": true
              },
              "fromcurrent": true,
              "mode": "immediate",
              "transition": {
               "duration": 0,
               "easing": "linear"
              }
             }
            ],
            "label": "2014",
            "method": "animate"
           },
           {
            "args": [
             [
              "2015"
             ],
             {
              "frame": {
               "duration": 0,
               "redraw": true
              },
              "fromcurrent": true,
              "mode": "immediate",
              "transition": {
               "duration": 0,
               "easing": "linear"
              }
             }
            ],
            "label": "2015",
            "method": "animate"
           },
           {
            "args": [
             [
              "2016"
             ],
             {
              "frame": {
               "duration": 0,
               "redraw": true
              },
              "fromcurrent": true,
              "mode": "immediate",
              "transition": {
               "duration": 0,
               "easing": "linear"
              }
             }
            ],
            "label": "2016",
            "method": "animate"
           },
           {
            "args": [
             [
              "2017"
             ],
             {
              "frame": {
               "duration": 0,
               "redraw": true
              },
              "fromcurrent": true,
              "mode": "immediate",
              "transition": {
               "duration": 0,
               "easing": "linear"
              }
             }
            ],
            "label": "2017",
            "method": "animate"
           },
           {
            "args": [
             [
              "2018"
             ],
             {
              "frame": {
               "duration": 0,
               "redraw": true
              },
              "fromcurrent": true,
              "mode": "immediate",
              "transition": {
               "duration": 0,
               "easing": "linear"
              }
             }
            ],
            "label": "2018",
            "method": "animate"
           },
           {
            "args": [
             [
              "2019"
             ],
             {
              "frame": {
               "duration": 0,
               "redraw": true
              },
              "fromcurrent": true,
              "mode": "immediate",
              "transition": {
               "duration": 0,
               "easing": "linear"
              }
             }
            ],
            "label": "2019",
            "method": "animate"
           }
          ],
          "x": 0.1,
          "xanchor": "left",
          "y": 0,
          "yanchor": "top"
         }
        ],
        "template": {
         "data": {
          "bar": [
           {
            "error_x": {
             "color": "#2a3f5f"
            },
            "error_y": {
             "color": "#2a3f5f"
            },
            "marker": {
             "line": {
              "color": "#E5ECF6",
              "width": 0.5
             },
             "pattern": {
              "fillmode": "overlay",
              "size": 10,
              "solidity": 0.2
             }
            },
            "type": "bar"
           }
          ],
          "barpolar": [
           {
            "marker": {
             "line": {
              "color": "#E5ECF6",
              "width": 0.5
             },
             "pattern": {
              "fillmode": "overlay",
              "size": 10,
              "solidity": 0.2
             }
            },
            "type": "barpolar"
           }
          ],
          "carpet": [
           {
            "aaxis": {
             "endlinecolor": "#2a3f5f",
             "gridcolor": "white",
             "linecolor": "white",
             "minorgridcolor": "white",
             "startlinecolor": "#2a3f5f"
            },
            "baxis": {
             "endlinecolor": "#2a3f5f",
             "gridcolor": "white",
             "linecolor": "white",
             "minorgridcolor": "white",
             "startlinecolor": "#2a3f5f"
            },
            "type": "carpet"
           }
          ],
          "choropleth": [
           {
            "colorbar": {
             "outlinewidth": 0,
             "ticks": ""
            },
            "type": "choropleth"
           }
          ],
          "contour": [
           {
            "colorbar": {
             "outlinewidth": 0,
             "ticks": ""
            },
            "colorscale": [
             [
              0,
              "#0d0887"
             ],
             [
              0.1111111111111111,
              "#46039f"
             ],
             [
              0.2222222222222222,
              "#7201a8"
             ],
             [
              0.3333333333333333,
              "#9c179e"
             ],
             [
              0.4444444444444444,
              "#bd3786"
             ],
             [
              0.5555555555555556,
              "#d8576b"
             ],
             [
              0.6666666666666666,
              "#ed7953"
             ],
             [
              0.7777777777777778,
              "#fb9f3a"
             ],
             [
              0.8888888888888888,
              "#fdca26"
             ],
             [
              1,
              "#f0f921"
             ]
            ],
            "type": "contour"
           }
          ],
          "contourcarpet": [
           {
            "colorbar": {
             "outlinewidth": 0,
             "ticks": ""
            },
            "type": "contourcarpet"
           }
          ],
          "heatmap": [
           {
            "colorbar": {
             "outlinewidth": 0,
             "ticks": ""
            },
            "colorscale": [
             [
              0,
              "#0d0887"
             ],
             [
              0.1111111111111111,
              "#46039f"
             ],
             [
              0.2222222222222222,
              "#7201a8"
             ],
             [
              0.3333333333333333,
              "#9c179e"
             ],
             [
              0.4444444444444444,
              "#bd3786"
             ],
             [
              0.5555555555555556,
              "#d8576b"
             ],
             [
              0.6666666666666666,
              "#ed7953"
             ],
             [
              0.7777777777777778,
              "#fb9f3a"
             ],
             [
              0.8888888888888888,
              "#fdca26"
             ],
             [
              1,
              "#f0f921"
             ]
            ],
            "type": "heatmap"
           }
          ],
          "heatmapgl": [
           {
            "colorbar": {
             "outlinewidth": 0,
             "ticks": ""
            },
            "colorscale": [
             [
              0,
              "#0d0887"
             ],
             [
              0.1111111111111111,
              "#46039f"
             ],
             [
              0.2222222222222222,
              "#7201a8"
             ],
             [
              0.3333333333333333,
              "#9c179e"
             ],
             [
              0.4444444444444444,
              "#bd3786"
             ],
             [
              0.5555555555555556,
              "#d8576b"
             ],
             [
              0.6666666666666666,
              "#ed7953"
             ],
             [
              0.7777777777777778,
              "#fb9f3a"
             ],
             [
              0.8888888888888888,
              "#fdca26"
             ],
             [
              1,
              "#f0f921"
             ]
            ],
            "type": "heatmapgl"
           }
          ],
          "histogram": [
           {
            "marker": {
             "pattern": {
              "fillmode": "overlay",
              "size": 10,
              "solidity": 0.2
             }
            },
            "type": "histogram"
           }
          ],
          "histogram2d": [
           {
            "colorbar": {
             "outlinewidth": 0,
             "ticks": ""
            },
            "colorscale": [
             [
              0,
              "#0d0887"
             ],
             [
              0.1111111111111111,
              "#46039f"
             ],
             [
              0.2222222222222222,
              "#7201a8"
             ],
             [
              0.3333333333333333,
              "#9c179e"
             ],
             [
              0.4444444444444444,
              "#bd3786"
             ],
             [
              0.5555555555555556,
              "#d8576b"
             ],
             [
              0.6666666666666666,
              "#ed7953"
             ],
             [
              0.7777777777777778,
              "#fb9f3a"
             ],
             [
              0.8888888888888888,
              "#fdca26"
             ],
             [
              1,
              "#f0f921"
             ]
            ],
            "type": "histogram2d"
           }
          ],
          "histogram2dcontour": [
           {
            "colorbar": {
             "outlinewidth": 0,
             "ticks": ""
            },
            "colorscale": [
             [
              0,
              "#0d0887"
             ],
             [
              0.1111111111111111,
              "#46039f"
             ],
             [
              0.2222222222222222,
              "#7201a8"
             ],
             [
              0.3333333333333333,
              "#9c179e"
             ],
             [
              0.4444444444444444,
              "#bd3786"
             ],
             [
              0.5555555555555556,
              "#d8576b"
             ],
             [
              0.6666666666666666,
              "#ed7953"
             ],
             [
              0.7777777777777778,
              "#fb9f3a"
             ],
             [
              0.8888888888888888,
              "#fdca26"
             ],
             [
              1,
              "#f0f921"
             ]
            ],
            "type": "histogram2dcontour"
           }
          ],
          "mesh3d": [
           {
            "colorbar": {
             "outlinewidth": 0,
             "ticks": ""
            },
            "type": "mesh3d"
           }
          ],
          "parcoords": [
           {
            "line": {
             "colorbar": {
              "outlinewidth": 0,
              "ticks": ""
             }
            },
            "type": "parcoords"
           }
          ],
          "pie": [
           {
            "automargin": true,
            "type": "pie"
           }
          ],
          "scatter": [
           {
            "fillpattern": {
             "fillmode": "overlay",
             "size": 10,
             "solidity": 0.2
            },
            "type": "scatter"
           }
          ],
          "scatter3d": [
           {
            "line": {
             "colorbar": {
              "outlinewidth": 0,
              "ticks": ""
             }
            },
            "marker": {
             "colorbar": {
              "outlinewidth": 0,
              "ticks": ""
             }
            },
            "type": "scatter3d"
           }
          ],
          "scattercarpet": [
           {
            "marker": {
             "colorbar": {
              "outlinewidth": 0,
              "ticks": ""
             }
            },
            "type": "scattercarpet"
           }
          ],
          "scattergeo": [
           {
            "marker": {
             "colorbar": {
              "outlinewidth": 0,
              "ticks": ""
             }
            },
            "type": "scattergeo"
           }
          ],
          "scattergl": [
           {
            "marker": {
             "colorbar": {
              "outlinewidth": 0,
              "ticks": ""
             }
            },
            "type": "scattergl"
           }
          ],
          "scattermapbox": [
           {
            "marker": {
             "colorbar": {
              "outlinewidth": 0,
              "ticks": ""
             }
            },
            "type": "scattermapbox"
           }
          ],
          "scatterpolar": [
           {
            "marker": {
             "colorbar": {
              "outlinewidth": 0,
              "ticks": ""
             }
            },
            "type": "scatterpolar"
           }
          ],
          "scatterpolargl": [
           {
            "marker": {
             "colorbar": {
              "outlinewidth": 0,
              "ticks": ""
             }
            },
            "type": "scatterpolargl"
           }
          ],
          "scatterternary": [
           {
            "marker": {
             "colorbar": {
              "outlinewidth": 0,
              "ticks": ""
             }
            },
            "type": "scatterternary"
           }
          ],
          "surface": [
           {
            "colorbar": {
             "outlinewidth": 0,
             "ticks": ""
            },
            "colorscale": [
             [
              0,
              "#0d0887"
             ],
             [
              0.1111111111111111,
              "#46039f"
             ],
             [
              0.2222222222222222,
              "#7201a8"
             ],
             [
              0.3333333333333333,
              "#9c179e"
             ],
             [
              0.4444444444444444,
              "#bd3786"
             ],
             [
              0.5555555555555556,
              "#d8576b"
             ],
             [
              0.6666666666666666,
              "#ed7953"
             ],
             [
              0.7777777777777778,
              "#fb9f3a"
             ],
             [
              0.8888888888888888,
              "#fdca26"
             ],
             [
              1,
              "#f0f921"
             ]
            ],
            "type": "surface"
           }
          ],
          "table": [
           {
            "cells": {
             "fill": {
              "color": "#EBF0F8"
             },
             "line": {
              "color": "white"
             }
            },
            "header": {
             "fill": {
              "color": "#C8D4E3"
             },
             "line": {
              "color": "white"
             }
            },
            "type": "table"
           }
          ]
         },
         "layout": {
          "annotationdefaults": {
           "arrowcolor": "#2a3f5f",
           "arrowhead": 0,
           "arrowwidth": 1
          },
          "autotypenumbers": "strict",
          "coloraxis": {
           "colorbar": {
            "outlinewidth": 0,
            "ticks": ""
           }
          },
          "colorscale": {
           "diverging": [
            [
             0,
             "#8e0152"
            ],
            [
             0.1,
             "#c51b7d"
            ],
            [
             0.2,
             "#de77ae"
            ],
            [
             0.3,
             "#f1b6da"
            ],
            [
             0.4,
             "#fde0ef"
            ],
            [
             0.5,
             "#f7f7f7"
            ],
            [
             0.6,
             "#e6f5d0"
            ],
            [
             0.7,
             "#b8e186"
            ],
            [
             0.8,
             "#7fbc41"
            ],
            [
             0.9,
             "#4d9221"
            ],
            [
             1,
             "#276419"
            ]
           ],
           "sequential": [
            [
             0,
             "#0d0887"
            ],
            [
             0.1111111111111111,
             "#46039f"
            ],
            [
             0.2222222222222222,
             "#7201a8"
            ],
            [
             0.3333333333333333,
             "#9c179e"
            ],
            [
             0.4444444444444444,
             "#bd3786"
            ],
            [
             0.5555555555555556,
             "#d8576b"
            ],
            [
             0.6666666666666666,
             "#ed7953"
            ],
            [
             0.7777777777777778,
             "#fb9f3a"
            ],
            [
             0.8888888888888888,
             "#fdca26"
            ],
            [
             1,
             "#f0f921"
            ]
           ],
           "sequentialminus": [
            [
             0,
             "#0d0887"
            ],
            [
             0.1111111111111111,
             "#46039f"
            ],
            [
             0.2222222222222222,
             "#7201a8"
            ],
            [
             0.3333333333333333,
             "#9c179e"
            ],
            [
             0.4444444444444444,
             "#bd3786"
            ],
            [
             0.5555555555555556,
             "#d8576b"
            ],
            [
             0.6666666666666666,
             "#ed7953"
            ],
            [
             0.7777777777777778,
             "#fb9f3a"
            ],
            [
             0.8888888888888888,
             "#fdca26"
            ],
            [
             1,
             "#f0f921"
            ]
           ]
          },
          "colorway": [
           "#636efa",
           "#EF553B",
           "#00cc96",
           "#ab63fa",
           "#FFA15A",
           "#19d3f3",
           "#FF6692",
           "#B6E880",
           "#FF97FF",
           "#FECB52"
          ],
          "font": {
           "color": "#2a3f5f"
          },
          "geo": {
           "bgcolor": "white",
           "lakecolor": "white",
           "landcolor": "#E5ECF6",
           "showlakes": true,
           "showland": true,
           "subunitcolor": "white"
          },
          "hoverlabel": {
           "align": "left"
          },
          "hovermode": "closest",
          "mapbox": {
           "style": "light"
          },
          "paper_bgcolor": "white",
          "plot_bgcolor": "#E5ECF6",
          "polar": {
           "angularaxis": {
            "gridcolor": "white",
            "linecolor": "white",
            "ticks": ""
           },
           "bgcolor": "#E5ECF6",
           "radialaxis": {
            "gridcolor": "white",
            "linecolor": "white",
            "ticks": ""
           }
          },
          "scene": {
           "xaxis": {
            "backgroundcolor": "#E5ECF6",
            "gridcolor": "white",
            "gridwidth": 2,
            "linecolor": "white",
            "showbackground": true,
            "ticks": "",
            "zerolinecolor": "white"
           },
           "yaxis": {
            "backgroundcolor": "#E5ECF6",
            "gridcolor": "white",
            "gridwidth": 2,
            "linecolor": "white",
            "showbackground": true,
            "ticks": "",
            "zerolinecolor": "white"
           },
           "zaxis": {
            "backgroundcolor": "#E5ECF6",
            "gridcolor": "white",
            "gridwidth": 2,
            "linecolor": "white",
            "showbackground": true,
            "ticks": "",
            "zerolinecolor": "white"
           }
          },
          "shapedefaults": {
           "line": {
            "color": "#2a3f5f"
           }
          },
          "ternary": {
           "aaxis": {
            "gridcolor": "white",
            "linecolor": "white",
            "ticks": ""
           },
           "baxis": {
            "gridcolor": "white",
            "linecolor": "white",
            "ticks": ""
           },
           "bgcolor": "#E5ECF6",
           "caxis": {
            "gridcolor": "white",
            "linecolor": "white",
            "ticks": ""
           }
          },
          "title": {
           "x": 0.05
          },
          "xaxis": {
           "automargin": true,
           "gridcolor": "white",
           "linecolor": "white",
           "ticks": "",
           "title": {
            "standoff": 15
           },
           "zerolinecolor": "white",
           "zerolinewidth": 2
          },
          "yaxis": {
           "automargin": true,
           "gridcolor": "white",
           "linecolor": "white",
           "ticks": "",
           "title": {
            "standoff": 15
           },
           "zerolinecolor": "white",
           "zerolinewidth": 2
          }
         }
        },
        "title": {
         "text": "Population by Country"
        },
        "updatemenus": [
         {
          "buttons": [
           {
            "args": [
             null,
             {
              "frame": {
               "duration": 500,
               "redraw": true
              },
              "fromcurrent": true,
              "mode": "immediate",
              "transition": {
               "duration": 500,
               "easing": "linear"
              }
             }
            ],
            "label": "&#9654;",
            "method": "animate"
           },
           {
            "args": [
             [
              null
             ],
             {
              "frame": {
               "duration": 0,
               "redraw": true
              },
              "fromcurrent": true,
              "mode": "immediate",
              "transition": {
               "duration": 0,
               "easing": "linear"
              }
             }
            ],
            "label": "&#9724;",
            "method": "animate"
           }
          ],
          "direction": "left",
          "pad": {
           "r": 10,
           "t": 70
          },
          "showactive": false,
          "type": "buttons",
          "x": 0.1,
          "xanchor": "right",
          "y": 0,
          "yanchor": "top"
         }
        ]
       }
      }
     },
     "metadata": {},
     "output_type": "display_data"
    }
   ],
   "source": [
    "#plot population on px.scatter_geo\n",
    "px.scatter_geo(data,locations='Country', locationmode='country names',size='Population',color='Population',animation_frame='Year',title='Population by Country')\n"
   ]
  },
  {
   "cell_type": "code",
   "execution_count": 99,
   "metadata": {},
   "outputs": [
    {
     "data": {
      "application/vnd.plotly.v1+json": {
       "config": {
        "plotlyServerURL": "https://plot.ly"
       },
       "data": [
        {
         "geo": "geo",
         "hovertemplate": "Year=2010<br>Life Expectancy=%{marker.color}<br>Country=%{location}<extra></extra>",
         "legendgroup": "",
         "locationmode": "country names",
         "locations": [
          "Brazil",
          "Canada",
          "Saudi Arabia",
          "United States",
          "China",
          "Italy",
          "Australia",
          "South Africa",
          "Argentina",
          "Japan",
          "Germany",
          "India"
         ],
         "marker": {
          "color": [
           66.7,
           75.4,
           73.6,
           65.5,
           82.7,
           61.7,
           83.9,
           63.3,
           52.2,
           83.5,
           82.3,
           75.4
          ],
          "coloraxis": "coloraxis",
          "size": [
           66.7,
           75.4,
           73.6,
           65.5,
           82.7,
           61.7,
           83.9,
           63.3,
           52.2,
           83.5,
           82.3,
           75.4
          ],
          "sizemode": "area",
          "sizeref": 0.21225000000000002,
          "symbol": "circle"
         },
         "mode": "markers",
         "name": "",
         "showlegend": false,
         "type": "scattergeo"
        }
       ],
       "frames": [
        {
         "data": [
          {
           "geo": "geo",
           "hovertemplate": "Year=2010<br>Life Expectancy=%{marker.color}<br>Country=%{location}<extra></extra>",
           "legendgroup": "",
           "locationmode": "country names",
           "locations": [
            "Brazil",
            "Canada",
            "Saudi Arabia",
            "United States",
            "China",
            "Italy",
            "Australia",
            "South Africa",
            "Argentina",
            "Japan",
            "Germany",
            "India"
           ],
           "marker": {
            "color": [
             66.7,
             75.4,
             73.6,
             65.5,
             82.7,
             61.7,
             83.9,
             63.3,
             52.2,
             83.5,
             82.3,
             75.4
            ],
            "coloraxis": "coloraxis",
            "size": [
             66.7,
             75.4,
             73.6,
             65.5,
             82.7,
             61.7,
             83.9,
             63.3,
             52.2,
             83.5,
             82.3,
             75.4
            ],
            "sizemode": "area",
            "sizeref": 0.21225000000000002,
            "symbol": "circle"
           },
           "mode": "markers",
           "name": "",
           "showlegend": false,
           "type": "scattergeo"
          }
         ],
         "name": "2010"
        },
        {
         "data": [
          {
           "geo": "geo",
           "hovertemplate": "Year=2011<br>Life Expectancy=%{marker.color}<br>Country=%{location}<extra></extra>",
           "legendgroup": "",
           "locationmode": "country names",
           "locations": [
            "Japan",
            "Argentina",
            "Russia",
            "United Kingdom",
            "Indonesia",
            "Canada",
            "India",
            "China",
            "Saudi Arabia",
            "Australia",
            "Nigeria",
            "Italy",
            "Mexico",
            "Germany",
            "Turkey"
           ],
           "marker": {
            "color": [
             61.4,
             55.7,
             71.6,
             59.5,
             55.6,
             79.9,
             72.2,
             52.1,
             71.1,
             74.9,
             77.2,
             58.1,
             56.3,
             84.9,
             63.4
            ],
            "coloraxis": "coloraxis",
            "size": [
             61.4,
             55.7,
             71.6,
             59.5,
             55.6,
             79.9,
             72.2,
             52.1,
             71.1,
             74.9,
             77.2,
             58.1,
             56.3,
             84.9,
             63.4
            ],
            "sizemode": "area",
            "sizeref": 0.21225000000000002,
            "symbol": "circle"
           },
           "mode": "markers",
           "name": "",
           "showlegend": false,
           "type": "scattergeo"
          }
         ],
         "name": "2011"
        },
        {
         "data": [
          {
           "geo": "geo",
           "hovertemplate": "Year=2012<br>Life Expectancy=%{marker.color}<br>Country=%{location}<extra></extra>",
           "legendgroup": "",
           "locationmode": "country names",
           "locations": [
            "India",
            "France",
            "Nigeria",
            "United States",
            "United Kingdom",
            "South Africa",
            "Russia",
            "Argentina",
            "Turkey",
            "Indonesia"
           ],
           "marker": {
            "color": [
             69.1,
             63.5,
             53,
             59.5,
             70,
             65.2,
             58.2,
             80.1,
             57.4,
             67.5
            ],
            "coloraxis": "coloraxis",
            "size": [
             69.1,
             63.5,
             53,
             59.5,
             70,
             65.2,
             58.2,
             80.1,
             57.4,
             67.5
            ],
            "sizemode": "area",
            "sizeref": 0.21225000000000002,
            "symbol": "circle"
           },
           "mode": "markers",
           "name": "",
           "showlegend": false,
           "type": "scattergeo"
          }
         ],
         "name": "2012"
        },
        {
         "data": [
          {
           "geo": "geo",
           "hovertemplate": "Year=2013<br>Life Expectancy=%{marker.color}<br>Country=%{location}<extra></extra>",
           "legendgroup": "",
           "locationmode": "country names",
           "locations": [
            "Mexico",
            "Nigeria",
            "China",
            "Brazil",
            "Italy",
            "Russia",
            "United Kingdom",
            "United States",
            "South Korea",
            "Germany",
            "Turkey",
            "Canada",
            "Indonesia",
            "France"
           ],
           "marker": {
            "color": [
             80.1,
             82.5,
             82.6,
             64.9,
             57.5,
             67.4,
             53.2,
             63.3,
             71.2,
             59.8,
             83.5,
             60.7,
             54,
             62.1
            ],
            "coloraxis": "coloraxis",
            "size": [
             80.1,
             82.5,
             82.6,
             64.9,
             57.5,
             67.4,
             53.2,
             63.3,
             71.2,
             59.8,
             83.5,
             60.7,
             54,
             62.1
            ],
            "sizemode": "area",
            "sizeref": 0.21225000000000002,
            "symbol": "circle"
           },
           "mode": "markers",
           "name": "",
           "showlegend": false,
           "type": "scattergeo"
          }
         ],
         "name": "2013"
        },
        {
         "data": [
          {
           "geo": "geo",
           "hovertemplate": "Year=2014<br>Life Expectancy=%{marker.color}<br>Country=%{location}<extra></extra>",
           "legendgroup": "",
           "locationmode": "country names",
           "locations": [
            "India",
            "Italy",
            "United States",
            "Nigeria",
            "Brazil",
            "Indonesia",
            "South Africa",
            "France",
            "Canada",
            "Mexico",
            "Russia",
            "Germany"
           ],
           "marker": {
            "color": [
             62.7,
             63.1,
             64.8,
             81,
             68.4,
             59.1,
             52.7,
             53.2,
             56.4,
             54.7,
             72.7,
             64.2
            ],
            "coloraxis": "coloraxis",
            "size": [
             62.7,
             63.1,
             64.8,
             81,
             68.4,
             59.1,
             52.7,
             53.2,
             56.4,
             54.7,
             72.7,
             64.2
            ],
            "sizemode": "area",
            "sizeref": 0.21225000000000002,
            "symbol": "circle"
           },
           "mode": "markers",
           "name": "",
           "showlegend": false,
           "type": "scattergeo"
          }
         ],
         "name": "2014"
        },
        {
         "data": [
          {
           "geo": "geo",
           "hovertemplate": "Year=2015<br>Life Expectancy=%{marker.color}<br>Country=%{location}<extra></extra>",
           "legendgroup": "",
           "locationmode": "country names",
           "locations": [
            "United Kingdom",
            "Indonesia",
            "Argentina",
            "Italy",
            "China",
            "India",
            "Nigeria",
            "Germany",
            "Russia",
            "Japan",
            "South Africa",
            "Canada",
            "Brazil"
           ],
           "marker": {
            "color": [
             74.6,
             62.4,
             52.4,
             71.7,
             63.5,
             65.7,
             58.4,
             62.9,
             56.7,
             68.7,
             80.4,
             55.5,
             82.4
            ],
            "coloraxis": "coloraxis",
            "size": [
             74.6,
             62.4,
             52.4,
             71.7,
             63.5,
             65.7,
             58.4,
             62.9,
             56.7,
             68.7,
             80.4,
             55.5,
             82.4
            ],
            "sizemode": "area",
            "sizeref": 0.21225000000000002,
            "symbol": "circle"
           },
           "mode": "markers",
           "name": "",
           "showlegend": false,
           "type": "scattergeo"
          }
         ],
         "name": "2015"
        },
        {
         "data": [
          {
           "geo": "geo",
           "hovertemplate": "Year=2016<br>Life Expectancy=%{marker.color}<br>Country=%{location}<extra></extra>",
           "legendgroup": "",
           "locationmode": "country names",
           "locations": [
            "China",
            "Turkey",
            "Germany",
            "Saudi Arabia",
            "India",
            "Canada",
            "South Korea",
            "Australia",
            "United Kingdom",
            "Argentina",
            "Russia",
            "Indonesia",
            "South Africa"
           ],
           "marker": {
            "color": [
             84.6,
             84.6,
             77,
             50.7,
             74.4,
             54.5,
             65.2,
             56.7,
             64,
             55,
             72.4,
             70.8,
             83
            ],
            "coloraxis": "coloraxis",
            "size": [
             84.6,
             84.6,
             77,
             50.7,
             74.4,
             54.5,
             65.2,
             56.7,
             64,
             55,
             72.4,
             70.8,
             83
            ],
            "sizemode": "area",
            "sizeref": 0.21225000000000002,
            "symbol": "circle"
           },
           "mode": "markers",
           "name": "",
           "showlegend": false,
           "type": "scattergeo"
          }
         ],
         "name": "2016"
        },
        {
         "data": [
          {
           "geo": "geo",
           "hovertemplate": "Year=2017<br>Life Expectancy=%{marker.color}<br>Country=%{location}<extra></extra>",
           "legendgroup": "",
           "locationmode": "country names",
           "locations": [
            "Indonesia",
            "Saudi Arabia",
            "Italy",
            "South Korea",
            "United States",
            "Nigeria",
            "Mexico",
            "Canada",
            "Japan",
            "Germany",
            "South Africa",
            "Turkey",
            "France",
            "Argentina"
           ],
           "marker": {
            "color": [
             80.9,
             64.8,
             61.4,
             74.2,
             83.3,
             63.2,
             64.6,
             51.4,
             50.5,
             52.4,
             77.6,
             80.3,
             54.8,
             53.2
            ],
            "coloraxis": "coloraxis",
            "size": [
             80.9,
             64.8,
             61.4,
             74.2,
             83.3,
             63.2,
             64.6,
             51.4,
             50.5,
             52.4,
             77.6,
             80.3,
             54.8,
             53.2
            ],
            "sizemode": "area",
            "sizeref": 0.21225000000000002,
            "symbol": "circle"
           },
           "mode": "markers",
           "name": "",
           "showlegend": false,
           "type": "scattergeo"
          }
         ],
         "name": "2017"
        },
        {
         "data": [
          {
           "geo": "geo",
           "hovertemplate": "Year=2018<br>Life Expectancy=%{marker.color}<br>Country=%{location}<extra></extra>",
           "legendgroup": "",
           "locationmode": "country names",
           "locations": [
            "United Kingdom",
            "Nigeria",
            "Mexico",
            "Australia",
            "China",
            "France",
            "Japan",
            "India",
            "Saudi Arabia",
            "South Africa",
            "South Korea",
            "Argentina",
            "Canada"
           ],
           "marker": {
            "color": [
             57,
             65.2,
             53,
             75.6,
             50.5,
             69.1,
             58.8,
             72.8,
             57.7,
             81.9,
             75.7,
             58.3,
             76.5
            ],
            "coloraxis": "coloraxis",
            "size": [
             57,
             65.2,
             53,
             75.6,
             50.5,
             69.1,
             58.8,
             72.8,
             57.7,
             81.9,
             75.7,
             58.3,
             76.5
            ],
            "sizemode": "area",
            "sizeref": 0.21225000000000002,
            "symbol": "circle"
           },
           "mode": "markers",
           "name": "",
           "showlegend": false,
           "type": "scattergeo"
          }
         ],
         "name": "2018"
        },
        {
         "data": [
          {
           "geo": "geo",
           "hovertemplate": "Year=2019<br>Life Expectancy=%{marker.color}<br>Country=%{location}<extra></extra>",
           "legendgroup": "",
           "locationmode": "country names",
           "locations": [
            "India",
            "Saudi Arabia",
            "United Kingdom",
            "Brazil",
            "France",
            "United States",
            "Nigeria",
            "Indonesia",
            "Italy",
            "Turkey",
            "Japan",
            "Canada",
            "Argentina"
           ],
           "marker": {
            "color": [
             59.9,
             84.9,
             68.7,
             79.4,
             62.2,
             65.7,
             62.9,
             68.5,
             57.4,
             64.4,
             65.7,
             82.1,
             76.3
            ],
            "coloraxis": "coloraxis",
            "size": [
             59.9,
             84.9,
             68.7,
             79.4,
             62.2,
             65.7,
             62.9,
             68.5,
             57.4,
             64.4,
             65.7,
             82.1,
             76.3
            ],
            "sizemode": "area",
            "sizeref": 0.21225000000000002,
            "symbol": "circle"
           },
           "mode": "markers",
           "name": "",
           "showlegend": false,
           "type": "scattergeo"
          }
         ],
         "name": "2019"
        }
       ],
       "layout": {
        "coloraxis": {
         "colorbar": {
          "title": {
           "text": "Life Expectancy"
          }
         },
         "colorscale": [
          [
           0,
           "#0d0887"
          ],
          [
           0.1111111111111111,
           "#46039f"
          ],
          [
           0.2222222222222222,
           "#7201a8"
          ],
          [
           0.3333333333333333,
           "#9c179e"
          ],
          [
           0.4444444444444444,
           "#bd3786"
          ],
          [
           0.5555555555555556,
           "#d8576b"
          ],
          [
           0.6666666666666666,
           "#ed7953"
          ],
          [
           0.7777777777777778,
           "#fb9f3a"
          ],
          [
           0.8888888888888888,
           "#fdca26"
          ],
          [
           1,
           "#f0f921"
          ]
         ]
        },
        "geo": {
         "center": {},
         "domain": {
          "x": [
           0,
           1
          ],
          "y": [
           0,
           1
          ]
         }
        },
        "legend": {
         "itemsizing": "constant",
         "tracegroupgap": 0
        },
        "sliders": [
         {
          "active": 0,
          "currentvalue": {
           "prefix": "Year="
          },
          "len": 0.9,
          "pad": {
           "b": 10,
           "t": 60
          },
          "steps": [
           {
            "args": [
             [
              "2010"
             ],
             {
              "frame": {
               "duration": 0,
               "redraw": true
              },
              "fromcurrent": true,
              "mode": "immediate",
              "transition": {
               "duration": 0,
               "easing": "linear"
              }
             }
            ],
            "label": "2010",
            "method": "animate"
           },
           {
            "args": [
             [
              "2011"
             ],
             {
              "frame": {
               "duration": 0,
               "redraw": true
              },
              "fromcurrent": true,
              "mode": "immediate",
              "transition": {
               "duration": 0,
               "easing": "linear"
              }
             }
            ],
            "label": "2011",
            "method": "animate"
           },
           {
            "args": [
             [
              "2012"
             ],
             {
              "frame": {
               "duration": 0,
               "redraw": true
              },
              "fromcurrent": true,
              "mode": "immediate",
              "transition": {
               "duration": 0,
               "easing": "linear"
              }
             }
            ],
            "label": "2012",
            "method": "animate"
           },
           {
            "args": [
             [
              "2013"
             ],
             {
              "frame": {
               "duration": 0,
               "redraw": true
              },
              "fromcurrent": true,
              "mode": "immediate",
              "transition": {
               "duration": 0,
               "easing": "linear"
              }
             }
            ],
            "label": "2013",
            "method": "animate"
           },
           {
            "args": [
             [
              "2014"
             ],
             {
              "frame": {
               "duration": 0,
               "redraw": true
              },
              "fromcurrent": true,
              "mode": "immediate",
              "transition": {
               "duration": 0,
               "easing": "linear"
              }
             }
            ],
            "label": "2014",
            "method": "animate"
           },
           {
            "args": [
             [
              "2015"
             ],
             {
              "frame": {
               "duration": 0,
               "redraw": true
              },
              "fromcurrent": true,
              "mode": "immediate",
              "transition": {
               "duration": 0,
               "easing": "linear"
              }
             }
            ],
            "label": "2015",
            "method": "animate"
           },
           {
            "args": [
             [
              "2016"
             ],
             {
              "frame": {
               "duration": 0,
               "redraw": true
              },
              "fromcurrent": true,
              "mode": "immediate",
              "transition": {
               "duration": 0,
               "easing": "linear"
              }
             }
            ],
            "label": "2016",
            "method": "animate"
           },
           {
            "args": [
             [
              "2017"
             ],
             {
              "frame": {
               "duration": 0,
               "redraw": true
              },
              "fromcurrent": true,
              "mode": "immediate",
              "transition": {
               "duration": 0,
               "easing": "linear"
              }
             }
            ],
            "label": "2017",
            "method": "animate"
           },
           {
            "args": [
             [
              "2018"
             ],
             {
              "frame": {
               "duration": 0,
               "redraw": true
              },
              "fromcurrent": true,
              "mode": "immediate",
              "transition": {
               "duration": 0,
               "easing": "linear"
              }
             }
            ],
            "label": "2018",
            "method": "animate"
           },
           {
            "args": [
             [
              "2019"
             ],
             {
              "frame": {
               "duration": 0,
               "redraw": true
              },
              "fromcurrent": true,
              "mode": "immediate",
              "transition": {
               "duration": 0,
               "easing": "linear"
              }
             }
            ],
            "label": "2019",
            "method": "animate"
           }
          ],
          "x": 0.1,
          "xanchor": "left",
          "y": 0,
          "yanchor": "top"
         }
        ],
        "template": {
         "data": {
          "bar": [
           {
            "error_x": {
             "color": "#2a3f5f"
            },
            "error_y": {
             "color": "#2a3f5f"
            },
            "marker": {
             "line": {
              "color": "#E5ECF6",
              "width": 0.5
             },
             "pattern": {
              "fillmode": "overlay",
              "size": 10,
              "solidity": 0.2
             }
            },
            "type": "bar"
           }
          ],
          "barpolar": [
           {
            "marker": {
             "line": {
              "color": "#E5ECF6",
              "width": 0.5
             },
             "pattern": {
              "fillmode": "overlay",
              "size": 10,
              "solidity": 0.2
             }
            },
            "type": "barpolar"
           }
          ],
          "carpet": [
           {
            "aaxis": {
             "endlinecolor": "#2a3f5f",
             "gridcolor": "white",
             "linecolor": "white",
             "minorgridcolor": "white",
             "startlinecolor": "#2a3f5f"
            },
            "baxis": {
             "endlinecolor": "#2a3f5f",
             "gridcolor": "white",
             "linecolor": "white",
             "minorgridcolor": "white",
             "startlinecolor": "#2a3f5f"
            },
            "type": "carpet"
           }
          ],
          "choropleth": [
           {
            "colorbar": {
             "outlinewidth": 0,
             "ticks": ""
            },
            "type": "choropleth"
           }
          ],
          "contour": [
           {
            "colorbar": {
             "outlinewidth": 0,
             "ticks": ""
            },
            "colorscale": [
             [
              0,
              "#0d0887"
             ],
             [
              0.1111111111111111,
              "#46039f"
             ],
             [
              0.2222222222222222,
              "#7201a8"
             ],
             [
              0.3333333333333333,
              "#9c179e"
             ],
             [
              0.4444444444444444,
              "#bd3786"
             ],
             [
              0.5555555555555556,
              "#d8576b"
             ],
             [
              0.6666666666666666,
              "#ed7953"
             ],
             [
              0.7777777777777778,
              "#fb9f3a"
             ],
             [
              0.8888888888888888,
              "#fdca26"
             ],
             [
              1,
              "#f0f921"
             ]
            ],
            "type": "contour"
           }
          ],
          "contourcarpet": [
           {
            "colorbar": {
             "outlinewidth": 0,
             "ticks": ""
            },
            "type": "contourcarpet"
           }
          ],
          "heatmap": [
           {
            "colorbar": {
             "outlinewidth": 0,
             "ticks": ""
            },
            "colorscale": [
             [
              0,
              "#0d0887"
             ],
             [
              0.1111111111111111,
              "#46039f"
             ],
             [
              0.2222222222222222,
              "#7201a8"
             ],
             [
              0.3333333333333333,
              "#9c179e"
             ],
             [
              0.4444444444444444,
              "#bd3786"
             ],
             [
              0.5555555555555556,
              "#d8576b"
             ],
             [
              0.6666666666666666,
              "#ed7953"
             ],
             [
              0.7777777777777778,
              "#fb9f3a"
             ],
             [
              0.8888888888888888,
              "#fdca26"
             ],
             [
              1,
              "#f0f921"
             ]
            ],
            "type": "heatmap"
           }
          ],
          "heatmapgl": [
           {
            "colorbar": {
             "outlinewidth": 0,
             "ticks": ""
            },
            "colorscale": [
             [
              0,
              "#0d0887"
             ],
             [
              0.1111111111111111,
              "#46039f"
             ],
             [
              0.2222222222222222,
              "#7201a8"
             ],
             [
              0.3333333333333333,
              "#9c179e"
             ],
             [
              0.4444444444444444,
              "#bd3786"
             ],
             [
              0.5555555555555556,
              "#d8576b"
             ],
             [
              0.6666666666666666,
              "#ed7953"
             ],
             [
              0.7777777777777778,
              "#fb9f3a"
             ],
             [
              0.8888888888888888,
              "#fdca26"
             ],
             [
              1,
              "#f0f921"
             ]
            ],
            "type": "heatmapgl"
           }
          ],
          "histogram": [
           {
            "marker": {
             "pattern": {
              "fillmode": "overlay",
              "size": 10,
              "solidity": 0.2
             }
            },
            "type": "histogram"
           }
          ],
          "histogram2d": [
           {
            "colorbar": {
             "outlinewidth": 0,
             "ticks": ""
            },
            "colorscale": [
             [
              0,
              "#0d0887"
             ],
             [
              0.1111111111111111,
              "#46039f"
             ],
             [
              0.2222222222222222,
              "#7201a8"
             ],
             [
              0.3333333333333333,
              "#9c179e"
             ],
             [
              0.4444444444444444,
              "#bd3786"
             ],
             [
              0.5555555555555556,
              "#d8576b"
             ],
             [
              0.6666666666666666,
              "#ed7953"
             ],
             [
              0.7777777777777778,
              "#fb9f3a"
             ],
             [
              0.8888888888888888,
              "#fdca26"
             ],
             [
              1,
              "#f0f921"
             ]
            ],
            "type": "histogram2d"
           }
          ],
          "histogram2dcontour": [
           {
            "colorbar": {
             "outlinewidth": 0,
             "ticks": ""
            },
            "colorscale": [
             [
              0,
              "#0d0887"
             ],
             [
              0.1111111111111111,
              "#46039f"
             ],
             [
              0.2222222222222222,
              "#7201a8"
             ],
             [
              0.3333333333333333,
              "#9c179e"
             ],
             [
              0.4444444444444444,
              "#bd3786"
             ],
             [
              0.5555555555555556,
              "#d8576b"
             ],
             [
              0.6666666666666666,
              "#ed7953"
             ],
             [
              0.7777777777777778,
              "#fb9f3a"
             ],
             [
              0.8888888888888888,
              "#fdca26"
             ],
             [
              1,
              "#f0f921"
             ]
            ],
            "type": "histogram2dcontour"
           }
          ],
          "mesh3d": [
           {
            "colorbar": {
             "outlinewidth": 0,
             "ticks": ""
            },
            "type": "mesh3d"
           }
          ],
          "parcoords": [
           {
            "line": {
             "colorbar": {
              "outlinewidth": 0,
              "ticks": ""
             }
            },
            "type": "parcoords"
           }
          ],
          "pie": [
           {
            "automargin": true,
            "type": "pie"
           }
          ],
          "scatter": [
           {
            "fillpattern": {
             "fillmode": "overlay",
             "size": 10,
             "solidity": 0.2
            },
            "type": "scatter"
           }
          ],
          "scatter3d": [
           {
            "line": {
             "colorbar": {
              "outlinewidth": 0,
              "ticks": ""
             }
            },
            "marker": {
             "colorbar": {
              "outlinewidth": 0,
              "ticks": ""
             }
            },
            "type": "scatter3d"
           }
          ],
          "scattercarpet": [
           {
            "marker": {
             "colorbar": {
              "outlinewidth": 0,
              "ticks": ""
             }
            },
            "type": "scattercarpet"
           }
          ],
          "scattergeo": [
           {
            "marker": {
             "colorbar": {
              "outlinewidth": 0,
              "ticks": ""
             }
            },
            "type": "scattergeo"
           }
          ],
          "scattergl": [
           {
            "marker": {
             "colorbar": {
              "outlinewidth": 0,
              "ticks": ""
             }
            },
            "type": "scattergl"
           }
          ],
          "scattermapbox": [
           {
            "marker": {
             "colorbar": {
              "outlinewidth": 0,
              "ticks": ""
             }
            },
            "type": "scattermapbox"
           }
          ],
          "scatterpolar": [
           {
            "marker": {
             "colorbar": {
              "outlinewidth": 0,
              "ticks": ""
             }
            },
            "type": "scatterpolar"
           }
          ],
          "scatterpolargl": [
           {
            "marker": {
             "colorbar": {
              "outlinewidth": 0,
              "ticks": ""
             }
            },
            "type": "scatterpolargl"
           }
          ],
          "scatterternary": [
           {
            "marker": {
             "colorbar": {
              "outlinewidth": 0,
              "ticks": ""
             }
            },
            "type": "scatterternary"
           }
          ],
          "surface": [
           {
            "colorbar": {
             "outlinewidth": 0,
             "ticks": ""
            },
            "colorscale": [
             [
              0,
              "#0d0887"
             ],
             [
              0.1111111111111111,
              "#46039f"
             ],
             [
              0.2222222222222222,
              "#7201a8"
             ],
             [
              0.3333333333333333,
              "#9c179e"
             ],
             [
              0.4444444444444444,
              "#bd3786"
             ],
             [
              0.5555555555555556,
              "#d8576b"
             ],
             [
              0.6666666666666666,
              "#ed7953"
             ],
             [
              0.7777777777777778,
              "#fb9f3a"
             ],
             [
              0.8888888888888888,
              "#fdca26"
             ],
             [
              1,
              "#f0f921"
             ]
            ],
            "type": "surface"
           }
          ],
          "table": [
           {
            "cells": {
             "fill": {
              "color": "#EBF0F8"
             },
             "line": {
              "color": "white"
             }
            },
            "header": {
             "fill": {
              "color": "#C8D4E3"
             },
             "line": {
              "color": "white"
             }
            },
            "type": "table"
           }
          ]
         },
         "layout": {
          "annotationdefaults": {
           "arrowcolor": "#2a3f5f",
           "arrowhead": 0,
           "arrowwidth": 1
          },
          "autotypenumbers": "strict",
          "coloraxis": {
           "colorbar": {
            "outlinewidth": 0,
            "ticks": ""
           }
          },
          "colorscale": {
           "diverging": [
            [
             0,
             "#8e0152"
            ],
            [
             0.1,
             "#c51b7d"
            ],
            [
             0.2,
             "#de77ae"
            ],
            [
             0.3,
             "#f1b6da"
            ],
            [
             0.4,
             "#fde0ef"
            ],
            [
             0.5,
             "#f7f7f7"
            ],
            [
             0.6,
             "#e6f5d0"
            ],
            [
             0.7,
             "#b8e186"
            ],
            [
             0.8,
             "#7fbc41"
            ],
            [
             0.9,
             "#4d9221"
            ],
            [
             1,
             "#276419"
            ]
           ],
           "sequential": [
            [
             0,
             "#0d0887"
            ],
            [
             0.1111111111111111,
             "#46039f"
            ],
            [
             0.2222222222222222,
             "#7201a8"
            ],
            [
             0.3333333333333333,
             "#9c179e"
            ],
            [
             0.4444444444444444,
             "#bd3786"
            ],
            [
             0.5555555555555556,
             "#d8576b"
            ],
            [
             0.6666666666666666,
             "#ed7953"
            ],
            [
             0.7777777777777778,
             "#fb9f3a"
            ],
            [
             0.8888888888888888,
             "#fdca26"
            ],
            [
             1,
             "#f0f921"
            ]
           ],
           "sequentialminus": [
            [
             0,
             "#0d0887"
            ],
            [
             0.1111111111111111,
             "#46039f"
            ],
            [
             0.2222222222222222,
             "#7201a8"
            ],
            [
             0.3333333333333333,
             "#9c179e"
            ],
            [
             0.4444444444444444,
             "#bd3786"
            ],
            [
             0.5555555555555556,
             "#d8576b"
            ],
            [
             0.6666666666666666,
             "#ed7953"
            ],
            [
             0.7777777777777778,
             "#fb9f3a"
            ],
            [
             0.8888888888888888,
             "#fdca26"
            ],
            [
             1,
             "#f0f921"
            ]
           ]
          },
          "colorway": [
           "#636efa",
           "#EF553B",
           "#00cc96",
           "#ab63fa",
           "#FFA15A",
           "#19d3f3",
           "#FF6692",
           "#B6E880",
           "#FF97FF",
           "#FECB52"
          ],
          "font": {
           "color": "#2a3f5f"
          },
          "geo": {
           "bgcolor": "white",
           "lakecolor": "white",
           "landcolor": "#E5ECF6",
           "showlakes": true,
           "showland": true,
           "subunitcolor": "white"
          },
          "hoverlabel": {
           "align": "left"
          },
          "hovermode": "closest",
          "mapbox": {
           "style": "light"
          },
          "paper_bgcolor": "white",
          "plot_bgcolor": "#E5ECF6",
          "polar": {
           "angularaxis": {
            "gridcolor": "white",
            "linecolor": "white",
            "ticks": ""
           },
           "bgcolor": "#E5ECF6",
           "radialaxis": {
            "gridcolor": "white",
            "linecolor": "white",
            "ticks": ""
           }
          },
          "scene": {
           "xaxis": {
            "backgroundcolor": "#E5ECF6",
            "gridcolor": "white",
            "gridwidth": 2,
            "linecolor": "white",
            "showbackground": true,
            "ticks": "",
            "zerolinecolor": "white"
           },
           "yaxis": {
            "backgroundcolor": "#E5ECF6",
            "gridcolor": "white",
            "gridwidth": 2,
            "linecolor": "white",
            "showbackground": true,
            "ticks": "",
            "zerolinecolor": "white"
           },
           "zaxis": {
            "backgroundcolor": "#E5ECF6",
            "gridcolor": "white",
            "gridwidth": 2,
            "linecolor": "white",
            "showbackground": true,
            "ticks": "",
            "zerolinecolor": "white"
           }
          },
          "shapedefaults": {
           "line": {
            "color": "#2a3f5f"
           }
          },
          "ternary": {
           "aaxis": {
            "gridcolor": "white",
            "linecolor": "white",
            "ticks": ""
           },
           "baxis": {
            "gridcolor": "white",
            "linecolor": "white",
            "ticks": ""
           },
           "bgcolor": "#E5ECF6",
           "caxis": {
            "gridcolor": "white",
            "linecolor": "white",
            "ticks": ""
           }
          },
          "title": {
           "x": 0.05
          },
          "xaxis": {
           "automargin": true,
           "gridcolor": "white",
           "linecolor": "white",
           "ticks": "",
           "title": {
            "standoff": 15
           },
           "zerolinecolor": "white",
           "zerolinewidth": 2
          },
          "yaxis": {
           "automargin": true,
           "gridcolor": "white",
           "linecolor": "white",
           "ticks": "",
           "title": {
            "standoff": 15
           },
           "zerolinecolor": "white",
           "zerolinewidth": 2
          }
         }
        },
        "title": {
         "text": "Life Expectancy by Country"
        },
        "updatemenus": [
         {
          "buttons": [
           {
            "args": [
             null,
             {
              "frame": {
               "duration": 500,
               "redraw": true
              },
              "fromcurrent": true,
              "mode": "immediate",
              "transition": {
               "duration": 500,
               "easing": "linear"
              }
             }
            ],
            "label": "&#9654;",
            "method": "animate"
           },
           {
            "args": [
             [
              null
             ],
             {
              "frame": {
               "duration": 0,
               "redraw": true
              },
              "fromcurrent": true,
              "mode": "immediate",
              "transition": {
               "duration": 0,
               "easing": "linear"
              }
             }
            ],
            "label": "&#9724;",
            "method": "animate"
           }
          ],
          "direction": "left",
          "pad": {
           "r": 10,
           "t": 70
          },
          "showactive": false,
          "type": "buttons",
          "x": 0.1,
          "xanchor": "right",
          "y": 0,
          "yanchor": "top"
         }
        ]
       }
      }
     },
     "metadata": {},
     "output_type": "display_data"
    }
   ],
   "source": [
    "#plot life expectancy on px.scatter_geo\n",
    "px.scatter_geo(data,locations='Country', locationmode='country names',size='Life Expectancy',color='Life Expectancy',animation_frame='Year',title='Life Expectancy by Country')\n",
    "\n"
   ]
  },
  {
   "cell_type": "code",
   "execution_count": 100,
   "metadata": {},
   "outputs": [
    {
     "data": {
      "application/vnd.plotly.v1+json": {
       "config": {
        "plotlyServerURL": "https://plot.ly"
       },
       "data": [
        {
         "geo": "geo",
         "hovertemplate": "Year=2010<br>Unemployment Rate (%)=%{marker.color}<br>Country=%{location}<extra></extra>",
         "legendgroup": "",
         "locationmode": "country names",
         "locations": [
          "Brazil",
          "Canada",
          "Saudi Arabia",
          "United States",
          "China",
          "Italy",
          "Australia",
          "South Africa",
          "Argentina",
          "Japan",
          "Germany",
          "India"
         ],
         "marker": {
          "color": [
           3.81,
           16.03,
           3.2,
           18.01,
           14.63,
           3.14,
           3.15,
           13.41,
           8.1,
           16.41,
           19.46,
           23.9
          ],
          "coloraxis": "coloraxis",
          "size": [
           3.81,
           16.03,
           3.2,
           18.01,
           14.63,
           3.14,
           3.15,
           13.41,
           8.1,
           16.41,
           19.46,
           23.9
          ],
          "sizemode": "area",
          "sizeref": 0.061849999999999995,
          "symbol": "circle"
         },
         "mode": "markers",
         "name": "",
         "showlegend": false,
         "type": "scattergeo"
        }
       ],
       "frames": [
        {
         "data": [
          {
           "geo": "geo",
           "hovertemplate": "Year=2010<br>Unemployment Rate (%)=%{marker.color}<br>Country=%{location}<extra></extra>",
           "legendgroup": "",
           "locationmode": "country names",
           "locations": [
            "Brazil",
            "Canada",
            "Saudi Arabia",
            "United States",
            "China",
            "Italy",
            "Australia",
            "South Africa",
            "Argentina",
            "Japan",
            "Germany",
            "India"
           ],
           "marker": {
            "color": [
             3.81,
             16.03,
             3.2,
             18.01,
             14.63,
             3.14,
             3.15,
             13.41,
             8.1,
             16.41,
             19.46,
             23.9
            ],
            "coloraxis": "coloraxis",
            "size": [
             3.81,
             16.03,
             3.2,
             18.01,
             14.63,
             3.14,
             3.15,
             13.41,
             8.1,
             16.41,
             19.46,
             23.9
            ],
            "sizemode": "area",
            "sizeref": 0.061849999999999995,
            "symbol": "circle"
           },
           "mode": "markers",
           "name": "",
           "showlegend": false,
           "type": "scattergeo"
          }
         ],
         "name": "2010"
        },
        {
         "data": [
          {
           "geo": "geo",
           "hovertemplate": "Year=2011<br>Unemployment Rate (%)=%{marker.color}<br>Country=%{location}<extra></extra>",
           "legendgroup": "",
           "locationmode": "country names",
           "locations": [
            "Japan",
            "Argentina",
            "Russia",
            "United Kingdom",
            "Indonesia",
            "Canada",
            "India",
            "China",
            "Saudi Arabia",
            "Australia",
            "Nigeria",
            "Italy",
            "Mexico",
            "Germany",
            "Turkey"
           ],
           "marker": {
            "color": [
             17.98,
             19.14,
             6.56,
             24.24,
             10.31,
             2.27,
             9.19,
             19.88,
             18.05,
             20.24,
             7.28,
             12.8,
             6.27,
             3.98,
             20.78
            ],
            "coloraxis": "coloraxis",
            "size": [
             17.98,
             19.14,
             6.56,
             24.24,
             10.31,
             2.27,
             9.19,
             19.88,
             18.05,
             20.24,
             7.28,
             12.8,
             6.27,
             3.98,
             20.78
            ],
            "sizemode": "area",
            "sizeref": 0.061849999999999995,
            "symbol": "circle"
           },
           "mode": "markers",
           "name": "",
           "showlegend": false,
           "type": "scattergeo"
          }
         ],
         "name": "2011"
        },
        {
         "data": [
          {
           "geo": "geo",
           "hovertemplate": "Year=2012<br>Unemployment Rate (%)=%{marker.color}<br>Country=%{location}<extra></extra>",
           "legendgroup": "",
           "locationmode": "country names",
           "locations": [
            "India",
            "France",
            "Nigeria",
            "United States",
            "United Kingdom",
            "South Africa",
            "Russia",
            "Argentina",
            "Turkey",
            "Indonesia"
           ],
           "marker": {
            "color": [
             16.02,
             5.37,
             7.75,
             15.38,
             17.91,
             17.44,
             18.39,
             13.84,
             7.41,
             5.18
            ],
            "coloraxis": "coloraxis",
            "size": [
             16.02,
             5.37,
             7.75,
             15.38,
             17.91,
             17.44,
             18.39,
             13.84,
             7.41,
             5.18
            ],
            "sizemode": "area",
            "sizeref": 0.061849999999999995,
            "symbol": "circle"
           },
           "mode": "markers",
           "name": "",
           "showlegend": false,
           "type": "scattergeo"
          }
         ],
         "name": "2012"
        },
        {
         "data": [
          {
           "geo": "geo",
           "hovertemplate": "Year=2013<br>Unemployment Rate (%)=%{marker.color}<br>Country=%{location}<extra></extra>",
           "legendgroup": "",
           "locationmode": "country names",
           "locations": [
            "Mexico",
            "Nigeria",
            "China",
            "Brazil",
            "Italy",
            "Russia",
            "United Kingdom",
            "United States",
            "South Korea",
            "Germany",
            "Turkey",
            "Canada",
            "Indonesia",
            "France"
           ],
           "marker": {
            "color": [
             6.26,
             8.56,
             18.97,
             8.52,
             20.86,
             21.3,
             22.05,
             24.74,
             15.06,
             19.24,
             12.82,
             24.14,
             20.31,
             14.5
            ],
            "coloraxis": "coloraxis",
            "size": [
             6.26,
             8.56,
             18.97,
             8.52,
             20.86,
             21.3,
             22.05,
             24.74,
             15.06,
             19.24,
             12.82,
             24.14,
             20.31,
             14.5
            ],
            "sizemode": "area",
            "sizeref": 0.061849999999999995,
            "symbol": "circle"
           },
           "mode": "markers",
           "name": "",
           "showlegend": false,
           "type": "scattergeo"
          }
         ],
         "name": "2013"
        },
        {
         "data": [
          {
           "geo": "geo",
           "hovertemplate": "Year=2014<br>Unemployment Rate (%)=%{marker.color}<br>Country=%{location}<extra></extra>",
           "legendgroup": "",
           "locationmode": "country names",
           "locations": [
            "India",
            "Italy",
            "United States",
            "Nigeria",
            "Brazil",
            "Indonesia",
            "South Africa",
            "France",
            "Canada",
            "Mexico",
            "Russia",
            "Germany"
           ],
           "marker": {
            "color": [
             3.1,
             6.24,
             10.97,
             19.52,
             6.27,
             4.1,
             4.33,
             12.2,
             22.13,
             15.14,
             22.26,
             16.24
            ],
            "coloraxis": "coloraxis",
            "size": [
             3.1,
             6.24,
             10.97,
             19.52,
             6.27,
             4.1,
             4.33,
             12.2,
             22.13,
             15.14,
             22.26,
             16.24
            ],
            "sizemode": "area",
            "sizeref": 0.061849999999999995,
            "symbol": "circle"
           },
           "mode": "markers",
           "name": "",
           "showlegend": false,
           "type": "scattergeo"
          }
         ],
         "name": "2014"
        },
        {
         "data": [
          {
           "geo": "geo",
           "hovertemplate": "Year=2015<br>Unemployment Rate (%)=%{marker.color}<br>Country=%{location}<extra></extra>",
           "legendgroup": "",
           "locationmode": "country names",
           "locations": [
            "United Kingdom",
            "Indonesia",
            "Argentina",
            "Italy",
            "China",
            "India",
            "Nigeria",
            "Germany",
            "Russia",
            "Japan",
            "South Africa",
            "Canada",
            "Brazil"
           ],
           "marker": {
            "color": [
             23.24,
             6.82,
             11.64,
             9.35,
             18.05,
             2.54,
             18.75,
             22.65,
             17.51,
             23.2,
             17.75,
             22.59,
             11.97
            ],
            "coloraxis": "coloraxis",
            "size": [
             23.24,
             6.82,
             11.64,
             9.35,
             18.05,
             2.54,
             18.75,
             22.65,
             17.51,
             23.2,
             17.75,
             22.59,
             11.97
            ],
            "sizemode": "area",
            "sizeref": 0.061849999999999995,
            "symbol": "circle"
           },
           "mode": "markers",
           "name": "",
           "showlegend": false,
           "type": "scattergeo"
          }
         ],
         "name": "2015"
        },
        {
         "data": [
          {
           "geo": "geo",
           "hovertemplate": "Year=2016<br>Unemployment Rate (%)=%{marker.color}<br>Country=%{location}<extra></extra>",
           "legendgroup": "",
           "locationmode": "country names",
           "locations": [
            "China",
            "Turkey",
            "Germany",
            "Saudi Arabia",
            "India",
            "Canada",
            "South Korea",
            "Australia",
            "United Kingdom",
            "Argentina",
            "Russia",
            "Indonesia",
            "South Africa"
           ],
           "marker": {
            "color": [
             15.59,
             4.08,
             10.91,
             16.47,
             3.04,
             6.36,
             17.38,
             8.69,
             13.35,
             8.83,
             21.17,
             23.18,
             10.06
            ],
            "coloraxis": "coloraxis",
            "size": [
             15.59,
             4.08,
             10.91,
             16.47,
             3.04,
             6.36,
             17.38,
             8.69,
             13.35,
             8.83,
             21.17,
             23.18,
             10.06
            ],
            "sizemode": "area",
            "sizeref": 0.061849999999999995,
            "symbol": "circle"
           },
           "mode": "markers",
           "name": "",
           "showlegend": false,
           "type": "scattergeo"
          }
         ],
         "name": "2016"
        },
        {
         "data": [
          {
           "geo": "geo",
           "hovertemplate": "Year=2017<br>Unemployment Rate (%)=%{marker.color}<br>Country=%{location}<extra></extra>",
           "legendgroup": "",
           "locationmode": "country names",
           "locations": [
            "Indonesia",
            "Saudi Arabia",
            "Italy",
            "South Korea",
            "United States",
            "Nigeria",
            "Mexico",
            "Canada",
            "Japan",
            "Germany",
            "South Africa",
            "Turkey",
            "France",
            "Argentina"
           ],
           "marker": {
            "color": [
             10.91,
             6.12,
             14.99,
             14.81,
             10.24,
             5.65,
             16.85,
             13.68,
             2.4,
             5.09,
             6.77,
             9.86,
             23.88,
             22.49
            ],
            "coloraxis": "coloraxis",
            "size": [
             10.91,
             6.12,
             14.99,
             14.81,
             10.24,
             5.65,
             16.85,
             13.68,
             2.4,
             5.09,
             6.77,
             9.86,
             23.88,
             22.49
            ],
            "sizemode": "area",
            "sizeref": 0.061849999999999995,
            "symbol": "circle"
           },
           "mode": "markers",
           "name": "",
           "showlegend": false,
           "type": "scattergeo"
          }
         ],
         "name": "2017"
        },
        {
         "data": [
          {
           "geo": "geo",
           "hovertemplate": "Year=2018<br>Unemployment Rate (%)=%{marker.color}<br>Country=%{location}<extra></extra>",
           "legendgroup": "",
           "locationmode": "country names",
           "locations": [
            "United Kingdom",
            "Nigeria",
            "Mexico",
            "Australia",
            "China",
            "France",
            "Japan",
            "India",
            "Saudi Arabia",
            "South Africa",
            "South Korea",
            "Argentina",
            "Canada"
           ],
           "marker": {
            "color": [
             3.29,
             18.78,
             24.12,
             3.69,
             3.42,
             19.96,
             12.22,
             11.59,
             10.35,
             2.79,
             15.36,
             14.11,
             2.28
            ],
            "coloraxis": "coloraxis",
            "size": [
             3.29,
             18.78,
             24.12,
             3.69,
             3.42,
             19.96,
             12.22,
             11.59,
             10.35,
             2.79,
             15.36,
             14.11,
             2.28
            ],
            "sizemode": "area",
            "sizeref": 0.061849999999999995,
            "symbol": "circle"
           },
           "mode": "markers",
           "name": "",
           "showlegend": false,
           "type": "scattergeo"
          }
         ],
         "name": "2018"
        },
        {
         "data": [
          {
           "geo": "geo",
           "hovertemplate": "Year=2019<br>Unemployment Rate (%)=%{marker.color}<br>Country=%{location}<extra></extra>",
           "legendgroup": "",
           "locationmode": "country names",
           "locations": [
            "India",
            "Saudi Arabia",
            "United Kingdom",
            "Brazil",
            "France",
            "United States",
            "Nigeria",
            "Indonesia",
            "Italy",
            "Turkey",
            "Japan",
            "Canada",
            "Argentina"
           ],
           "marker": {
            "color": [
             18.61,
             16.91,
             21.3,
             5.82,
             3.59,
             17.92,
             5.77,
             6.57,
             5.68,
             4.58,
             13.31,
             17.94,
             5.96
            ],
            "coloraxis": "coloraxis",
            "size": [
             18.61,
             16.91,
             21.3,
             5.82,
             3.59,
             17.92,
             5.77,
             6.57,
             5.68,
             4.58,
             13.31,
             17.94,
             5.96
            ],
            "sizemode": "area",
            "sizeref": 0.061849999999999995,
            "symbol": "circle"
           },
           "mode": "markers",
           "name": "",
           "showlegend": false,
           "type": "scattergeo"
          }
         ],
         "name": "2019"
        }
       ],
       "layout": {
        "coloraxis": {
         "colorbar": {
          "title": {
           "text": "Unemployment Rate (%)"
          }
         },
         "colorscale": [
          [
           0,
           "#0d0887"
          ],
          [
           0.1111111111111111,
           "#46039f"
          ],
          [
           0.2222222222222222,
           "#7201a8"
          ],
          [
           0.3333333333333333,
           "#9c179e"
          ],
          [
           0.4444444444444444,
           "#bd3786"
          ],
          [
           0.5555555555555556,
           "#d8576b"
          ],
          [
           0.6666666666666666,
           "#ed7953"
          ],
          [
           0.7777777777777778,
           "#fb9f3a"
          ],
          [
           0.8888888888888888,
           "#fdca26"
          ],
          [
           1,
           "#f0f921"
          ]
         ]
        },
        "geo": {
         "center": {},
         "domain": {
          "x": [
           0,
           1
          ],
          "y": [
           0,
           1
          ]
         }
        },
        "legend": {
         "itemsizing": "constant",
         "tracegroupgap": 0
        },
        "sliders": [
         {
          "active": 0,
          "currentvalue": {
           "prefix": "Year="
          },
          "len": 0.9,
          "pad": {
           "b": 10,
           "t": 60
          },
          "steps": [
           {
            "args": [
             [
              "2010"
             ],
             {
              "frame": {
               "duration": 0,
               "redraw": true
              },
              "fromcurrent": true,
              "mode": "immediate",
              "transition": {
               "duration": 0,
               "easing": "linear"
              }
             }
            ],
            "label": "2010",
            "method": "animate"
           },
           {
            "args": [
             [
              "2011"
             ],
             {
              "frame": {
               "duration": 0,
               "redraw": true
              },
              "fromcurrent": true,
              "mode": "immediate",
              "transition": {
               "duration": 0,
               "easing": "linear"
              }
             }
            ],
            "label": "2011",
            "method": "animate"
           },
           {
            "args": [
             [
              "2012"
             ],
             {
              "frame": {
               "duration": 0,
               "redraw": true
              },
              "fromcurrent": true,
              "mode": "immediate",
              "transition": {
               "duration": 0,
               "easing": "linear"
              }
             }
            ],
            "label": "2012",
            "method": "animate"
           },
           {
            "args": [
             [
              "2013"
             ],
             {
              "frame": {
               "duration": 0,
               "redraw": true
              },
              "fromcurrent": true,
              "mode": "immediate",
              "transition": {
               "duration": 0,
               "easing": "linear"
              }
             }
            ],
            "label": "2013",
            "method": "animate"
           },
           {
            "args": [
             [
              "2014"
             ],
             {
              "frame": {
               "duration": 0,
               "redraw": true
              },
              "fromcurrent": true,
              "mode": "immediate",
              "transition": {
               "duration": 0,
               "easing": "linear"
              }
             }
            ],
            "label": "2014",
            "method": "animate"
           },
           {
            "args": [
             [
              "2015"
             ],
             {
              "frame": {
               "duration": 0,
               "redraw": true
              },
              "fromcurrent": true,
              "mode": "immediate",
              "transition": {
               "duration": 0,
               "easing": "linear"
              }
             }
            ],
            "label": "2015",
            "method": "animate"
           },
           {
            "args": [
             [
              "2016"
             ],
             {
              "frame": {
               "duration": 0,
               "redraw": true
              },
              "fromcurrent": true,
              "mode": "immediate",
              "transition": {
               "duration": 0,
               "easing": "linear"
              }
             }
            ],
            "label": "2016",
            "method": "animate"
           },
           {
            "args": [
             [
              "2017"
             ],
             {
              "frame": {
               "duration": 0,
               "redraw": true
              },
              "fromcurrent": true,
              "mode": "immediate",
              "transition": {
               "duration": 0,
               "easing": "linear"
              }
             }
            ],
            "label": "2017",
            "method": "animate"
           },
           {
            "args": [
             [
              "2018"
             ],
             {
              "frame": {
               "duration": 0,
               "redraw": true
              },
              "fromcurrent": true,
              "mode": "immediate",
              "transition": {
               "duration": 0,
               "easing": "linear"
              }
             }
            ],
            "label": "2018",
            "method": "animate"
           },
           {
            "args": [
             [
              "2019"
             ],
             {
              "frame": {
               "duration": 0,
               "redraw": true
              },
              "fromcurrent": true,
              "mode": "immediate",
              "transition": {
               "duration": 0,
               "easing": "linear"
              }
             }
            ],
            "label": "2019",
            "method": "animate"
           }
          ],
          "x": 0.1,
          "xanchor": "left",
          "y": 0,
          "yanchor": "top"
         }
        ],
        "template": {
         "data": {
          "bar": [
           {
            "error_x": {
             "color": "#2a3f5f"
            },
            "error_y": {
             "color": "#2a3f5f"
            },
            "marker": {
             "line": {
              "color": "#E5ECF6",
              "width": 0.5
             },
             "pattern": {
              "fillmode": "overlay",
              "size": 10,
              "solidity": 0.2
             }
            },
            "type": "bar"
           }
          ],
          "barpolar": [
           {
            "marker": {
             "line": {
              "color": "#E5ECF6",
              "width": 0.5
             },
             "pattern": {
              "fillmode": "overlay",
              "size": 10,
              "solidity": 0.2
             }
            },
            "type": "barpolar"
           }
          ],
          "carpet": [
           {
            "aaxis": {
             "endlinecolor": "#2a3f5f",
             "gridcolor": "white",
             "linecolor": "white",
             "minorgridcolor": "white",
             "startlinecolor": "#2a3f5f"
            },
            "baxis": {
             "endlinecolor": "#2a3f5f",
             "gridcolor": "white",
             "linecolor": "white",
             "minorgridcolor": "white",
             "startlinecolor": "#2a3f5f"
            },
            "type": "carpet"
           }
          ],
          "choropleth": [
           {
            "colorbar": {
             "outlinewidth": 0,
             "ticks": ""
            },
            "type": "choropleth"
           }
          ],
          "contour": [
           {
            "colorbar": {
             "outlinewidth": 0,
             "ticks": ""
            },
            "colorscale": [
             [
              0,
              "#0d0887"
             ],
             [
              0.1111111111111111,
              "#46039f"
             ],
             [
              0.2222222222222222,
              "#7201a8"
             ],
             [
              0.3333333333333333,
              "#9c179e"
             ],
             [
              0.4444444444444444,
              "#bd3786"
             ],
             [
              0.5555555555555556,
              "#d8576b"
             ],
             [
              0.6666666666666666,
              "#ed7953"
             ],
             [
              0.7777777777777778,
              "#fb9f3a"
             ],
             [
              0.8888888888888888,
              "#fdca26"
             ],
             [
              1,
              "#f0f921"
             ]
            ],
            "type": "contour"
           }
          ],
          "contourcarpet": [
           {
            "colorbar": {
             "outlinewidth": 0,
             "ticks": ""
            },
            "type": "contourcarpet"
           }
          ],
          "heatmap": [
           {
            "colorbar": {
             "outlinewidth": 0,
             "ticks": ""
            },
            "colorscale": [
             [
              0,
              "#0d0887"
             ],
             [
              0.1111111111111111,
              "#46039f"
             ],
             [
              0.2222222222222222,
              "#7201a8"
             ],
             [
              0.3333333333333333,
              "#9c179e"
             ],
             [
              0.4444444444444444,
              "#bd3786"
             ],
             [
              0.5555555555555556,
              "#d8576b"
             ],
             [
              0.6666666666666666,
              "#ed7953"
             ],
             [
              0.7777777777777778,
              "#fb9f3a"
             ],
             [
              0.8888888888888888,
              "#fdca26"
             ],
             [
              1,
              "#f0f921"
             ]
            ],
            "type": "heatmap"
           }
          ],
          "heatmapgl": [
           {
            "colorbar": {
             "outlinewidth": 0,
             "ticks": ""
            },
            "colorscale": [
             [
              0,
              "#0d0887"
             ],
             [
              0.1111111111111111,
              "#46039f"
             ],
             [
              0.2222222222222222,
              "#7201a8"
             ],
             [
              0.3333333333333333,
              "#9c179e"
             ],
             [
              0.4444444444444444,
              "#bd3786"
             ],
             [
              0.5555555555555556,
              "#d8576b"
             ],
             [
              0.6666666666666666,
              "#ed7953"
             ],
             [
              0.7777777777777778,
              "#fb9f3a"
             ],
             [
              0.8888888888888888,
              "#fdca26"
             ],
             [
              1,
              "#f0f921"
             ]
            ],
            "type": "heatmapgl"
           }
          ],
          "histogram": [
           {
            "marker": {
             "pattern": {
              "fillmode": "overlay",
              "size": 10,
              "solidity": 0.2
             }
            },
            "type": "histogram"
           }
          ],
          "histogram2d": [
           {
            "colorbar": {
             "outlinewidth": 0,
             "ticks": ""
            },
            "colorscale": [
             [
              0,
              "#0d0887"
             ],
             [
              0.1111111111111111,
              "#46039f"
             ],
             [
              0.2222222222222222,
              "#7201a8"
             ],
             [
              0.3333333333333333,
              "#9c179e"
             ],
             [
              0.4444444444444444,
              "#bd3786"
             ],
             [
              0.5555555555555556,
              "#d8576b"
             ],
             [
              0.6666666666666666,
              "#ed7953"
             ],
             [
              0.7777777777777778,
              "#fb9f3a"
             ],
             [
              0.8888888888888888,
              "#fdca26"
             ],
             [
              1,
              "#f0f921"
             ]
            ],
            "type": "histogram2d"
           }
          ],
          "histogram2dcontour": [
           {
            "colorbar": {
             "outlinewidth": 0,
             "ticks": ""
            },
            "colorscale": [
             [
              0,
              "#0d0887"
             ],
             [
              0.1111111111111111,
              "#46039f"
             ],
             [
              0.2222222222222222,
              "#7201a8"
             ],
             [
              0.3333333333333333,
              "#9c179e"
             ],
             [
              0.4444444444444444,
              "#bd3786"
             ],
             [
              0.5555555555555556,
              "#d8576b"
             ],
             [
              0.6666666666666666,
              "#ed7953"
             ],
             [
              0.7777777777777778,
              "#fb9f3a"
             ],
             [
              0.8888888888888888,
              "#fdca26"
             ],
             [
              1,
              "#f0f921"
             ]
            ],
            "type": "histogram2dcontour"
           }
          ],
          "mesh3d": [
           {
            "colorbar": {
             "outlinewidth": 0,
             "ticks": ""
            },
            "type": "mesh3d"
           }
          ],
          "parcoords": [
           {
            "line": {
             "colorbar": {
              "outlinewidth": 0,
              "ticks": ""
             }
            },
            "type": "parcoords"
           }
          ],
          "pie": [
           {
            "automargin": true,
            "type": "pie"
           }
          ],
          "scatter": [
           {
            "fillpattern": {
             "fillmode": "overlay",
             "size": 10,
             "solidity": 0.2
            },
            "type": "scatter"
           }
          ],
          "scatter3d": [
           {
            "line": {
             "colorbar": {
              "outlinewidth": 0,
              "ticks": ""
             }
            },
            "marker": {
             "colorbar": {
              "outlinewidth": 0,
              "ticks": ""
             }
            },
            "type": "scatter3d"
           }
          ],
          "scattercarpet": [
           {
            "marker": {
             "colorbar": {
              "outlinewidth": 0,
              "ticks": ""
             }
            },
            "type": "scattercarpet"
           }
          ],
          "scattergeo": [
           {
            "marker": {
             "colorbar": {
              "outlinewidth": 0,
              "ticks": ""
             }
            },
            "type": "scattergeo"
           }
          ],
          "scattergl": [
           {
            "marker": {
             "colorbar": {
              "outlinewidth": 0,
              "ticks": ""
             }
            },
            "type": "scattergl"
           }
          ],
          "scattermapbox": [
           {
            "marker": {
             "colorbar": {
              "outlinewidth": 0,
              "ticks": ""
             }
            },
            "type": "scattermapbox"
           }
          ],
          "scatterpolar": [
           {
            "marker": {
             "colorbar": {
              "outlinewidth": 0,
              "ticks": ""
             }
            },
            "type": "scatterpolar"
           }
          ],
          "scatterpolargl": [
           {
            "marker": {
             "colorbar": {
              "outlinewidth": 0,
              "ticks": ""
             }
            },
            "type": "scatterpolargl"
           }
          ],
          "scatterternary": [
           {
            "marker": {
             "colorbar": {
              "outlinewidth": 0,
              "ticks": ""
             }
            },
            "type": "scatterternary"
           }
          ],
          "surface": [
           {
            "colorbar": {
             "outlinewidth": 0,
             "ticks": ""
            },
            "colorscale": [
             [
              0,
              "#0d0887"
             ],
             [
              0.1111111111111111,
              "#46039f"
             ],
             [
              0.2222222222222222,
              "#7201a8"
             ],
             [
              0.3333333333333333,
              "#9c179e"
             ],
             [
              0.4444444444444444,
              "#bd3786"
             ],
             [
              0.5555555555555556,
              "#d8576b"
             ],
             [
              0.6666666666666666,
              "#ed7953"
             ],
             [
              0.7777777777777778,
              "#fb9f3a"
             ],
             [
              0.8888888888888888,
              "#fdca26"
             ],
             [
              1,
              "#f0f921"
             ]
            ],
            "type": "surface"
           }
          ],
          "table": [
           {
            "cells": {
             "fill": {
              "color": "#EBF0F8"
             },
             "line": {
              "color": "white"
             }
            },
            "header": {
             "fill": {
              "color": "#C8D4E3"
             },
             "line": {
              "color": "white"
             }
            },
            "type": "table"
           }
          ]
         },
         "layout": {
          "annotationdefaults": {
           "arrowcolor": "#2a3f5f",
           "arrowhead": 0,
           "arrowwidth": 1
          },
          "autotypenumbers": "strict",
          "coloraxis": {
           "colorbar": {
            "outlinewidth": 0,
            "ticks": ""
           }
          },
          "colorscale": {
           "diverging": [
            [
             0,
             "#8e0152"
            ],
            [
             0.1,
             "#c51b7d"
            ],
            [
             0.2,
             "#de77ae"
            ],
            [
             0.3,
             "#f1b6da"
            ],
            [
             0.4,
             "#fde0ef"
            ],
            [
             0.5,
             "#f7f7f7"
            ],
            [
             0.6,
             "#e6f5d0"
            ],
            [
             0.7,
             "#b8e186"
            ],
            [
             0.8,
             "#7fbc41"
            ],
            [
             0.9,
             "#4d9221"
            ],
            [
             1,
             "#276419"
            ]
           ],
           "sequential": [
            [
             0,
             "#0d0887"
            ],
            [
             0.1111111111111111,
             "#46039f"
            ],
            [
             0.2222222222222222,
             "#7201a8"
            ],
            [
             0.3333333333333333,
             "#9c179e"
            ],
            [
             0.4444444444444444,
             "#bd3786"
            ],
            [
             0.5555555555555556,
             "#d8576b"
            ],
            [
             0.6666666666666666,
             "#ed7953"
            ],
            [
             0.7777777777777778,
             "#fb9f3a"
            ],
            [
             0.8888888888888888,
             "#fdca26"
            ],
            [
             1,
             "#f0f921"
            ]
           ],
           "sequentialminus": [
            [
             0,
             "#0d0887"
            ],
            [
             0.1111111111111111,
             "#46039f"
            ],
            [
             0.2222222222222222,
             "#7201a8"
            ],
            [
             0.3333333333333333,
             "#9c179e"
            ],
            [
             0.4444444444444444,
             "#bd3786"
            ],
            [
             0.5555555555555556,
             "#d8576b"
            ],
            [
             0.6666666666666666,
             "#ed7953"
            ],
            [
             0.7777777777777778,
             "#fb9f3a"
            ],
            [
             0.8888888888888888,
             "#fdca26"
            ],
            [
             1,
             "#f0f921"
            ]
           ]
          },
          "colorway": [
           "#636efa",
           "#EF553B",
           "#00cc96",
           "#ab63fa",
           "#FFA15A",
           "#19d3f3",
           "#FF6692",
           "#B6E880",
           "#FF97FF",
           "#FECB52"
          ],
          "font": {
           "color": "#2a3f5f"
          },
          "geo": {
           "bgcolor": "white",
           "lakecolor": "white",
           "landcolor": "#E5ECF6",
           "showlakes": true,
           "showland": true,
           "subunitcolor": "white"
          },
          "hoverlabel": {
           "align": "left"
          },
          "hovermode": "closest",
          "mapbox": {
           "style": "light"
          },
          "paper_bgcolor": "white",
          "plot_bgcolor": "#E5ECF6",
          "polar": {
           "angularaxis": {
            "gridcolor": "white",
            "linecolor": "white",
            "ticks": ""
           },
           "bgcolor": "#E5ECF6",
           "radialaxis": {
            "gridcolor": "white",
            "linecolor": "white",
            "ticks": ""
           }
          },
          "scene": {
           "xaxis": {
            "backgroundcolor": "#E5ECF6",
            "gridcolor": "white",
            "gridwidth": 2,
            "linecolor": "white",
            "showbackground": true,
            "ticks": "",
            "zerolinecolor": "white"
           },
           "yaxis": {
            "backgroundcolor": "#E5ECF6",
            "gridcolor": "white",
            "gridwidth": 2,
            "linecolor": "white",
            "showbackground": true,
            "ticks": "",
            "zerolinecolor": "white"
           },
           "zaxis": {
            "backgroundcolor": "#E5ECF6",
            "gridcolor": "white",
            "gridwidth": 2,
            "linecolor": "white",
            "showbackground": true,
            "ticks": "",
            "zerolinecolor": "white"
           }
          },
          "shapedefaults": {
           "line": {
            "color": "#2a3f5f"
           }
          },
          "ternary": {
           "aaxis": {
            "gridcolor": "white",
            "linecolor": "white",
            "ticks": ""
           },
           "baxis": {
            "gridcolor": "white",
            "linecolor": "white",
            "ticks": ""
           },
           "bgcolor": "#E5ECF6",
           "caxis": {
            "gridcolor": "white",
            "linecolor": "white",
            "ticks": ""
           }
          },
          "title": {
           "x": 0.05
          },
          "xaxis": {
           "automargin": true,
           "gridcolor": "white",
           "linecolor": "white",
           "ticks": "",
           "title": {
            "standoff": 15
           },
           "zerolinecolor": "white",
           "zerolinewidth": 2
          },
          "yaxis": {
           "automargin": true,
           "gridcolor": "white",
           "linecolor": "white",
           "ticks": "",
           "title": {
            "standoff": 15
           },
           "zerolinecolor": "white",
           "zerolinewidth": 2
          }
         }
        },
        "title": {
         "text": "Unemployment by Country"
        },
        "updatemenus": [
         {
          "buttons": [
           {
            "args": [
             null,
             {
              "frame": {
               "duration": 500,
               "redraw": true
              },
              "fromcurrent": true,
              "mode": "immediate",
              "transition": {
               "duration": 500,
               "easing": "linear"
              }
             }
            ],
            "label": "&#9654;",
            "method": "animate"
           },
           {
            "args": [
             [
              null
             ],
             {
              "frame": {
               "duration": 0,
               "redraw": true
              },
              "fromcurrent": true,
              "mode": "immediate",
              "transition": {
               "duration": 0,
               "easing": "linear"
              }
             }
            ],
            "label": "&#9724;",
            "method": "animate"
           }
          ],
          "direction": "left",
          "pad": {
           "r": 10,
           "t": 70
          },
          "showactive": false,
          "type": "buttons",
          "x": 0.1,
          "xanchor": "right",
          "y": 0,
          "yanchor": "top"
         }
        ]
       }
      }
     },
     "metadata": {},
     "output_type": "display_data"
    }
   ],
   "source": [
    "#plot unemployment on px.scatter_geo\n",
    "px.scatter_geo(data,locations='Country', locationmode='country names',size='Unemployment Rate (%)',color='Unemployment Rate (%)',animation_frame='Year',title='Unemployment by Country')\n"
   ]
  },
  {
   "cell_type": "code",
   "execution_count": 101,
   "metadata": {},
   "outputs": [
    {
     "data": {
      "application/vnd.plotly.v1+json": {
       "config": {
        "plotlyServerURL": "https://plot.ly"
       },
       "data": [
        {
         "geo": "geo",
         "hovertemplate": "Year=2010<br>CO2 Emissions (metric tons per capita)=%{marker.color}<br>Country=%{location}<extra></extra>",
         "legendgroup": "",
         "locationmode": "country names",
         "locations": [
          "Brazil",
          "Canada",
          "Saudi Arabia",
          "United States",
          "China",
          "Italy",
          "Australia",
          "South Africa",
          "Argentina",
          "Japan",
          "Germany",
          "India"
         ],
         "marker": {
          "color": [
           10.79,
           4.95,
           7.29,
           16.99,
           19.44,
           2.58,
           18.51,
           11.79,
           5.45,
           5.19,
           4.11,
           17.2
          ],
          "coloraxis": "coloraxis",
          "size": [
           10.79,
           4.95,
           7.29,
           16.99,
           19.44,
           2.58,
           18.51,
           11.79,
           5.45,
           5.19,
           4.11,
           17.2
          ],
          "sizemode": "area",
          "sizeref": 0.048775000000000006,
          "symbol": "circle"
         },
         "mode": "markers",
         "name": "",
         "showlegend": false,
         "type": "scattergeo"
        }
       ],
       "frames": [
        {
         "data": [
          {
           "geo": "geo",
           "hovertemplate": "Year=2010<br>CO2 Emissions (metric tons per capita)=%{marker.color}<br>Country=%{location}<extra></extra>",
           "legendgroup": "",
           "locationmode": "country names",
           "locations": [
            "Brazil",
            "Canada",
            "Saudi Arabia",
            "United States",
            "China",
            "Italy",
            "Australia",
            "South Africa",
            "Argentina",
            "Japan",
            "Germany",
            "India"
           ],
           "marker": {
            "color": [
             10.79,
             4.95,
             7.29,
             16.99,
             19.44,
             2.58,
             18.51,
             11.79,
             5.45,
             5.19,
             4.11,
             17.2
            ],
            "coloraxis": "coloraxis",
            "size": [
             10.79,
             4.95,
             7.29,
             16.99,
             19.44,
             2.58,
             18.51,
             11.79,
             5.45,
             5.19,
             4.11,
             17.2
            ],
            "sizemode": "area",
            "sizeref": 0.048775000000000006,
            "symbol": "circle"
           },
           "mode": "markers",
           "name": "",
           "showlegend": false,
           "type": "scattergeo"
          }
         ],
         "name": "2010"
        },
        {
         "data": [
          {
           "geo": "geo",
           "hovertemplate": "Year=2011<br>CO2 Emissions (metric tons per capita)=%{marker.color}<br>Country=%{location}<extra></extra>",
           "legendgroup": "",
           "locationmode": "country names",
           "locations": [
            "Japan",
            "Argentina",
            "Russia",
            "United Kingdom",
            "Indonesia",
            "Canada",
            "India",
            "China",
            "Saudi Arabia",
            "Australia",
            "Nigeria",
            "Italy",
            "Mexico",
            "Germany",
            "Turkey"
           ],
           "marker": {
            "color": [
             15.67,
             15.86,
             0.81,
             15.87,
             3.6,
             9.62,
             12.42,
             2.64,
             10.14,
             2.69,
             4.71,
             12.43,
             8.28,
             4.71,
             4.97
            ],
            "coloraxis": "coloraxis",
            "size": [
             15.67,
             15.86,
             0.81,
             15.87,
             3.6,
             9.62,
             12.42,
             2.64,
             10.14,
             2.69,
             4.71,
             12.43,
             8.28,
             4.71,
             4.97
            ],
            "sizemode": "area",
            "sizeref": 0.048775000000000006,
            "symbol": "circle"
           },
           "mode": "markers",
           "name": "",
           "showlegend": false,
           "type": "scattergeo"
          }
         ],
         "name": "2011"
        },
        {
         "data": [
          {
           "geo": "geo",
           "hovertemplate": "Year=2012<br>CO2 Emissions (metric tons per capita)=%{marker.color}<br>Country=%{location}<extra></extra>",
           "legendgroup": "",
           "locationmode": "country names",
           "locations": [
            "India",
            "France",
            "Nigeria",
            "United States",
            "United Kingdom",
            "South Africa",
            "Russia",
            "Argentina",
            "Turkey",
            "Indonesia"
           ],
           "marker": {
            "color": [
             2.08,
             13.85,
             8.53,
             9.53,
             7.98,
             9.34,
             6.3,
             9.37,
             11.8,
             1.04
            ],
            "coloraxis": "coloraxis",
            "size": [
             2.08,
             13.85,
             8.53,
             9.53,
             7.98,
             9.34,
             6.3,
             9.37,
             11.8,
             1.04
            ],
            "sizemode": "area",
            "sizeref": 0.048775000000000006,
            "symbol": "circle"
           },
           "mode": "markers",
           "name": "",
           "showlegend": false,
           "type": "scattergeo"
          }
         ],
         "name": "2012"
        },
        {
         "data": [
          {
           "geo": "geo",
           "hovertemplate": "Year=2013<br>CO2 Emissions (metric tons per capita)=%{marker.color}<br>Country=%{location}<extra></extra>",
           "legendgroup": "",
           "locationmode": "country names",
           "locations": [
            "Mexico",
            "Nigeria",
            "China",
            "Brazil",
            "Italy",
            "Russia",
            "United Kingdom",
            "United States",
            "South Korea",
            "Germany",
            "Turkey",
            "Canada",
            "Indonesia",
            "France"
           ],
           "marker": {
            "color": [
             19.13,
             14.32,
             10.62,
             5.42,
             3.74,
             18.56,
             19.51,
             3.52,
             11.36,
             9.62,
             9.01,
             9.77,
             7.02,
             4.43
            ],
            "coloraxis": "coloraxis",
            "size": [
             19.13,
             14.32,
             10.62,
             5.42,
             3.74,
             18.56,
             19.51,
             3.52,
             11.36,
             9.62,
             9.01,
             9.77,
             7.02,
             4.43
            ],
            "sizemode": "area",
            "sizeref": 0.048775000000000006,
            "symbol": "circle"
           },
           "mode": "markers",
           "name": "",
           "showlegend": false,
           "type": "scattergeo"
          }
         ],
         "name": "2013"
        },
        {
         "data": [
          {
           "geo": "geo",
           "hovertemplate": "Year=2014<br>CO2 Emissions (metric tons per capita)=%{marker.color}<br>Country=%{location}<extra></extra>",
           "legendgroup": "",
           "locationmode": "country names",
           "locations": [
            "India",
            "Italy",
            "United States",
            "Nigeria",
            "Brazil",
            "Indonesia",
            "South Africa",
            "France",
            "Canada",
            "Mexico",
            "Russia",
            "Germany"
           ],
           "marker": {
            "color": [
             15.66,
             16.54,
             9.72,
             16.55,
             10.83,
             12.48,
             1.31,
             13.61,
             19.1,
             1.37,
             12.14,
             3.75
            ],
            "coloraxis": "coloraxis",
            "size": [
             15.66,
             16.54,
             9.72,
             16.55,
             10.83,
             12.48,
             1.31,
             13.61,
             19.1,
             1.37,
             12.14,
             3.75
            ],
            "sizemode": "area",
            "sizeref": 0.048775000000000006,
            "symbol": "circle"
           },
           "mode": "markers",
           "name": "",
           "showlegend": false,
           "type": "scattergeo"
          }
         ],
         "name": "2014"
        },
        {
         "data": [
          {
           "geo": "geo",
           "hovertemplate": "Year=2015<br>CO2 Emissions (metric tons per capita)=%{marker.color}<br>Country=%{location}<extra></extra>",
           "legendgroup": "",
           "locationmode": "country names",
           "locations": [
            "United Kingdom",
            "Indonesia",
            "Argentina",
            "Italy",
            "China",
            "India",
            "Nigeria",
            "Germany",
            "Russia",
            "Japan",
            "South Africa",
            "Canada",
            "Brazil"
           ],
           "marker": {
            "color": [
             7.55,
             5.43,
             17.15,
             4.94,
             16.88,
             11.3,
             6.77,
             2.57,
             0.94,
             11.73,
             15.01,
             3.33,
             9.88
            ],
            "coloraxis": "coloraxis",
            "size": [
             7.55,
             5.43,
             17.15,
             4.94,
             16.88,
             11.3,
             6.77,
             2.57,
             0.94,
             11.73,
             15.01,
             3.33,
             9.88
            ],
            "sizemode": "area",
            "sizeref": 0.048775000000000006,
            "symbol": "circle"
           },
           "mode": "markers",
           "name": "",
           "showlegend": false,
           "type": "scattergeo"
          }
         ],
         "name": "2015"
        },
        {
         "data": [
          {
           "geo": "geo",
           "hovertemplate": "Year=2016<br>CO2 Emissions (metric tons per capita)=%{marker.color}<br>Country=%{location}<extra></extra>",
           "legendgroup": "",
           "locationmode": "country names",
           "locations": [
            "China",
            "Turkey",
            "Germany",
            "Saudi Arabia",
            "India",
            "Canada",
            "South Korea",
            "Australia",
            "United Kingdom",
            "Argentina",
            "Russia",
            "Indonesia",
            "South Africa"
           ],
           "marker": {
            "color": [
             10.18,
             7.08,
             13.91,
             13.57,
             6.29,
             14.91,
             14.75,
             2.16,
             3.99,
             15.83,
             7.17,
             5.56,
             1.04
            ],
            "coloraxis": "coloraxis",
            "size": [
             10.18,
             7.08,
             13.91,
             13.57,
             6.29,
             14.91,
             14.75,
             2.16,
             3.99,
             15.83,
             7.17,
             5.56,
             1.04
            ],
            "sizemode": "area",
            "sizeref": 0.048775000000000006,
            "symbol": "circle"
           },
           "mode": "markers",
           "name": "",
           "showlegend": false,
           "type": "scattergeo"
          }
         ],
         "name": "2016"
        },
        {
         "data": [
          {
           "geo": "geo",
           "hovertemplate": "Year=2017<br>CO2 Emissions (metric tons per capita)=%{marker.color}<br>Country=%{location}<extra></extra>",
           "legendgroup": "",
           "locationmode": "country names",
           "locations": [
            "Indonesia",
            "Saudi Arabia",
            "Italy",
            "South Korea",
            "United States",
            "Nigeria",
            "Mexico",
            "Canada",
            "Japan",
            "Germany",
            "South Africa",
            "Turkey",
            "France",
            "Argentina"
           ],
           "marker": {
            "color": [
             2.87,
             14.07,
             17.61,
             12.36,
             9.6,
             5.49,
             3.93,
             11.47,
             3.75,
             5.84,
             18.13,
             2.52,
             16.44,
             8.29
            ],
            "coloraxis": "coloraxis",
            "size": [
             2.87,
             14.07,
             17.61,
             12.36,
             9.6,
             5.49,
             3.93,
             11.47,
             3.75,
             5.84,
             18.13,
             2.52,
             16.44,
             8.29
            ],
            "sizemode": "area",
            "sizeref": 0.048775000000000006,
            "symbol": "circle"
           },
           "mode": "markers",
           "name": "",
           "showlegend": false,
           "type": "scattergeo"
          }
         ],
         "name": "2017"
        },
        {
         "data": [
          {
           "geo": "geo",
           "hovertemplate": "Year=2018<br>CO2 Emissions (metric tons per capita)=%{marker.color}<br>Country=%{location}<extra></extra>",
           "legendgroup": "",
           "locationmode": "country names",
           "locations": [
            "United Kingdom",
            "Nigeria",
            "Mexico",
            "Australia",
            "China",
            "France",
            "Japan",
            "India",
            "Saudi Arabia",
            "South Africa",
            "South Korea",
            "Argentina",
            "Canada"
           ],
           "marker": {
            "color": [
             9.29,
             16.61,
             7.01,
             3.74,
             5.53,
             2.72,
             9.65,
             18.42,
             16.31,
             17.43,
             16.89,
             14.82,
             7.25
            ],
            "coloraxis": "coloraxis",
            "size": [
             9.29,
             16.61,
             7.01,
             3.74,
             5.53,
             2.72,
             9.65,
             18.42,
             16.31,
             17.43,
             16.89,
             14.82,
             7.25
            ],
            "sizemode": "area",
            "sizeref": 0.048775000000000006,
            "symbol": "circle"
           },
           "mode": "markers",
           "name": "",
           "showlegend": false,
           "type": "scattergeo"
          }
         ],
         "name": "2018"
        },
        {
         "data": [
          {
           "geo": "geo",
           "hovertemplate": "Year=2019<br>CO2 Emissions (metric tons per capita)=%{marker.color}<br>Country=%{location}<extra></extra>",
           "legendgroup": "",
           "locationmode": "country names",
           "locations": [
            "India",
            "Saudi Arabia",
            "United Kingdom",
            "Brazil",
            "France",
            "United States",
            "Nigeria",
            "Indonesia",
            "Italy",
            "Turkey",
            "Japan",
            "Canada",
            "Argentina"
           ],
           "marker": {
            "color": [
             19.1,
             3.41,
             3.16,
             11.94,
             16.14,
             2.57,
             8.58,
             1.6,
             16.65,
             9.29,
             2.18,
             1.92,
             16.07
            ],
            "coloraxis": "coloraxis",
            "size": [
             19.1,
             3.41,
             3.16,
             11.94,
             16.14,
             2.57,
             8.58,
             1.6,
             16.65,
             9.29,
             2.18,
             1.92,
             16.07
            ],
            "sizemode": "area",
            "sizeref": 0.048775000000000006,
            "symbol": "circle"
           },
           "mode": "markers",
           "name": "",
           "showlegend": false,
           "type": "scattergeo"
          }
         ],
         "name": "2019"
        }
       ],
       "layout": {
        "coloraxis": {
         "colorbar": {
          "title": {
           "text": "CO2 Emissions (metric tons per capita)"
          }
         },
         "colorscale": [
          [
           0,
           "#0d0887"
          ],
          [
           0.1111111111111111,
           "#46039f"
          ],
          [
           0.2222222222222222,
           "#7201a8"
          ],
          [
           0.3333333333333333,
           "#9c179e"
          ],
          [
           0.4444444444444444,
           "#bd3786"
          ],
          [
           0.5555555555555556,
           "#d8576b"
          ],
          [
           0.6666666666666666,
           "#ed7953"
          ],
          [
           0.7777777777777778,
           "#fb9f3a"
          ],
          [
           0.8888888888888888,
           "#fdca26"
          ],
          [
           1,
           "#f0f921"
          ]
         ]
        },
        "geo": {
         "center": {},
         "domain": {
          "x": [
           0,
           1
          ],
          "y": [
           0,
           1
          ]
         }
        },
        "legend": {
         "itemsizing": "constant",
         "tracegroupgap": 0
        },
        "sliders": [
         {
          "active": 0,
          "currentvalue": {
           "prefix": "Year="
          },
          "len": 0.9,
          "pad": {
           "b": 10,
           "t": 60
          },
          "steps": [
           {
            "args": [
             [
              "2010"
             ],
             {
              "frame": {
               "duration": 0,
               "redraw": true
              },
              "fromcurrent": true,
              "mode": "immediate",
              "transition": {
               "duration": 0,
               "easing": "linear"
              }
             }
            ],
            "label": "2010",
            "method": "animate"
           },
           {
            "args": [
             [
              "2011"
             ],
             {
              "frame": {
               "duration": 0,
               "redraw": true
              },
              "fromcurrent": true,
              "mode": "immediate",
              "transition": {
               "duration": 0,
               "easing": "linear"
              }
             }
            ],
            "label": "2011",
            "method": "animate"
           },
           {
            "args": [
             [
              "2012"
             ],
             {
              "frame": {
               "duration": 0,
               "redraw": true
              },
              "fromcurrent": true,
              "mode": "immediate",
              "transition": {
               "duration": 0,
               "easing": "linear"
              }
             }
            ],
            "label": "2012",
            "method": "animate"
           },
           {
            "args": [
             [
              "2013"
             ],
             {
              "frame": {
               "duration": 0,
               "redraw": true
              },
              "fromcurrent": true,
              "mode": "immediate",
              "transition": {
               "duration": 0,
               "easing": "linear"
              }
             }
            ],
            "label": "2013",
            "method": "animate"
           },
           {
            "args": [
             [
              "2014"
             ],
             {
              "frame": {
               "duration": 0,
               "redraw": true
              },
              "fromcurrent": true,
              "mode": "immediate",
              "transition": {
               "duration": 0,
               "easing": "linear"
              }
             }
            ],
            "label": "2014",
            "method": "animate"
           },
           {
            "args": [
             [
              "2015"
             ],
             {
              "frame": {
               "duration": 0,
               "redraw": true
              },
              "fromcurrent": true,
              "mode": "immediate",
              "transition": {
               "duration": 0,
               "easing": "linear"
              }
             }
            ],
            "label": "2015",
            "method": "animate"
           },
           {
            "args": [
             [
              "2016"
             ],
             {
              "frame": {
               "duration": 0,
               "redraw": true
              },
              "fromcurrent": true,
              "mode": "immediate",
              "transition": {
               "duration": 0,
               "easing": "linear"
              }
             }
            ],
            "label": "2016",
            "method": "animate"
           },
           {
            "args": [
             [
              "2017"
             ],
             {
              "frame": {
               "duration": 0,
               "redraw": true
              },
              "fromcurrent": true,
              "mode": "immediate",
              "transition": {
               "duration": 0,
               "easing": "linear"
              }
             }
            ],
            "label": "2017",
            "method": "animate"
           },
           {
            "args": [
             [
              "2018"
             ],
             {
              "frame": {
               "duration": 0,
               "redraw": true
              },
              "fromcurrent": true,
              "mode": "immediate",
              "transition": {
               "duration": 0,
               "easing": "linear"
              }
             }
            ],
            "label": "2018",
            "method": "animate"
           },
           {
            "args": [
             [
              "2019"
             ],
             {
              "frame": {
               "duration": 0,
               "redraw": true
              },
              "fromcurrent": true,
              "mode": "immediate",
              "transition": {
               "duration": 0,
               "easing": "linear"
              }
             }
            ],
            "label": "2019",
            "method": "animate"
           }
          ],
          "x": 0.1,
          "xanchor": "left",
          "y": 0,
          "yanchor": "top"
         }
        ],
        "template": {
         "data": {
          "bar": [
           {
            "error_x": {
             "color": "#2a3f5f"
            },
            "error_y": {
             "color": "#2a3f5f"
            },
            "marker": {
             "line": {
              "color": "#E5ECF6",
              "width": 0.5
             },
             "pattern": {
              "fillmode": "overlay",
              "size": 10,
              "solidity": 0.2
             }
            },
            "type": "bar"
           }
          ],
          "barpolar": [
           {
            "marker": {
             "line": {
              "color": "#E5ECF6",
              "width": 0.5
             },
             "pattern": {
              "fillmode": "overlay",
              "size": 10,
              "solidity": 0.2
             }
            },
            "type": "barpolar"
           }
          ],
          "carpet": [
           {
            "aaxis": {
             "endlinecolor": "#2a3f5f",
             "gridcolor": "white",
             "linecolor": "white",
             "minorgridcolor": "white",
             "startlinecolor": "#2a3f5f"
            },
            "baxis": {
             "endlinecolor": "#2a3f5f",
             "gridcolor": "white",
             "linecolor": "white",
             "minorgridcolor": "white",
             "startlinecolor": "#2a3f5f"
            },
            "type": "carpet"
           }
          ],
          "choropleth": [
           {
            "colorbar": {
             "outlinewidth": 0,
             "ticks": ""
            },
            "type": "choropleth"
           }
          ],
          "contour": [
           {
            "colorbar": {
             "outlinewidth": 0,
             "ticks": ""
            },
            "colorscale": [
             [
              0,
              "#0d0887"
             ],
             [
              0.1111111111111111,
              "#46039f"
             ],
             [
              0.2222222222222222,
              "#7201a8"
             ],
             [
              0.3333333333333333,
              "#9c179e"
             ],
             [
              0.4444444444444444,
              "#bd3786"
             ],
             [
              0.5555555555555556,
              "#d8576b"
             ],
             [
              0.6666666666666666,
              "#ed7953"
             ],
             [
              0.7777777777777778,
              "#fb9f3a"
             ],
             [
              0.8888888888888888,
              "#fdca26"
             ],
             [
              1,
              "#f0f921"
             ]
            ],
            "type": "contour"
           }
          ],
          "contourcarpet": [
           {
            "colorbar": {
             "outlinewidth": 0,
             "ticks": ""
            },
            "type": "contourcarpet"
           }
          ],
          "heatmap": [
           {
            "colorbar": {
             "outlinewidth": 0,
             "ticks": ""
            },
            "colorscale": [
             [
              0,
              "#0d0887"
             ],
             [
              0.1111111111111111,
              "#46039f"
             ],
             [
              0.2222222222222222,
              "#7201a8"
             ],
             [
              0.3333333333333333,
              "#9c179e"
             ],
             [
              0.4444444444444444,
              "#bd3786"
             ],
             [
              0.5555555555555556,
              "#d8576b"
             ],
             [
              0.6666666666666666,
              "#ed7953"
             ],
             [
              0.7777777777777778,
              "#fb9f3a"
             ],
             [
              0.8888888888888888,
              "#fdca26"
             ],
             [
              1,
              "#f0f921"
             ]
            ],
            "type": "heatmap"
           }
          ],
          "heatmapgl": [
           {
            "colorbar": {
             "outlinewidth": 0,
             "ticks": ""
            },
            "colorscale": [
             [
              0,
              "#0d0887"
             ],
             [
              0.1111111111111111,
              "#46039f"
             ],
             [
              0.2222222222222222,
              "#7201a8"
             ],
             [
              0.3333333333333333,
              "#9c179e"
             ],
             [
              0.4444444444444444,
              "#bd3786"
             ],
             [
              0.5555555555555556,
              "#d8576b"
             ],
             [
              0.6666666666666666,
              "#ed7953"
             ],
             [
              0.7777777777777778,
              "#fb9f3a"
             ],
             [
              0.8888888888888888,
              "#fdca26"
             ],
             [
              1,
              "#f0f921"
             ]
            ],
            "type": "heatmapgl"
           }
          ],
          "histogram": [
           {
            "marker": {
             "pattern": {
              "fillmode": "overlay",
              "size": 10,
              "solidity": 0.2
             }
            },
            "type": "histogram"
           }
          ],
          "histogram2d": [
           {
            "colorbar": {
             "outlinewidth": 0,
             "ticks": ""
            },
            "colorscale": [
             [
              0,
              "#0d0887"
             ],
             [
              0.1111111111111111,
              "#46039f"
             ],
             [
              0.2222222222222222,
              "#7201a8"
             ],
             [
              0.3333333333333333,
              "#9c179e"
             ],
             [
              0.4444444444444444,
              "#bd3786"
             ],
             [
              0.5555555555555556,
              "#d8576b"
             ],
             [
              0.6666666666666666,
              "#ed7953"
             ],
             [
              0.7777777777777778,
              "#fb9f3a"
             ],
             [
              0.8888888888888888,
              "#fdca26"
             ],
             [
              1,
              "#f0f921"
             ]
            ],
            "type": "histogram2d"
           }
          ],
          "histogram2dcontour": [
           {
            "colorbar": {
             "outlinewidth": 0,
             "ticks": ""
            },
            "colorscale": [
             [
              0,
              "#0d0887"
             ],
             [
              0.1111111111111111,
              "#46039f"
             ],
             [
              0.2222222222222222,
              "#7201a8"
             ],
             [
              0.3333333333333333,
              "#9c179e"
             ],
             [
              0.4444444444444444,
              "#bd3786"
             ],
             [
              0.5555555555555556,
              "#d8576b"
             ],
             [
              0.6666666666666666,
              "#ed7953"
             ],
             [
              0.7777777777777778,
              "#fb9f3a"
             ],
             [
              0.8888888888888888,
              "#fdca26"
             ],
             [
              1,
              "#f0f921"
             ]
            ],
            "type": "histogram2dcontour"
           }
          ],
          "mesh3d": [
           {
            "colorbar": {
             "outlinewidth": 0,
             "ticks": ""
            },
            "type": "mesh3d"
           }
          ],
          "parcoords": [
           {
            "line": {
             "colorbar": {
              "outlinewidth": 0,
              "ticks": ""
             }
            },
            "type": "parcoords"
           }
          ],
          "pie": [
           {
            "automargin": true,
            "type": "pie"
           }
          ],
          "scatter": [
           {
            "fillpattern": {
             "fillmode": "overlay",
             "size": 10,
             "solidity": 0.2
            },
            "type": "scatter"
           }
          ],
          "scatter3d": [
           {
            "line": {
             "colorbar": {
              "outlinewidth": 0,
              "ticks": ""
             }
            },
            "marker": {
             "colorbar": {
              "outlinewidth": 0,
              "ticks": ""
             }
            },
            "type": "scatter3d"
           }
          ],
          "scattercarpet": [
           {
            "marker": {
             "colorbar": {
              "outlinewidth": 0,
              "ticks": ""
             }
            },
            "type": "scattercarpet"
           }
          ],
          "scattergeo": [
           {
            "marker": {
             "colorbar": {
              "outlinewidth": 0,
              "ticks": ""
             }
            },
            "type": "scattergeo"
           }
          ],
          "scattergl": [
           {
            "marker": {
             "colorbar": {
              "outlinewidth": 0,
              "ticks": ""
             }
            },
            "type": "scattergl"
           }
          ],
          "scattermapbox": [
           {
            "marker": {
             "colorbar": {
              "outlinewidth": 0,
              "ticks": ""
             }
            },
            "type": "scattermapbox"
           }
          ],
          "scatterpolar": [
           {
            "marker": {
             "colorbar": {
              "outlinewidth": 0,
              "ticks": ""
             }
            },
            "type": "scatterpolar"
           }
          ],
          "scatterpolargl": [
           {
            "marker": {
             "colorbar": {
              "outlinewidth": 0,
              "ticks": ""
             }
            },
            "type": "scatterpolargl"
           }
          ],
          "scatterternary": [
           {
            "marker": {
             "colorbar": {
              "outlinewidth": 0,
              "ticks": ""
             }
            },
            "type": "scatterternary"
           }
          ],
          "surface": [
           {
            "colorbar": {
             "outlinewidth": 0,
             "ticks": ""
            },
            "colorscale": [
             [
              0,
              "#0d0887"
             ],
             [
              0.1111111111111111,
              "#46039f"
             ],
             [
              0.2222222222222222,
              "#7201a8"
             ],
             [
              0.3333333333333333,
              "#9c179e"
             ],
             [
              0.4444444444444444,
              "#bd3786"
             ],
             [
              0.5555555555555556,
              "#d8576b"
             ],
             [
              0.6666666666666666,
              "#ed7953"
             ],
             [
              0.7777777777777778,
              "#fb9f3a"
             ],
             [
              0.8888888888888888,
              "#fdca26"
             ],
             [
              1,
              "#f0f921"
             ]
            ],
            "type": "surface"
           }
          ],
          "table": [
           {
            "cells": {
             "fill": {
              "color": "#EBF0F8"
             },
             "line": {
              "color": "white"
             }
            },
            "header": {
             "fill": {
              "color": "#C8D4E3"
             },
             "line": {
              "color": "white"
             }
            },
            "type": "table"
           }
          ]
         },
         "layout": {
          "annotationdefaults": {
           "arrowcolor": "#2a3f5f",
           "arrowhead": 0,
           "arrowwidth": 1
          },
          "autotypenumbers": "strict",
          "coloraxis": {
           "colorbar": {
            "outlinewidth": 0,
            "ticks": ""
           }
          },
          "colorscale": {
           "diverging": [
            [
             0,
             "#8e0152"
            ],
            [
             0.1,
             "#c51b7d"
            ],
            [
             0.2,
             "#de77ae"
            ],
            [
             0.3,
             "#f1b6da"
            ],
            [
             0.4,
             "#fde0ef"
            ],
            [
             0.5,
             "#f7f7f7"
            ],
            [
             0.6,
             "#e6f5d0"
            ],
            [
             0.7,
             "#b8e186"
            ],
            [
             0.8,
             "#7fbc41"
            ],
            [
             0.9,
             "#4d9221"
            ],
            [
             1,
             "#276419"
            ]
           ],
           "sequential": [
            [
             0,
             "#0d0887"
            ],
            [
             0.1111111111111111,
             "#46039f"
            ],
            [
             0.2222222222222222,
             "#7201a8"
            ],
            [
             0.3333333333333333,
             "#9c179e"
            ],
            [
             0.4444444444444444,
             "#bd3786"
            ],
            [
             0.5555555555555556,
             "#d8576b"
            ],
            [
             0.6666666666666666,
             "#ed7953"
            ],
            [
             0.7777777777777778,
             "#fb9f3a"
            ],
            [
             0.8888888888888888,
             "#fdca26"
            ],
            [
             1,
             "#f0f921"
            ]
           ],
           "sequentialminus": [
            [
             0,
             "#0d0887"
            ],
            [
             0.1111111111111111,
             "#46039f"
            ],
            [
             0.2222222222222222,
             "#7201a8"
            ],
            [
             0.3333333333333333,
             "#9c179e"
            ],
            [
             0.4444444444444444,
             "#bd3786"
            ],
            [
             0.5555555555555556,
             "#d8576b"
            ],
            [
             0.6666666666666666,
             "#ed7953"
            ],
            [
             0.7777777777777778,
             "#fb9f3a"
            ],
            [
             0.8888888888888888,
             "#fdca26"
            ],
            [
             1,
             "#f0f921"
            ]
           ]
          },
          "colorway": [
           "#636efa",
           "#EF553B",
           "#00cc96",
           "#ab63fa",
           "#FFA15A",
           "#19d3f3",
           "#FF6692",
           "#B6E880",
           "#FF97FF",
           "#FECB52"
          ],
          "font": {
           "color": "#2a3f5f"
          },
          "geo": {
           "bgcolor": "white",
           "lakecolor": "white",
           "landcolor": "#E5ECF6",
           "showlakes": true,
           "showland": true,
           "subunitcolor": "white"
          },
          "hoverlabel": {
           "align": "left"
          },
          "hovermode": "closest",
          "mapbox": {
           "style": "light"
          },
          "paper_bgcolor": "white",
          "plot_bgcolor": "#E5ECF6",
          "polar": {
           "angularaxis": {
            "gridcolor": "white",
            "linecolor": "white",
            "ticks": ""
           },
           "bgcolor": "#E5ECF6",
           "radialaxis": {
            "gridcolor": "white",
            "linecolor": "white",
            "ticks": ""
           }
          },
          "scene": {
           "xaxis": {
            "backgroundcolor": "#E5ECF6",
            "gridcolor": "white",
            "gridwidth": 2,
            "linecolor": "white",
            "showbackground": true,
            "ticks": "",
            "zerolinecolor": "white"
           },
           "yaxis": {
            "backgroundcolor": "#E5ECF6",
            "gridcolor": "white",
            "gridwidth": 2,
            "linecolor": "white",
            "showbackground": true,
            "ticks": "",
            "zerolinecolor": "white"
           },
           "zaxis": {
            "backgroundcolor": "#E5ECF6",
            "gridcolor": "white",
            "gridwidth": 2,
            "linecolor": "white",
            "showbackground": true,
            "ticks": "",
            "zerolinecolor": "white"
           }
          },
          "shapedefaults": {
           "line": {
            "color": "#2a3f5f"
           }
          },
          "ternary": {
           "aaxis": {
            "gridcolor": "white",
            "linecolor": "white",
            "ticks": ""
           },
           "baxis": {
            "gridcolor": "white",
            "linecolor": "white",
            "ticks": ""
           },
           "bgcolor": "#E5ECF6",
           "caxis": {
            "gridcolor": "white",
            "linecolor": "white",
            "ticks": ""
           }
          },
          "title": {
           "x": 0.05
          },
          "xaxis": {
           "automargin": true,
           "gridcolor": "white",
           "linecolor": "white",
           "ticks": "",
           "title": {
            "standoff": 15
           },
           "zerolinecolor": "white",
           "zerolinewidth": 2
          },
          "yaxis": {
           "automargin": true,
           "gridcolor": "white",
           "linecolor": "white",
           "ticks": "",
           "title": {
            "standoff": 15
           },
           "zerolinecolor": "white",
           "zerolinewidth": 2
          }
         }
        },
        "title": {
         "text": "CO2 Emissions by Country"
        },
        "updatemenus": [
         {
          "buttons": [
           {
            "args": [
             null,
             {
              "frame": {
               "duration": 500,
               "redraw": true
              },
              "fromcurrent": true,
              "mode": "immediate",
              "transition": {
               "duration": 500,
               "easing": "linear"
              }
             }
            ],
            "label": "&#9654;",
            "method": "animate"
           },
           {
            "args": [
             [
              null
             ],
             {
              "frame": {
               "duration": 0,
               "redraw": true
              },
              "fromcurrent": true,
              "mode": "immediate",
              "transition": {
               "duration": 0,
               "easing": "linear"
              }
             }
            ],
            "label": "&#9724;",
            "method": "animate"
           }
          ],
          "direction": "left",
          "pad": {
           "r": 10,
           "t": 70
          },
          "showactive": false,
          "type": "buttons",
          "x": 0.1,
          "xanchor": "right",
          "y": 0,
          "yanchor": "top"
         }
        ]
       }
      }
     },
     "metadata": {},
     "output_type": "display_data"
    }
   ],
   "source": [
    "#plot co2 emissions on px.scatter_geo\n",
    "px.scatter_geo(data,locations='Country', locationmode='country names',size='CO2 Emissions (metric tons per capita)',color='CO2 Emissions (metric tons per capita)',animation_frame='Year',title='CO2 Emissions by Country')\n"
   ]
  },
  {
   "cell_type": "code",
   "execution_count": 102,
   "metadata": {},
   "outputs": [
    {
     "data": {
      "application/vnd.plotly.v1+json": {
       "config": {
        "plotlyServerURL": "https://plot.ly"
       },
       "data": [
        {
         "geo": "geo",
         "hovertemplate": "Year=2010<br>Access to Electricity (%)=%{marker.color}<br>Country=%{location}<extra></extra>",
         "legendgroup": "",
         "locationmode": "country names",
         "locations": [
          "Brazil",
          "Canada",
          "Saudi Arabia",
          "United States",
          "China",
          "Italy",
          "Australia",
          "South Africa",
          "Argentina",
          "Japan",
          "Germany",
          "India"
         ],
         "marker": {
          "color": [
           76.76,
           59.87,
           59.27,
           97.58,
           50.12,
           89.1,
           71.73,
           98.98,
           75.5,
           71.12,
           60.41,
           65.9
          ],
          "coloraxis": "coloraxis",
          "size": [
           76.76,
           59.87,
           59.27,
           97.58,
           50.12,
           89.1,
           71.73,
           98.98,
           75.5,
           71.12,
           60.41,
           65.9
          ],
          "sizemode": "area",
          "sizeref": 0.2494,
          "symbol": "circle"
         },
         "mode": "markers",
         "name": "",
         "showlegend": false,
         "type": "scattergeo"
        }
       ],
       "frames": [
        {
         "data": [
          {
           "geo": "geo",
           "hovertemplate": "Year=2010<br>Access to Electricity (%)=%{marker.color}<br>Country=%{location}<extra></extra>",
           "legendgroup": "",
           "locationmode": "country names",
           "locations": [
            "Brazil",
            "Canada",
            "Saudi Arabia",
            "United States",
            "China",
            "Italy",
            "Australia",
            "South Africa",
            "Argentina",
            "Japan",
            "Germany",
            "India"
           ],
           "marker": {
            "color": [
             76.76,
             59.87,
             59.27,
             97.58,
             50.12,
             89.1,
             71.73,
             98.98,
             75.5,
             71.12,
             60.41,
             65.9
            ],
            "coloraxis": "coloraxis",
            "size": [
             76.76,
             59.87,
             59.27,
             97.58,
             50.12,
             89.1,
             71.73,
             98.98,
             75.5,
             71.12,
             60.41,
             65.9
            ],
            "sizemode": "area",
            "sizeref": 0.2494,
            "symbol": "circle"
           },
           "mode": "markers",
           "name": "",
           "showlegend": false,
           "type": "scattergeo"
          }
         ],
         "name": "2010"
        },
        {
         "data": [
          {
           "geo": "geo",
           "hovertemplate": "Year=2011<br>Access to Electricity (%)=%{marker.color}<br>Country=%{location}<extra></extra>",
           "legendgroup": "",
           "locationmode": "country names",
           "locations": [
            "Japan",
            "Argentina",
            "Russia",
            "United Kingdom",
            "Indonesia",
            "Canada",
            "India",
            "China",
            "Saudi Arabia",
            "Australia",
            "Nigeria",
            "Italy",
            "Mexico",
            "Germany",
            "Turkey"
           ],
           "marker": {
            "color": [
             67.86,
             71.43,
             82.59,
             68.85,
             76.75,
             56.49,
             68.87,
             57.07,
             90.89,
             66.48,
             51.4,
             51.3,
             50.23,
             98.59,
             79.16
            ],
            "coloraxis": "coloraxis",
            "size": [
             67.86,
             71.43,
             82.59,
             68.85,
             76.75,
             56.49,
             68.87,
             57.07,
             90.89,
             66.48,
             51.4,
             51.3,
             50.23,
             98.59,
             79.16
            ],
            "sizemode": "area",
            "sizeref": 0.2494,
            "symbol": "circle"
           },
           "mode": "markers",
           "name": "",
           "showlegend": false,
           "type": "scattergeo"
          }
         ],
         "name": "2011"
        },
        {
         "data": [
          {
           "geo": "geo",
           "hovertemplate": "Year=2012<br>Access to Electricity (%)=%{marker.color}<br>Country=%{location}<extra></extra>",
           "legendgroup": "",
           "locationmode": "country names",
           "locations": [
            "India",
            "France",
            "Nigeria",
            "United States",
            "United Kingdom",
            "South Africa",
            "Russia",
            "Argentina",
            "Turkey",
            "Indonesia"
           ],
           "marker": {
            "color": [
             81.08,
             56.94,
             86.8,
             63.82,
             59.37,
             68.9,
             68.38,
             86.29,
             72.47,
             74.34
            ],
            "coloraxis": "coloraxis",
            "size": [
             81.08,
             56.94,
             86.8,
             63.82,
             59.37,
             68.9,
             68.38,
             86.29,
             72.47,
             74.34
            ],
            "sizemode": "area",
            "sizeref": 0.2494,
            "symbol": "circle"
           },
           "mode": "markers",
           "name": "",
           "showlegend": false,
           "type": "scattergeo"
          }
         ],
         "name": "2012"
        },
        {
         "data": [
          {
           "geo": "geo",
           "hovertemplate": "Year=2013<br>Access to Electricity (%)=%{marker.color}<br>Country=%{location}<extra></extra>",
           "legendgroup": "",
           "locationmode": "country names",
           "locations": [
            "Mexico",
            "Nigeria",
            "China",
            "Brazil",
            "Italy",
            "Russia",
            "United Kingdom",
            "United States",
            "South Korea",
            "Germany",
            "Turkey",
            "Canada",
            "Indonesia",
            "France"
           ],
           "marker": {
            "color": [
             53.46,
             98.22,
             57.82,
             65.49,
             89.96,
             52.82,
             56.06,
             60.03,
             92.82,
             70.38,
             60.73,
             51.55,
             86.41,
             63.8
            ],
            "coloraxis": "coloraxis",
            "size": [
             53.46,
             98.22,
             57.82,
             65.49,
             89.96,
             52.82,
             56.06,
             60.03,
             92.82,
             70.38,
             60.73,
             51.55,
             86.41,
             63.8
            ],
            "sizemode": "area",
            "sizeref": 0.2494,
            "symbol": "circle"
           },
           "mode": "markers",
           "name": "",
           "showlegend": false,
           "type": "scattergeo"
          }
         ],
         "name": "2013"
        },
        {
         "data": [
          {
           "geo": "geo",
           "hovertemplate": "Year=2014<br>Access to Electricity (%)=%{marker.color}<br>Country=%{location}<extra></extra>",
           "legendgroup": "",
           "locationmode": "country names",
           "locations": [
            "India",
            "Italy",
            "United States",
            "Nigeria",
            "Brazil",
            "Indonesia",
            "South Africa",
            "France",
            "Canada",
            "Mexico",
            "Russia",
            "Germany"
           ],
           "marker": {
            "color": [
             82.17,
             68.43,
             90.13,
             97.79,
             98.84,
             71.07,
             91.38,
             65.16,
             70.18,
             79.03,
             86.32,
             67.18
            ],
            "coloraxis": "coloraxis",
            "size": [
             82.17,
             68.43,
             90.13,
             97.79,
             98.84,
             71.07,
             91.38,
             65.16,
             70.18,
             79.03,
             86.32,
             67.18
            ],
            "sizemode": "area",
            "sizeref": 0.2494,
            "symbol": "circle"
           },
           "mode": "markers",
           "name": "",
           "showlegend": false,
           "type": "scattergeo"
          }
         ],
         "name": "2014"
        },
        {
         "data": [
          {
           "geo": "geo",
           "hovertemplate": "Year=2015<br>Access to Electricity (%)=%{marker.color}<br>Country=%{location}<extra></extra>",
           "legendgroup": "",
           "locationmode": "country names",
           "locations": [
            "United Kingdom",
            "Indonesia",
            "Argentina",
            "Italy",
            "China",
            "India",
            "Nigeria",
            "Germany",
            "Russia",
            "Japan",
            "South Africa",
            "Canada",
            "Brazil"
           ],
           "marker": {
            "color": [
             64.48,
             99.76,
             59.42,
             69.9,
             78.31,
             66.19,
             64.12,
             50.3,
             67.94,
             76,
             80.64,
             62.87,
             68.19
            ],
            "coloraxis": "coloraxis",
            "size": [
             64.48,
             99.76,
             59.42,
             69.9,
             78.31,
             66.19,
             64.12,
             50.3,
             67.94,
             76,
             80.64,
             62.87,
             68.19
            ],
            "sizemode": "area",
            "sizeref": 0.2494,
            "symbol": "circle"
           },
           "mode": "markers",
           "name": "",
           "showlegend": false,
           "type": "scattergeo"
          }
         ],
         "name": "2015"
        },
        {
         "data": [
          {
           "geo": "geo",
           "hovertemplate": "Year=2016<br>Access to Electricity (%)=%{marker.color}<br>Country=%{location}<extra></extra>",
           "legendgroup": "",
           "locationmode": "country names",
           "locations": [
            "China",
            "Turkey",
            "Germany",
            "Saudi Arabia",
            "India",
            "Canada",
            "South Korea",
            "Australia",
            "United Kingdom",
            "Argentina",
            "Russia",
            "Indonesia",
            "South Africa"
           ],
           "marker": {
            "color": [
             78.46,
             65.68,
             72.79,
             55.19,
             58.97,
             79.49,
             96.05,
             99.49,
             62.63,
             89.38,
             95.76,
             87.7,
             90.78
            ],
            "coloraxis": "coloraxis",
            "size": [
             78.46,
             65.68,
             72.79,
             55.19,
             58.97,
             79.49,
             96.05,
             99.49,
             62.63,
             89.38,
             95.76,
             87.7,
             90.78
            ],
            "sizemode": "area",
            "sizeref": 0.2494,
            "symbol": "circle"
           },
           "mode": "markers",
           "name": "",
           "showlegend": false,
           "type": "scattergeo"
          }
         ],
         "name": "2016"
        },
        {
         "data": [
          {
           "geo": "geo",
           "hovertemplate": "Year=2017<br>Access to Electricity (%)=%{marker.color}<br>Country=%{location}<extra></extra>",
           "legendgroup": "",
           "locationmode": "country names",
           "locations": [
            "Indonesia",
            "Saudi Arabia",
            "Italy",
            "South Korea",
            "United States",
            "Nigeria",
            "Mexico",
            "Canada",
            "Japan",
            "Germany",
            "South Africa",
            "Turkey",
            "France",
            "Argentina"
           ],
           "marker": {
            "color": [
             61.41,
             59.02,
             58.46,
             64.8,
             99.02,
             80.87,
             73.88,
             93.54,
             54.58,
             96.99,
             67.34,
             58.39,
             65.52,
             93.07
            ],
            "coloraxis": "coloraxis",
            "size": [
             61.41,
             59.02,
             58.46,
             64.8,
             99.02,
             80.87,
             73.88,
             93.54,
             54.58,
             96.99,
             67.34,
             58.39,
             65.52,
             93.07
            ],
            "sizemode": "area",
            "sizeref": 0.2494,
            "symbol": "circle"
           },
           "mode": "markers",
           "name": "",
           "showlegend": false,
           "type": "scattergeo"
          }
         ],
         "name": "2017"
        },
        {
         "data": [
          {
           "geo": "geo",
           "hovertemplate": "Year=2018<br>Access to Electricity (%)=%{marker.color}<br>Country=%{location}<extra></extra>",
           "legendgroup": "",
           "locationmode": "country names",
           "locations": [
            "United Kingdom",
            "Nigeria",
            "Mexico",
            "Australia",
            "China",
            "France",
            "Japan",
            "India",
            "Saudi Arabia",
            "South Africa",
            "South Korea",
            "Argentina",
            "Canada"
           ],
           "marker": {
            "color": [
             98.05,
             89.47,
             88.9,
             86.12,
             75.8,
             97.42,
             56.25,
             60.83,
             88.74,
             84.2,
             97.1,
             78.62,
             59.21
            ],
            "coloraxis": "coloraxis",
            "size": [
             98.05,
             89.47,
             88.9,
             86.12,
             75.8,
             97.42,
             56.25,
             60.83,
             88.74,
             84.2,
             97.1,
             78.62,
             59.21
            ],
            "sizemode": "area",
            "sizeref": 0.2494,
            "symbol": "circle"
           },
           "mode": "markers",
           "name": "",
           "showlegend": false,
           "type": "scattergeo"
          }
         ],
         "name": "2018"
        },
        {
         "data": [
          {
           "geo": "geo",
           "hovertemplate": "Year=2019<br>Access to Electricity (%)=%{marker.color}<br>Country=%{location}<extra></extra>",
           "legendgroup": "",
           "locationmode": "country names",
           "locations": [
            "India",
            "Saudi Arabia",
            "United Kingdom",
            "Brazil",
            "France",
            "United States",
            "Nigeria",
            "Indonesia",
            "Italy",
            "Turkey",
            "Japan",
            "Canada",
            "Argentina"
           ],
           "marker": {
            "color": [
             92.8,
             66.31,
             58.83,
             57,
             55.68,
             72.17,
             57.83,
             85.13,
             55.19,
             59.65,
             72.7,
             61.95,
             51.05
            ],
            "coloraxis": "coloraxis",
            "size": [
             92.8,
             66.31,
             58.83,
             57,
             55.68,
             72.17,
             57.83,
             85.13,
             55.19,
             59.65,
             72.7,
             61.95,
             51.05
            ],
            "sizemode": "area",
            "sizeref": 0.2494,
            "symbol": "circle"
           },
           "mode": "markers",
           "name": "",
           "showlegend": false,
           "type": "scattergeo"
          }
         ],
         "name": "2019"
        }
       ],
       "layout": {
        "coloraxis": {
         "colorbar": {
          "title": {
           "text": "Access to Electricity (%)"
          }
         },
         "colorscale": [
          [
           0,
           "#0d0887"
          ],
          [
           0.1111111111111111,
           "#46039f"
          ],
          [
           0.2222222222222222,
           "#7201a8"
          ],
          [
           0.3333333333333333,
           "#9c179e"
          ],
          [
           0.4444444444444444,
           "#bd3786"
          ],
          [
           0.5555555555555556,
           "#d8576b"
          ],
          [
           0.6666666666666666,
           "#ed7953"
          ],
          [
           0.7777777777777778,
           "#fb9f3a"
          ],
          [
           0.8888888888888888,
           "#fdca26"
          ],
          [
           1,
           "#f0f921"
          ]
         ]
        },
        "geo": {
         "center": {},
         "domain": {
          "x": [
           0,
           1
          ],
          "y": [
           0,
           1
          ]
         }
        },
        "legend": {
         "itemsizing": "constant",
         "tracegroupgap": 0
        },
        "sliders": [
         {
          "active": 0,
          "currentvalue": {
           "prefix": "Year="
          },
          "len": 0.9,
          "pad": {
           "b": 10,
           "t": 60
          },
          "steps": [
           {
            "args": [
             [
              "2010"
             ],
             {
              "frame": {
               "duration": 0,
               "redraw": true
              },
              "fromcurrent": true,
              "mode": "immediate",
              "transition": {
               "duration": 0,
               "easing": "linear"
              }
             }
            ],
            "label": "2010",
            "method": "animate"
           },
           {
            "args": [
             [
              "2011"
             ],
             {
              "frame": {
               "duration": 0,
               "redraw": true
              },
              "fromcurrent": true,
              "mode": "immediate",
              "transition": {
               "duration": 0,
               "easing": "linear"
              }
             }
            ],
            "label": "2011",
            "method": "animate"
           },
           {
            "args": [
             [
              "2012"
             ],
             {
              "frame": {
               "duration": 0,
               "redraw": true
              },
              "fromcurrent": true,
              "mode": "immediate",
              "transition": {
               "duration": 0,
               "easing": "linear"
              }
             }
            ],
            "label": "2012",
            "method": "animate"
           },
           {
            "args": [
             [
              "2013"
             ],
             {
              "frame": {
               "duration": 0,
               "redraw": true
              },
              "fromcurrent": true,
              "mode": "immediate",
              "transition": {
               "duration": 0,
               "easing": "linear"
              }
             }
            ],
            "label": "2013",
            "method": "animate"
           },
           {
            "args": [
             [
              "2014"
             ],
             {
              "frame": {
               "duration": 0,
               "redraw": true
              },
              "fromcurrent": true,
              "mode": "immediate",
              "transition": {
               "duration": 0,
               "easing": "linear"
              }
             }
            ],
            "label": "2014",
            "method": "animate"
           },
           {
            "args": [
             [
              "2015"
             ],
             {
              "frame": {
               "duration": 0,
               "redraw": true
              },
              "fromcurrent": true,
              "mode": "immediate",
              "transition": {
               "duration": 0,
               "easing": "linear"
              }
             }
            ],
            "label": "2015",
            "method": "animate"
           },
           {
            "args": [
             [
              "2016"
             ],
             {
              "frame": {
               "duration": 0,
               "redraw": true
              },
              "fromcurrent": true,
              "mode": "immediate",
              "transition": {
               "duration": 0,
               "easing": "linear"
              }
             }
            ],
            "label": "2016",
            "method": "animate"
           },
           {
            "args": [
             [
              "2017"
             ],
             {
              "frame": {
               "duration": 0,
               "redraw": true
              },
              "fromcurrent": true,
              "mode": "immediate",
              "transition": {
               "duration": 0,
               "easing": "linear"
              }
             }
            ],
            "label": "2017",
            "method": "animate"
           },
           {
            "args": [
             [
              "2018"
             ],
             {
              "frame": {
               "duration": 0,
               "redraw": true
              },
              "fromcurrent": true,
              "mode": "immediate",
              "transition": {
               "duration": 0,
               "easing": "linear"
              }
             }
            ],
            "label": "2018",
            "method": "animate"
           },
           {
            "args": [
             [
              "2019"
             ],
             {
              "frame": {
               "duration": 0,
               "redraw": true
              },
              "fromcurrent": true,
              "mode": "immediate",
              "transition": {
               "duration": 0,
               "easing": "linear"
              }
             }
            ],
            "label": "2019",
            "method": "animate"
           }
          ],
          "x": 0.1,
          "xanchor": "left",
          "y": 0,
          "yanchor": "top"
         }
        ],
        "template": {
         "data": {
          "bar": [
           {
            "error_x": {
             "color": "#2a3f5f"
            },
            "error_y": {
             "color": "#2a3f5f"
            },
            "marker": {
             "line": {
              "color": "#E5ECF6",
              "width": 0.5
             },
             "pattern": {
              "fillmode": "overlay",
              "size": 10,
              "solidity": 0.2
             }
            },
            "type": "bar"
           }
          ],
          "barpolar": [
           {
            "marker": {
             "line": {
              "color": "#E5ECF6",
              "width": 0.5
             },
             "pattern": {
              "fillmode": "overlay",
              "size": 10,
              "solidity": 0.2
             }
            },
            "type": "barpolar"
           }
          ],
          "carpet": [
           {
            "aaxis": {
             "endlinecolor": "#2a3f5f",
             "gridcolor": "white",
             "linecolor": "white",
             "minorgridcolor": "white",
             "startlinecolor": "#2a3f5f"
            },
            "baxis": {
             "endlinecolor": "#2a3f5f",
             "gridcolor": "white",
             "linecolor": "white",
             "minorgridcolor": "white",
             "startlinecolor": "#2a3f5f"
            },
            "type": "carpet"
           }
          ],
          "choropleth": [
           {
            "colorbar": {
             "outlinewidth": 0,
             "ticks": ""
            },
            "type": "choropleth"
           }
          ],
          "contour": [
           {
            "colorbar": {
             "outlinewidth": 0,
             "ticks": ""
            },
            "colorscale": [
             [
              0,
              "#0d0887"
             ],
             [
              0.1111111111111111,
              "#46039f"
             ],
             [
              0.2222222222222222,
              "#7201a8"
             ],
             [
              0.3333333333333333,
              "#9c179e"
             ],
             [
              0.4444444444444444,
              "#bd3786"
             ],
             [
              0.5555555555555556,
              "#d8576b"
             ],
             [
              0.6666666666666666,
              "#ed7953"
             ],
             [
              0.7777777777777778,
              "#fb9f3a"
             ],
             [
              0.8888888888888888,
              "#fdca26"
             ],
             [
              1,
              "#f0f921"
             ]
            ],
            "type": "contour"
           }
          ],
          "contourcarpet": [
           {
            "colorbar": {
             "outlinewidth": 0,
             "ticks": ""
            },
            "type": "contourcarpet"
           }
          ],
          "heatmap": [
           {
            "colorbar": {
             "outlinewidth": 0,
             "ticks": ""
            },
            "colorscale": [
             [
              0,
              "#0d0887"
             ],
             [
              0.1111111111111111,
              "#46039f"
             ],
             [
              0.2222222222222222,
              "#7201a8"
             ],
             [
              0.3333333333333333,
              "#9c179e"
             ],
             [
              0.4444444444444444,
              "#bd3786"
             ],
             [
              0.5555555555555556,
              "#d8576b"
             ],
             [
              0.6666666666666666,
              "#ed7953"
             ],
             [
              0.7777777777777778,
              "#fb9f3a"
             ],
             [
              0.8888888888888888,
              "#fdca26"
             ],
             [
              1,
              "#f0f921"
             ]
            ],
            "type": "heatmap"
           }
          ],
          "heatmapgl": [
           {
            "colorbar": {
             "outlinewidth": 0,
             "ticks": ""
            },
            "colorscale": [
             [
              0,
              "#0d0887"
             ],
             [
              0.1111111111111111,
              "#46039f"
             ],
             [
              0.2222222222222222,
              "#7201a8"
             ],
             [
              0.3333333333333333,
              "#9c179e"
             ],
             [
              0.4444444444444444,
              "#bd3786"
             ],
             [
              0.5555555555555556,
              "#d8576b"
             ],
             [
              0.6666666666666666,
              "#ed7953"
             ],
             [
              0.7777777777777778,
              "#fb9f3a"
             ],
             [
              0.8888888888888888,
              "#fdca26"
             ],
             [
              1,
              "#f0f921"
             ]
            ],
            "type": "heatmapgl"
           }
          ],
          "histogram": [
           {
            "marker": {
             "pattern": {
              "fillmode": "overlay",
              "size": 10,
              "solidity": 0.2
             }
            },
            "type": "histogram"
           }
          ],
          "histogram2d": [
           {
            "colorbar": {
             "outlinewidth": 0,
             "ticks": ""
            },
            "colorscale": [
             [
              0,
              "#0d0887"
             ],
             [
              0.1111111111111111,
              "#46039f"
             ],
             [
              0.2222222222222222,
              "#7201a8"
             ],
             [
              0.3333333333333333,
              "#9c179e"
             ],
             [
              0.4444444444444444,
              "#bd3786"
             ],
             [
              0.5555555555555556,
              "#d8576b"
             ],
             [
              0.6666666666666666,
              "#ed7953"
             ],
             [
              0.7777777777777778,
              "#fb9f3a"
             ],
             [
              0.8888888888888888,
              "#fdca26"
             ],
             [
              1,
              "#f0f921"
             ]
            ],
            "type": "histogram2d"
           }
          ],
          "histogram2dcontour": [
           {
            "colorbar": {
             "outlinewidth": 0,
             "ticks": ""
            },
            "colorscale": [
             [
              0,
              "#0d0887"
             ],
             [
              0.1111111111111111,
              "#46039f"
             ],
             [
              0.2222222222222222,
              "#7201a8"
             ],
             [
              0.3333333333333333,
              "#9c179e"
             ],
             [
              0.4444444444444444,
              "#bd3786"
             ],
             [
              0.5555555555555556,
              "#d8576b"
             ],
             [
              0.6666666666666666,
              "#ed7953"
             ],
             [
              0.7777777777777778,
              "#fb9f3a"
             ],
             [
              0.8888888888888888,
              "#fdca26"
             ],
             [
              1,
              "#f0f921"
             ]
            ],
            "type": "histogram2dcontour"
           }
          ],
          "mesh3d": [
           {
            "colorbar": {
             "outlinewidth": 0,
             "ticks": ""
            },
            "type": "mesh3d"
           }
          ],
          "parcoords": [
           {
            "line": {
             "colorbar": {
              "outlinewidth": 0,
              "ticks": ""
             }
            },
            "type": "parcoords"
           }
          ],
          "pie": [
           {
            "automargin": true,
            "type": "pie"
           }
          ],
          "scatter": [
           {
            "fillpattern": {
             "fillmode": "overlay",
             "size": 10,
             "solidity": 0.2
            },
            "type": "scatter"
           }
          ],
          "scatter3d": [
           {
            "line": {
             "colorbar": {
              "outlinewidth": 0,
              "ticks": ""
             }
            },
            "marker": {
             "colorbar": {
              "outlinewidth": 0,
              "ticks": ""
             }
            },
            "type": "scatter3d"
           }
          ],
          "scattercarpet": [
           {
            "marker": {
             "colorbar": {
              "outlinewidth": 0,
              "ticks": ""
             }
            },
            "type": "scattercarpet"
           }
          ],
          "scattergeo": [
           {
            "marker": {
             "colorbar": {
              "outlinewidth": 0,
              "ticks": ""
             }
            },
            "type": "scattergeo"
           }
          ],
          "scattergl": [
           {
            "marker": {
             "colorbar": {
              "outlinewidth": 0,
              "ticks": ""
             }
            },
            "type": "scattergl"
           }
          ],
          "scattermapbox": [
           {
            "marker": {
             "colorbar": {
              "outlinewidth": 0,
              "ticks": ""
             }
            },
            "type": "scattermapbox"
           }
          ],
          "scatterpolar": [
           {
            "marker": {
             "colorbar": {
              "outlinewidth": 0,
              "ticks": ""
             }
            },
            "type": "scatterpolar"
           }
          ],
          "scatterpolargl": [
           {
            "marker": {
             "colorbar": {
              "outlinewidth": 0,
              "ticks": ""
             }
            },
            "type": "scatterpolargl"
           }
          ],
          "scatterternary": [
           {
            "marker": {
             "colorbar": {
              "outlinewidth": 0,
              "ticks": ""
             }
            },
            "type": "scatterternary"
           }
          ],
          "surface": [
           {
            "colorbar": {
             "outlinewidth": 0,
             "ticks": ""
            },
            "colorscale": [
             [
              0,
              "#0d0887"
             ],
             [
              0.1111111111111111,
              "#46039f"
             ],
             [
              0.2222222222222222,
              "#7201a8"
             ],
             [
              0.3333333333333333,
              "#9c179e"
             ],
             [
              0.4444444444444444,
              "#bd3786"
             ],
             [
              0.5555555555555556,
              "#d8576b"
             ],
             [
              0.6666666666666666,
              "#ed7953"
             ],
             [
              0.7777777777777778,
              "#fb9f3a"
             ],
             [
              0.8888888888888888,
              "#fdca26"
             ],
             [
              1,
              "#f0f921"
             ]
            ],
            "type": "surface"
           }
          ],
          "table": [
           {
            "cells": {
             "fill": {
              "color": "#EBF0F8"
             },
             "line": {
              "color": "white"
             }
            },
            "header": {
             "fill": {
              "color": "#C8D4E3"
             },
             "line": {
              "color": "white"
             }
            },
            "type": "table"
           }
          ]
         },
         "layout": {
          "annotationdefaults": {
           "arrowcolor": "#2a3f5f",
           "arrowhead": 0,
           "arrowwidth": 1
          },
          "autotypenumbers": "strict",
          "coloraxis": {
           "colorbar": {
            "outlinewidth": 0,
            "ticks": ""
           }
          },
          "colorscale": {
           "diverging": [
            [
             0,
             "#8e0152"
            ],
            [
             0.1,
             "#c51b7d"
            ],
            [
             0.2,
             "#de77ae"
            ],
            [
             0.3,
             "#f1b6da"
            ],
            [
             0.4,
             "#fde0ef"
            ],
            [
             0.5,
             "#f7f7f7"
            ],
            [
             0.6,
             "#e6f5d0"
            ],
            [
             0.7,
             "#b8e186"
            ],
            [
             0.8,
             "#7fbc41"
            ],
            [
             0.9,
             "#4d9221"
            ],
            [
             1,
             "#276419"
            ]
           ],
           "sequential": [
            [
             0,
             "#0d0887"
            ],
            [
             0.1111111111111111,
             "#46039f"
            ],
            [
             0.2222222222222222,
             "#7201a8"
            ],
            [
             0.3333333333333333,
             "#9c179e"
            ],
            [
             0.4444444444444444,
             "#bd3786"
            ],
            [
             0.5555555555555556,
             "#d8576b"
            ],
            [
             0.6666666666666666,
             "#ed7953"
            ],
            [
             0.7777777777777778,
             "#fb9f3a"
            ],
            [
             0.8888888888888888,
             "#fdca26"
            ],
            [
             1,
             "#f0f921"
            ]
           ],
           "sequentialminus": [
            [
             0,
             "#0d0887"
            ],
            [
             0.1111111111111111,
             "#46039f"
            ],
            [
             0.2222222222222222,
             "#7201a8"
            ],
            [
             0.3333333333333333,
             "#9c179e"
            ],
            [
             0.4444444444444444,
             "#bd3786"
            ],
            [
             0.5555555555555556,
             "#d8576b"
            ],
            [
             0.6666666666666666,
             "#ed7953"
            ],
            [
             0.7777777777777778,
             "#fb9f3a"
            ],
            [
             0.8888888888888888,
             "#fdca26"
            ],
            [
             1,
             "#f0f921"
            ]
           ]
          },
          "colorway": [
           "#636efa",
           "#EF553B",
           "#00cc96",
           "#ab63fa",
           "#FFA15A",
           "#19d3f3",
           "#FF6692",
           "#B6E880",
           "#FF97FF",
           "#FECB52"
          ],
          "font": {
           "color": "#2a3f5f"
          },
          "geo": {
           "bgcolor": "white",
           "lakecolor": "white",
           "landcolor": "#E5ECF6",
           "showlakes": true,
           "showland": true,
           "subunitcolor": "white"
          },
          "hoverlabel": {
           "align": "left"
          },
          "hovermode": "closest",
          "mapbox": {
           "style": "light"
          },
          "paper_bgcolor": "white",
          "plot_bgcolor": "#E5ECF6",
          "polar": {
           "angularaxis": {
            "gridcolor": "white",
            "linecolor": "white",
            "ticks": ""
           },
           "bgcolor": "#E5ECF6",
           "radialaxis": {
            "gridcolor": "white",
            "linecolor": "white",
            "ticks": ""
           }
          },
          "scene": {
           "xaxis": {
            "backgroundcolor": "#E5ECF6",
            "gridcolor": "white",
            "gridwidth": 2,
            "linecolor": "white",
            "showbackground": true,
            "ticks": "",
            "zerolinecolor": "white"
           },
           "yaxis": {
            "backgroundcolor": "#E5ECF6",
            "gridcolor": "white",
            "gridwidth": 2,
            "linecolor": "white",
            "showbackground": true,
            "ticks": "",
            "zerolinecolor": "white"
           },
           "zaxis": {
            "backgroundcolor": "#E5ECF6",
            "gridcolor": "white",
            "gridwidth": 2,
            "linecolor": "white",
            "showbackground": true,
            "ticks": "",
            "zerolinecolor": "white"
           }
          },
          "shapedefaults": {
           "line": {
            "color": "#2a3f5f"
           }
          },
          "ternary": {
           "aaxis": {
            "gridcolor": "white",
            "linecolor": "white",
            "ticks": ""
           },
           "baxis": {
            "gridcolor": "white",
            "linecolor": "white",
            "ticks": ""
           },
           "bgcolor": "#E5ECF6",
           "caxis": {
            "gridcolor": "white",
            "linecolor": "white",
            "ticks": ""
           }
          },
          "title": {
           "x": 0.05
          },
          "xaxis": {
           "automargin": true,
           "gridcolor": "white",
           "linecolor": "white",
           "ticks": "",
           "title": {
            "standoff": 15
           },
           "zerolinecolor": "white",
           "zerolinewidth": 2
          },
          "yaxis": {
           "automargin": true,
           "gridcolor": "white",
           "linecolor": "white",
           "ticks": "",
           "title": {
            "standoff": 15
           },
           "zerolinecolor": "white",
           "zerolinewidth": 2
          }
         }
        },
        "title": {
         "text": "Access to Electricity by Country"
        },
        "updatemenus": [
         {
          "buttons": [
           {
            "args": [
             null,
             {
              "frame": {
               "duration": 500,
               "redraw": true
              },
              "fromcurrent": true,
              "mode": "immediate",
              "transition": {
               "duration": 500,
               "easing": "linear"
              }
             }
            ],
            "label": "&#9654;",
            "method": "animate"
           },
           {
            "args": [
             [
              null
             ],
             {
              "frame": {
               "duration": 0,
               "redraw": true
              },
              "fromcurrent": true,
              "mode": "immediate",
              "transition": {
               "duration": 0,
               "easing": "linear"
              }
             }
            ],
            "label": "&#9724;",
            "method": "animate"
           }
          ],
          "direction": "left",
          "pad": {
           "r": 10,
           "t": 70
          },
          "showactive": false,
          "type": "buttons",
          "x": 0.1,
          "xanchor": "right",
          "y": 0,
          "yanchor": "top"
         }
        ]
       }
      }
     },
     "metadata": {},
     "output_type": "display_data"
    }
   ],
   "source": [
    "#plot access to electricity on px.scatter_geo\n",
    "px.scatter_geo(data,locations='Country', locationmode='country names',size='Access to Electricity (%)',color='Access to Electricity (%)',animation_frame='Year',title='Access to Electricity by Country')\n",
    "\n"
   ]
  }
 ],
 "metadata": {
  "kernelspec": {
   "display_name": "mypython3",
   "language": "python",
   "name": "python3"
  },
  "language_info": {
   "codemirror_mode": {
    "name": "ipython",
    "version": 3
   },
   "file_extension": ".py",
   "mimetype": "text/x-python",
   "name": "python",
   "nbconvert_exporter": "python",
   "pygments_lexer": "ipython3",
   "version": "3.11.7"
  }
 },
 "nbformat": 4,
 "nbformat_minor": 2
}
